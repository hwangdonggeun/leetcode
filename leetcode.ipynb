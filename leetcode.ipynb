{
  "nbformat": 4,
  "nbformat_minor": 0,
  "metadata": {
    "colab": {
      "provenance": [],
      "authorship_tag": "ABX9TyO0aSf07pIUcE8rNtToIClE",
      "include_colab_link": true
    },
    "kernelspec": {
      "name": "python3",
      "display_name": "Python 3"
    },
    "language_info": {
      "name": "python"
    }
  },
  "cells": [
    {
      "cell_type": "markdown",
      "metadata": {
        "id": "view-in-github",
        "colab_type": "text"
      },
      "source": [
        "<a href=\"https://colab.research.google.com/github/hwangdonggeun/leetcode/blob/main/leetcode.ipynb\" target=\"_parent\"><img src=\"https://colab.research.google.com/assets/colab-badge.svg\" alt=\"Open In Colab\"/></a>"
      ]
    },
    {
      "cell_type": "markdown",
      "source": [
        "1. Two Sum\n"
      ],
      "metadata": {
        "id": "Gz-4lTMcOYNP"
      }
    },
    {
      "cell_type": "code",
      "execution_count": 1,
      "metadata": {
        "id": "u-nWzBUJMC-O"
      },
      "outputs": [],
      "source": [
        "class Solution:\n",
        "    def twoSum(self, nums, target):\n",
        "        num_to_index = {}\n",
        "        for index, num in enumerate(nums):\n",
        "            complement = target - num\n",
        "            if complement in num_to_index:\n",
        "                return [num_to_index[complement], index]\n",
        "            num_to_index[num] = index"
      ]
    },
    {
      "cell_type": "markdown",
      "source": [
        "3. Longest Substring Without Repeating Characters"
      ],
      "metadata": {
        "id": "F9Hl6Dw5OTq_"
      }
    },
    {
      "cell_type": "code",
      "source": [
        "class Solution:\n",
        "    def lengthOfLongestSubstring(self, s: str) -> int:\n",
        "        char_map = {}\n",
        "        left = 0\n",
        "        max_length = 0\n",
        "\n",
        "        for right in range(len(s)):\n",
        "            if s[right] in char_map:\n",
        "                left = max(left, char_map[s[right]] + 1)\n",
        "            char_map[s[right]] = right\n",
        "            max_length = max(max_length, right - left + 1)\n",
        "\n",
        "        return max_length\n"
      ],
      "metadata": {
        "id": "itFPtNFdNu6E"
      },
      "execution_count": 2,
      "outputs": []
    },
    {
      "cell_type": "markdown",
      "source": [
        "4. Median of Two Sorted Arrays"
      ],
      "metadata": {
        "id": "0E3DOCD7Od1u"
      }
    },
    {
      "cell_type": "code",
      "source": [
        "class Solution:\n",
        "    def findMedianSortedArrays(self, nums1: list[int], nums2: list[int]) -> float:\n",
        "        if len(nums1) > len(nums2):\n",
        "            nums1, nums2 = nums2, nums1\n",
        "\n",
        "        m, n = len(nums1), len(nums2)\n",
        "        imin, imax, half_len = 0, m, (m + n + 1) // 2\n",
        "\n",
        "        while imin <= imax:\n",
        "            i = (imin + imax) // 2\n",
        "            j = half_len - i\n",
        "\n",
        "            if i < m and nums1[i] < nums2[j-1]:\n",
        "                imin = i + 1\n",
        "            elif i > 0 and nums1[i-1] > nums2[j]:\n",
        "                imax = i - 1\n",
        "            else:\n",
        "                if i == 0: max_of_left = nums2[j-1]\n",
        "                elif j == 0: max_of_left = nums1[i-1]\n",
        "                else: max_of_left = max(nums1[i-1], nums2[j-1])\n",
        "\n",
        "                if (m + n) % 2 == 1:\n",
        "                    return max_of_left\n",
        "\n",
        "                if i == m: min_of_right = nums2[j]\n",
        "                elif j == n: min_of_right = nums1[i]\n",
        "                else: min_of_right = min(nums1[i], nums2[j])\n",
        "\n",
        "                return (max_of_left + min_of_right) / 2.0"
      ],
      "metadata": {
        "id": "QrIIw2GUOeOV"
      },
      "execution_count": null,
      "outputs": []
    },
    {
      "cell_type": "markdown",
      "source": [
        "5. Longest Palindromic Substring"
      ],
      "metadata": {
        "id": "cygG3DncSIYg"
      }
    },
    {
      "cell_type": "code",
      "source": [
        "class Solution:\n",
        "    def longestPalindrome(self, s: str) -> str:\n",
        "        if len(s) == 0:\n",
        "            return \"\"\n",
        "\n",
        "        start = 0\n",
        "        end = 0\n",
        "\n",
        "        for i in range(len(s)):\n",
        "            len1 = self.expandAroundCenter(s, i, i)\n",
        "            len2 = self.expandAroundCenter(s, i, i + 1)\n",
        "            max_len = max(len1, len2)\n",
        "\n",
        "            if max_len > end - start:\n",
        "                start = i - (max_len - 1) // 2\n",
        "                end = i + max_len // 2\n",
        "\n",
        "        return s[start:end + 1]\n",
        "\n",
        "    def expandAroundCenter(self, s, left, right):\n",
        "        while left >= 0 and right < len(s) and s[left] == s[right]:\n",
        "            left -= 1\n",
        "            right += 1\n",
        "        return right - left - 1\n"
      ],
      "metadata": {
        "id": "vRdmLiLSSOm_"
      },
      "execution_count": null,
      "outputs": []
    },
    {
      "cell_type": "markdown",
      "source": [],
      "metadata": {
        "id": "kyEVrvbJSzGa"
      }
    },
    {
      "cell_type": "code",
      "source": [],
      "metadata": {
        "id": "X8nt-X8lSzNR"
      },
      "execution_count": null,
      "outputs": []
    }
  ]
}