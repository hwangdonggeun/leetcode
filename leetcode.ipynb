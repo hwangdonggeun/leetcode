{
  "nbformat": 4,
  "nbformat_minor": 0,
  "metadata": {
    "colab": {
      "provenance": [],
      "authorship_tag": "ABX9TyPSYY5OuC/vBK7xAqppcSgE",
      "include_colab_link": true
    },
    "kernelspec": {
      "name": "python3",
      "display_name": "Python 3"
    },
    "language_info": {
      "name": "python"
    }
  },
  "cells": [
    {
      "cell_type": "markdown",
      "metadata": {
        "id": "view-in-github",
        "colab_type": "text"
      },
      "source": [
        "<a href=\"https://colab.research.google.com/github/hwangdonggeun/leetcode/blob/main/leetcode.ipynb\" target=\"_parent\"><img src=\"https://colab.research.google.com/assets/colab-badge.svg\" alt=\"Open In Colab\"/></a>"
      ]
    },
    {
      "cell_type": "markdown",
      "source": [
        "1. Two Sum\n"
      ],
      "metadata": {
        "id": "Gz-4lTMcOYNP"
      }
    },
    {
      "cell_type": "code",
      "execution_count": 1,
      "metadata": {
        "id": "u-nWzBUJMC-O"
      },
      "outputs": [],
      "source": [
        "class Solution:\n",
        "    def twoSum(self, nums, target):\n",
        "        num_to_index = {}\n",
        "        for index, num in enumerate(nums):\n",
        "            complement = target - num\n",
        "            if complement in num_to_index:\n",
        "                return [num_to_index[complement], index]\n",
        "            num_to_index[num] = index"
      ]
    },
    {
      "cell_type": "markdown",
      "source": [
        "3. Longest Substring Without Repeating Characters"
      ],
      "metadata": {
        "id": "F9Hl6Dw5OTq_"
      }
    },
    {
      "cell_type": "code",
      "source": [
        "class Solution:\n",
        "    def lengthOfLongestSubstring(self, s: str) -> int:\n",
        "        char_map = {}\n",
        "        left = 0\n",
        "        max_length = 0\n",
        "\n",
        "        for right in range(len(s)):\n",
        "            if s[right] in char_map:\n",
        "                left = max(left, char_map[s[right]] + 1)\n",
        "            char_map[s[right]] = right\n",
        "            max_length = max(max_length, right - left + 1)\n",
        "\n",
        "        return max_length\n"
      ],
      "metadata": {
        "id": "itFPtNFdNu6E"
      },
      "execution_count": 2,
      "outputs": []
    },
    {
      "cell_type": "markdown",
      "source": [],
      "metadata": {
        "id": "0E3DOCD7Od1u"
      }
    },
    {
      "cell_type": "code",
      "source": [],
      "metadata": {
        "id": "QrIIw2GUOeOV"
      },
      "execution_count": null,
      "outputs": []
    }
  ]
}