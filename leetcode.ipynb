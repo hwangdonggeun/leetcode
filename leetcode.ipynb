{
  "nbformat": 4,
  "nbformat_minor": 0,
  "metadata": {
    "colab": {
      "provenance": [],
      "authorship_tag": "ABX9TyP9Y7Y9ZC6INdrjJqx5KXTI",
      "include_colab_link": true
    },
    "kernelspec": {
      "name": "python3",
      "display_name": "Python 3"
    },
    "language_info": {
      "name": "python"
    }
  },
  "cells": [
    {
      "cell_type": "markdown",
      "metadata": {
        "id": "view-in-github",
        "colab_type": "text"
      },
      "source": [
        "<a href=\"https://colab.research.google.com/github/hwangdonggeun/leetcode/blob/main/leetcode.ipynb\" target=\"_parent\"><img src=\"https://colab.research.google.com/assets/colab-badge.svg\" alt=\"Open In Colab\"/></a>"
      ]
    },
    {
      "cell_type": "markdown",
      "source": [
        "1번"
      ],
      "metadata": {
        "id": "Gz-4lTMcOYNP"
      }
    },
    {
      "cell_type": "code",
      "execution_count": 1,
      "metadata": {
        "id": "u-nWzBUJMC-O"
      },
      "outputs": [],
      "source": [
        "class Solution:\n",
        "    def twoSum(self, nums, target):\n",
        "        num_to_index = {}\n",
        "        for index, num in enumerate(nums):\n",
        "            complement = target - num\n",
        "            if complement in num_to_index:\n",
        "                return [num_to_index[complement], index]\n",
        "            num_to_index[num] = index"
      ]
    },
    {
      "cell_type": "markdown",
      "source": [
        "3번"
      ],
      "metadata": {
        "id": "F9Hl6Dw5OTq_"
      }
    },
    {
      "cell_type": "code",
      "source": [
        "class Solution:\n",
        "    def lengthOfLongestSubstring(self, s: str) -> int:\n",
        "        char_map = {}\n",
        "        left = 0\n",
        "        max_length = 0\n",
        "\n",
        "        for right in range(len(s)):\n",
        "            if s[right] in char_map:\n",
        "                left = max(left, char_map[s[right]] + 1)\n",
        "            char_map[s[right]] = right\n",
        "            max_length = max(max_length, right - left + 1)\n",
        "\n",
        "        return max_length\n"
      ],
      "metadata": {
        "id": "itFPtNFdNu6E"
      },
      "execution_count": 2,
      "outputs": []
    },
    {
      "cell_type": "markdown",
      "source": [
        "4번"
      ],
      "metadata": {
        "id": "0E3DOCD7Od1u"
      }
    },
    {
      "cell_type": "code",
      "source": [
        "class Solution:\n",
        "    def findMedianSortedArrays(self, nums1: list[int], nums2: list[int]) -> float:\n",
        "        if len(nums1) > len(nums2):\n",
        "            nums1, nums2 = nums2, nums1\n",
        "\n",
        "        m, n = len(nums1), len(nums2)\n",
        "        imin, imax, half_len = 0, m, (m + n + 1) // 2\n",
        "\n",
        "        while imin <= imax:\n",
        "            i = (imin + imax) // 2\n",
        "            j = half_len - i\n",
        "\n",
        "            if i < m and nums1[i] < nums2[j-1]:\n",
        "                imin = i + 1\n",
        "            elif i > 0 and nums1[i-1] > nums2[j]:\n",
        "                imax = i - 1\n",
        "            else:\n",
        "                if i == 0: max_of_left = nums2[j-1]\n",
        "                elif j == 0: max_of_left = nums1[i-1]\n",
        "                else: max_of_left = max(nums1[i-1], nums2[j-1])\n",
        "\n",
        "                if (m + n) % 2 == 1:\n",
        "                    return max_of_left\n",
        "\n",
        "                if i == m: min_of_right = nums2[j]\n",
        "                elif j == n: min_of_right = nums1[i]\n",
        "                else: min_of_right = min(nums1[i], nums2[j])\n",
        "\n",
        "                return (max_of_left + min_of_right) / 2.0"
      ],
      "metadata": {
        "id": "QrIIw2GUOeOV"
      },
      "execution_count": null,
      "outputs": []
    },
    {
      "cell_type": "markdown",
      "source": [
        "5번"
      ],
      "metadata": {
        "id": "cygG3DncSIYg"
      }
    },
    {
      "cell_type": "code",
      "source": [
        "class Solution:\n",
        "    def longestPalindrome(self, s: str) -> str:\n",
        "        if len(s) == 0:\n",
        "            return \"\"\n",
        "\n",
        "        start = 0\n",
        "        end = 0\n",
        "\n",
        "        for i in range(len(s)):\n",
        "            len1 = self.expandAroundCenter(s, i, i)\n",
        "            len2 = self.expandAroundCenter(s, i, i + 1)\n",
        "            max_len = max(len1, len2)\n",
        "\n",
        "            if max_len > end - start:\n",
        "                start = i - (max_len - 1) // 2\n",
        "                end = i + max_len // 2\n",
        "\n",
        "        return s[start:end + 1]\n",
        "\n",
        "    def expandAroundCenter(self, s, left, right):\n",
        "        while left >= 0 and right < len(s) and s[left] == s[right]:\n",
        "            left -= 1\n",
        "            right += 1\n",
        "        return right - left - 1\n"
      ],
      "metadata": {
        "id": "vRdmLiLSSOm_"
      },
      "execution_count": null,
      "outputs": []
    },
    {
      "cell_type": "markdown",
      "source": [
        "6번"
      ],
      "metadata": {
        "id": "kyEVrvbJSzGa"
      }
    },
    {
      "cell_type": "code",
      "source": [
        "class Solution:\n",
        "    def convert(self, s: str, numRows: int) -> str:\n",
        "        if numRows == 1 or numRows >= len(s):\n",
        "            return s\n",
        "\n",
        "        rows = [''] * numRows\n",
        "        current_row = 0\n",
        "        going_down = False\n",
        "\n",
        "        for char in s:\n",
        "            rows[current_row] += char\n",
        "            if current_row == 0 or current_row == numRows - 1:\n",
        "                going_down = not going_down\n",
        "            current_row += 1 if going_down else -1\n",
        "\n",
        "        return ''.join(rows)\n"
      ],
      "metadata": {
        "id": "X8nt-X8lSzNR"
      },
      "execution_count": null,
      "outputs": []
    },
    {
      "cell_type": "markdown",
      "source": [
        "7번"
      ],
      "metadata": {
        "id": "UuiCUfoXUp8u"
      }
    },
    {
      "cell_type": "code",
      "source": [
        "class Solution:\n",
        "    def reverse(self, x: int) -> int:\n",
        "        sign = -1 if x < 0 else 1\n",
        "        x = abs(x)\n",
        "        reversed_x = int(str(x)[::-1])\n",
        "        result = sign * reversed_x\n",
        "        if result < -2**31 or result > 2**31 - 1:\n",
        "            return 0\n",
        "\n",
        "        return result"
      ],
      "metadata": {
        "id": "ddUeSmawUqEd"
      },
      "execution_count": null,
      "outputs": []
    },
    {
      "cell_type": "markdown",
      "source": [
        "8번"
      ],
      "metadata": {
        "id": "oy2ufNflUtiM"
      }
    },
    {
      "cell_type": "code",
      "source": [
        "class Solution:\n",
        "    def myAtoi(self, s: str) -> int:\n",
        "        i, n, sign, result = 0, len(s), 1, 0\n",
        "        INT_MAX, INT_MIN = 2**31 - 1, -2**31\n",
        "\n",
        "        while i < n and s[i] == ' ':\n",
        "            i += 1\n",
        "\n",
        "        if i < n and (s[i] == '+' or s[i] == '-'):\n",
        "            sign = -1 if s[i] == '-' else 1\n",
        "            i += 1\n",
        "\n",
        "        while i < n and s[i].isdigit():\n",
        "            digit = int(s[i])\n",
        "            if result > (INT_MAX - digit) // 10:\n",
        "                return INT_MAX if sign == 1 else INT_MIN\n",
        "            result = result * 10 + digit\n",
        "            i += 1\n",
        "\n",
        "        return sign * result\n"
      ],
      "metadata": {
        "id": "egvF5gxRUtoe"
      },
      "execution_count": null,
      "outputs": []
    },
    {
      "cell_type": "markdown",
      "source": [
        "9"
      ],
      "metadata": {
        "id": "ZeEU-gUgUxxe"
      }
    },
    {
      "cell_type": "code",
      "source": [
        "class Solution:\n",
        "    def isPalindrome(self, x: int) -> bool:\n",
        "        if x < 0:\n",
        "            return False\n",
        "\n",
        "        str_x = str(x)\n",
        "        return str_x == str_x[::-1]\n",
        "\n",
        "solution = Solution()\n"
      ],
      "metadata": {
        "id": "aSN-q_X8Ux5B"
      },
      "execution_count": null,
      "outputs": []
    },
    {
      "cell_type": "markdown",
      "source": [
        "10번"
      ],
      "metadata": {
        "id": "oyNbTtmGVN9M"
      }
    },
    {
      "cell_type": "code",
      "source": [
        "class Solution:\n",
        "    def isMatch(self, s: str, p: str) -> bool:\n",
        "        dp = [[False] * (len(p) + 1) for _ in range(len(s) + 1)]\n",
        "        dp[0][0] = True\n",
        "        for j in range(2, len(p) + 1):\n",
        "            if p[j - 1] == '*':\n",
        "                dp[0][j] = dp[0][j - 2]\n",
        "        for i in range(1, len(s) + 1):\n",
        "            for j in range(1, len(p) + 1):\n",
        "                if p[j - 1] == '*':\n",
        "                    dp[i][j] = dp[i][j - 2] or (dp[i - 1][j] and (s[i - 1] == p[j - 2] or p[j - 2] == '.'))\n",
        "                else:\n",
        "                    dp[i][j] = dp[i - 1][j - 1] and (s[i - 1] == p[j - 1] or p[j - 1] == '.')\n",
        "\n",
        "        return dp[len(s)][len(p)]\n",
        "\n",
        "solution = Solution()"
      ],
      "metadata": {
        "id": "XCckleB7VOD8"
      },
      "execution_count": null,
      "outputs": []
    },
    {
      "cell_type": "markdown",
      "source": [
        "11번"
      ],
      "metadata": {
        "id": "I1WWLyqFVRiG"
      }
    },
    {
      "cell_type": "code",
      "source": [
        "class Solution:\n",
        "    def maxArea(self, height: list[int]) -> int:\n",
        "        left, right = 0, len(height) - 1\n",
        "        max_area = 0\n",
        "\n",
        "        while left < right:\n",
        "            width = right - left\n",
        "            min_height = min(height[left], height[right])\n",
        "            current_area = width * min_height\n",
        "            max_area = max(max_area, current_area)\n",
        "            if height[left] < height[right]:\n",
        "                left += 1\n",
        "            else:\n",
        "                right -= 1\n",
        "\n",
        "        return max_area"
      ],
      "metadata": {
        "id": "IAMticYjVR3R"
      },
      "execution_count": null,
      "outputs": []
    },
    {
      "cell_type": "markdown",
      "source": [
        "12번"
      ],
      "metadata": {
        "id": "Le-089sWVoXC"
      }
    },
    {
      "cell_type": "code",
      "source": [
        "class Solution:\n",
        "    def intToRoman(self, num: int) -> str:\n",
        "        val = [\n",
        "            1000, 900, 500, 400, 100, 90,\n",
        "            50, 40, 10, 9, 5, 4, 1\n",
        "        ]\n",
        "        syms = [\n",
        "            \"M\", \"CM\", \"D\", \"CD\", \"C\", \"XC\",\n",
        "            \"L\", \"XL\", \"X\", \"IX\", \"V\", \"IV\", \"I\"\n",
        "        ]\n",
        "\n",
        "        roman_numeral = \"\"\n",
        "        i = 0\n",
        "        while num > 0:\n",
        "            for _ in range(num // val[i]):\n",
        "                roman_numeral += syms[i]\n",
        "                num -= val[i]\n",
        "            i += 1\n",
        "\n",
        "        return roman_numeral"
      ],
      "metadata": {
        "id": "GwjgUOauVprb"
      },
      "execution_count": null,
      "outputs": []
    },
    {
      "cell_type": "markdown",
      "source": [
        "13번"
      ],
      "metadata": {
        "id": "r2BlTt5aVq0F"
      }
    },
    {
      "cell_type": "code",
      "source": [
        "class Solution:\n",
        "    def romanToInt(self, s: str) -> int:\n",
        "        roman_to_int = {\n",
        "            'I': 1, 'V': 5, 'X': 10, 'L': 50,\n",
        "            'C': 100, 'D': 500, 'M': 1000\n",
        "        }\n",
        "\n",
        "        total = 0\n",
        "        prev_value = 0\n",
        "        for char in reversed(s):\n",
        "            value = roman_to_int[char]\n",
        "            if value < prev_value:\n",
        "                total -= value\n",
        "            else:\n",
        "                total += value\n",
        "            prev_value = value\n",
        "\n",
        "        return total\n",
        "\n",
        "solution = Solution()\n"
      ],
      "metadata": {
        "id": "Aevjy9h-Vs8m"
      },
      "execution_count": null,
      "outputs": []
    },
    {
      "cell_type": "markdown",
      "source": [
        "14번"
      ],
      "metadata": {
        "id": "CIQcekgSVuUu"
      }
    },
    {
      "cell_type": "code",
      "source": [
        "class Solution:\n",
        "    def longestCommonPrefix(self, strs: [str]) -> str:\n",
        "        if not strs:\n",
        "            return \"\"\n",
        "        prefix = strs[0]\n",
        "\n",
        "        for s in strs[1:]:\n",
        "            while s[:len(prefix)] != prefix and prefix:\n",
        "                prefix = prefix[:-1]\n",
        "            if not prefix:\n",
        "                return \"\"\n",
        "\n",
        "        return prefix\n",
        "\n",
        "sol = Solution()"
      ],
      "metadata": {
        "id": "pky8GQCXVyXQ"
      },
      "execution_count": null,
      "outputs": []
    },
    {
      "cell_type": "markdown",
      "source": [
        "15번"
      ],
      "metadata": {
        "id": "__eS6ASFVzE6"
      }
    },
    {
      "cell_type": "code",
      "source": [
        "class Solution:\n",
        "    def threeSum(self, nums: [int]) -> [[int]]:\n",
        "        nums.sort()\n",
        "        result = []\n",
        "        length = len(nums)\n",
        "\n",
        "        for i in range(length - 2):\n",
        "            if i > 0 and nums[i] == nums[i - 1]:\n",
        "                continue\n",
        "\n",
        "            left, right = i + 1, length - 1\n",
        "            while left < right:\n",
        "                total = nums[i] + nums[left] + nums[right]\n",
        "                if total == 0:\n",
        "                    result.append([nums[i], nums[left], nums[right]])\n",
        "                    while left < right and nums[left] == nums[left + 1]:\n",
        "                        left += 1\n",
        "                    while left < right and nums[right] == nums[right - 1]:\n",
        "                        right -= 1\n",
        "                    left += 1\n",
        "                    right -= 1\n",
        "                elif total < 0:\n",
        "                    left += 1\n",
        "                else:\n",
        "                    right -= 1\n",
        "\n",
        "        return result\n",
        "\n",
        "sol = Solution()\n"
      ],
      "metadata": {
        "id": "6-aQZZCIV2J0"
      },
      "execution_count": null,
      "outputs": []
    },
    {
      "cell_type": "markdown",
      "source": [
        "16번"
      ],
      "metadata": {
        "id": "KCbneQSgV4In"
      }
    },
    {
      "cell_type": "code",
      "source": [
        "class Solution:\n",
        "    def threeSumClosest(self, nums: [int], target: int) -> int:\n",
        "        nums.sort()\n",
        "        closest_sum = float('inf')\n",
        "        length = len(nums)\n",
        "\n",
        "        for i in range(length - 2):\n",
        "            left, right = i + 1, length - 1\n",
        "            while left < right:\n",
        "                current_sum = nums[i] + nums[left] + nums[right]\n",
        "                if abs(current_sum - target) < abs(closest_sum - target):\n",
        "                    closest_sum = current_sum\n",
        "\n",
        "                if current_sum < target:\n",
        "                    left += 1\n",
        "                elif current_sum > target:\n",
        "                    right -= 1\n",
        "                else:\n",
        "                    return current_sum\n",
        "\n",
        "        return closest_sum\n",
        "\n",
        "sol = Solution()\n"
      ],
      "metadata": {
        "id": "9pNk72KxV7d4"
      },
      "execution_count": null,
      "outputs": []
    },
    {
      "cell_type": "markdown",
      "source": [
        "17번"
      ],
      "metadata": {
        "id": "x-5GCwjaV8JG"
      }
    },
    {
      "cell_type": "code",
      "source": [
        "from typing import List\n",
        "\n",
        "class Solution:\n",
        "    def letterCombinations(self, digits: str) -> List[str]:\n",
        "        if not digits:\n",
        "            return []\n",
        "\n",
        "        phone_map = {\n",
        "            '2': 'abc', '3': 'def', '4': 'ghi', '5': 'jkl',\n",
        "            '6': 'mno', '7': 'pqrs', '8': 'tuv', '9': 'wxyz'\n",
        "        }\n",
        "\n",
        "        def backtrack(index: int, path: str):\n",
        "            if index == len(digits):\n",
        "                combinations.append(path)\n",
        "                return\n",
        "            possible_letters = phone_map[digits[index]]\n",
        "            for letter in possible_letters:\n",
        "                backtrack(index + 1, path + letter)\n",
        "\n",
        "        combinations = []\n",
        "        backtrack(0, \"\")\n",
        "        return combinations\n",
        "\n",
        "sol = Solution()\n"
      ],
      "metadata": {
        "id": "spIR4bv3WAXz"
      },
      "execution_count": null,
      "outputs": []
    },
    {
      "cell_type": "markdown",
      "source": [
        "18번"
      ],
      "metadata": {
        "id": "0UI32-ZPW5UV"
      }
    },
    {
      "cell_type": "code",
      "source": [
        "from typing import List\n",
        "\n",
        "class Solution:\n",
        "    def fourSum(self, nums: List[int], target: int) -> List[List[int]]:\n",
        "        nums.sort()\n",
        "        results = []\n",
        "        length = len(nums)\n",
        "\n",
        "        for i in range(length - 3):\n",
        "            if i > 0 and nums[i] == nums[i - 1]:\n",
        "                continue\n",
        "            for j in range(i + 1, length - 2):\n",
        "                if j > i + 1 and nums[j] == nums[j - 1]:\n",
        "                    continue\n",
        "                left, right = j + 1, length - 1\n",
        "                while left < right:\n",
        "                    total = nums[i] + nums[j] + nums[left] + nums[right]\n",
        "                    if total == target:\n",
        "                        results.append([nums[i], nums[j], nums[left], nums[right]])\n",
        "                        while left < right and nums[left] == nums[left + 1]:\n",
        "                            left += 1\n",
        "                        while left < right and nums[right] == nums[right - 1]:\n",
        "                            right -= 1\n",
        "                        left += 1\n",
        "                        right -= 1\n",
        "                    elif total < target:\n",
        "                        left += 1\n",
        "                    else:\n",
        "                        right -= 1\n",
        "\n",
        "        return results\n",
        "\n",
        "sol = Solution()\n"
      ],
      "metadata": {
        "id": "Fg4vtj7tW6FS"
      },
      "execution_count": null,
      "outputs": []
    },
    {
      "cell_type": "markdown",
      "source": [
        "20번"
      ],
      "metadata": {
        "id": "edjEXcwlW7MP"
      }
    },
    {
      "cell_type": "code",
      "source": [
        "class Solution:\n",
        "    def isValid(self, s: str) -> bool:\n",
        "        stack = []\n",
        "        mapping = {\")\": \"(\", \"}\": \"{\", \"]\": \"[\"}\n",
        "\n",
        "        for char in s:\n",
        "            if char in mapping:\n",
        "                top_element = stack.pop() if stack else '#'\n",
        "                if mapping[char] != top_element:\n",
        "                    return False\n",
        "            else:\n",
        "                stack.append(char)\n",
        "        return not stack\n",
        "\n",
        "sol = Solution()"
      ],
      "metadata": {
        "id": "ssn5aUGyW_n1"
      },
      "execution_count": null,
      "outputs": []
    },
    {
      "cell_type": "markdown",
      "source": [
        "21번"
      ],
      "metadata": {
        "id": "ScxXRWfgXCbg"
      }
    },
    {
      "cell_type": "code",
      "source": [
        "class ListNode:\n",
        "    def __init__(self, val=0, next=None):\n",
        "        self.val = val\n",
        "        self.next = next\n",
        "\n",
        "class Solution:\n",
        "    def mergeTwoLists(self, list1: ListNode, list2: ListNode) -> ListNode:\n",
        "        dummy = ListNode()\n",
        "        current = dummy\n",
        "        while list1 and list2:\n",
        "            if list1.val < list2.val:\n",
        "                current.next = list1\n",
        "                list1 = list1.next\n",
        "            else:\n",
        "                current.next = list2\n",
        "                list2 = list2.next\n",
        "            current = current.next\n",
        "        if list1:\n",
        "            current.next = list1\n",
        "        if list2:\n",
        "            current.next = list2\n",
        "        return dummy.next\n"
      ],
      "metadata": {
        "id": "tTDkHEFeXERU"
      },
      "execution_count": null,
      "outputs": []
    },
    {
      "cell_type": "markdown",
      "source": [
        "22번"
      ],
      "metadata": {
        "id": "4idFMiVAXFTF"
      }
    },
    {
      "cell_type": "code",
      "source": [
        "from typing import List\n",
        "\n",
        "class Solution:\n",
        "    def generateParentheses(self, n: int) -> List[str]:\n",
        "        def backtrack(s='', left=0, right=0):\n",
        "            if len(s) == 2 * n:\n",
        "                result.append(s)\n",
        "                return\n",
        "            if left < n:\n",
        "                backtrack(s + '(', left + 1, right)\n",
        "            if right < left:\n",
        "                backtrack(s + ')', left, right + 1)\n",
        "\n",
        "        result = []\n",
        "        backtrack()\n",
        "        return result\n"
      ],
      "metadata": {
        "id": "d-jWwx9TXJz3"
      },
      "execution_count": null,
      "outputs": []
    },
    {
      "cell_type": "markdown",
      "source": [
        "24번"
      ],
      "metadata": {
        "id": "FFA6607mXK-s"
      }
    },
    {
      "cell_type": "code",
      "source": [
        "class ListNode:\n",
        "    def __init__(self, val=0, next=None):\n",
        "        self.val = val\n",
        "        self.next = next\n",
        "\n",
        "class Solution:\n",
        "    def swapPairs(self, head: ListNode) -> ListNode:\n",
        "        dummy = ListNode(0)\n",
        "        dummy.next = head\n",
        "        current = dummy\n",
        "        while current.next and current.next.next:\n",
        "            first = current.next\n",
        "            second = current.next.next\n",
        "            first.next = second.next\n",
        "            second.next = first\n",
        "            current.next = second\n",
        "            current = first\n",
        "\n",
        "        return dummy.next\n"
      ],
      "metadata": {
        "id": "VH_VJAIoXOD-"
      },
      "execution_count": null,
      "outputs": []
    },
    {
      "cell_type": "markdown",
      "source": [
        "26번"
      ],
      "metadata": {
        "id": "Zn4oCG-5XRuh"
      }
    },
    {
      "cell_type": "code",
      "source": [
        "from typing import List\n",
        "\n",
        "class Solution:\n",
        "    def removeDuplicates(self, nums: List[int]) -> int:\n",
        "        if not nums:\n",
        "            return 0\n",
        "        unique_index = 1\n",
        "        for i in range(1, len(nums)):\n",
        "            if nums[i] != nums[i - 1]:\n",
        "                nums[unique_index] = nums[i]\n",
        "                unique_index += 1\n",
        "        return unique_index\n"
      ],
      "metadata": {
        "id": "E01FWwkwXSWw"
      },
      "execution_count": null,
      "outputs": []
    },
    {
      "cell_type": "markdown",
      "source": [
        "27번"
      ],
      "metadata": {
        "id": "AyrJukqPXS-I"
      }
    },
    {
      "cell_type": "code",
      "source": [
        "from typing import List\n",
        "\n",
        "class Solution:\n",
        "    def removeElement(self, nums: List[int], val: int) -> int:\n",
        "        index = 0\n",
        "        for i in range(len(nums)):\n",
        "            if nums[i] != val:\n",
        "                nums[index] = nums[i]\n",
        "                index += 1\n",
        "        return index\n"
      ],
      "metadata": {
        "id": "HGH1LjSWXVnD"
      },
      "execution_count": null,
      "outputs": []
    },
    {
      "cell_type": "markdown",
      "source": [
        "28번"
      ],
      "metadata": {
        "id": "KaO8AYYhXWTL"
      }
    },
    {
      "cell_type": "code",
      "source": [
        "class Solution:\n",
        "    def strStr(self, haystack: str, needle: str) -> int:\n",
        "        if not needle:\n",
        "            return 0\n",
        "        len_h = len(haystack)\n",
        "        len_n = len(needle)\n",
        "        for i in range(len_h - len_n + 1):\n",
        "            if haystack[i:i+len_n] == needle:\n",
        "                return i\n",
        "        return -1\n"
      ],
      "metadata": {
        "id": "pO6rd4ZuXYax"
      },
      "execution_count": null,
      "outputs": []
    },
    {
      "cell_type": "markdown",
      "source": [
        "29번"
      ],
      "metadata": {
        "id": "kAYxJhF8XY_0"
      }
    },
    {
      "cell_type": "code",
      "source": [
        "class Solution:\n",
        "    def divide(self, dividend: int, divisor: int) -> int:\n",
        "        MAX_INT = 2**31 - 1\n",
        "        MIN_INT = -2**31\n",
        "        if dividend == MIN_INT and divisor == -1:\n",
        "            return MAX_INT\n",
        "        negative = (dividend < 0) != (divisor < 0)\n",
        "        dividend, divisor = abs(dividend), abs(divisor)\n",
        "        quotient = 0\n",
        "        while dividend >= divisor:\n",
        "            temp, multiple = divisor, 1\n",
        "            while dividend >= (temp << 1):\n",
        "                temp <<= 1\n",
        "                multiple <<= 1\n",
        "            dividend -= temp\n",
        "            quotient += multiple\n",
        "        if negative:\n",
        "            quotient = -quotient\n",
        "        return max(MIN_INT, min(MAX_INT, quotient))\n"
      ],
      "metadata": {
        "id": "MwAZs82RXa1d"
      },
      "execution_count": null,
      "outputs": []
    },
    {
      "cell_type": "markdown",
      "source": [
        "31번"
      ],
      "metadata": {
        "id": "EtRR2eAQXbUy"
      }
    },
    {
      "cell_type": "code",
      "source": [
        "from typing import List\n",
        "\n",
        "class Solution:\n",
        "    def nextPermutation(self, nums: List[int]) -> None:\n",
        "        i = len(nums) - 2\n",
        "        while i >= 0 and nums[i] >= nums[i + 1]:\n",
        "            i -= 1\n",
        "        if i >= 0:\n",
        "            j = len(nums) - 1\n",
        "            while nums[j] <= nums[i]:\n",
        "                j -= 1\n",
        "            nums[i], nums[j] = nums[j], nums[i]\n",
        "        left, right = i + 1, len(nums) - 1\n",
        "        while left < right:\n",
        "            nums[left], nums[right] = nums[right], nums[left]\n",
        "            left += 1\n",
        "            right -= 1\n"
      ],
      "metadata": {
        "id": "PQzu2nlIXeCe"
      },
      "execution_count": null,
      "outputs": []
    },
    {
      "cell_type": "markdown",
      "source": [
        "33번"
      ],
      "metadata": {
        "id": "bvW4j19nXenI"
      }
    },
    {
      "cell_type": "code",
      "source": [
        "from typing import List\n",
        "\n",
        "class Solution:\n",
        "    def search(self, nums: List[int], target: int) -> int:\n",
        "        left, right = 0, len(nums) - 1\n",
        "\n",
        "        while left <= right:\n",
        "            mid = (left + right) // 2\n",
        "\n",
        "            if nums[mid] == target:\n",
        "                return mid\n",
        "            if nums[left] <= nums[mid]:\n",
        "                if nums[left] <= target < nums[mid]:\n",
        "                    right = mid - 1\n",
        "                else:\n",
        "                    left = mid + 1\n",
        "            else:\n",
        "                if nums[mid] < target <= nums[right]:\n",
        "                    left = mid + 1\n",
        "                else:\n",
        "                    right = mid - 1\n",
        "\n",
        "        return -1\n"
      ],
      "metadata": {
        "id": "JpU3lk2UXhv5"
      },
      "execution_count": null,
      "outputs": []
    },
    {
      "cell_type": "markdown",
      "source": [
        "34번"
      ],
      "metadata": {
        "id": "BJNpFgiHXiQ-"
      }
    },
    {
      "cell_type": "code",
      "source": [
        "from typing import List\n",
        "\n",
        "class Solution:\n",
        "    def searchRange(self, nums: List[int], target: int) -> List[int]:\n",
        "        def findFirst(nums, target):\n",
        "            left, right = 0, len(nums) - 1\n",
        "            first_pos = -1\n",
        "            while left <= right:\n",
        "                mid = (left + right) // 2\n",
        "                if nums[mid] >= target:\n",
        "                    right = mid - 1\n",
        "                else:\n",
        "                    left = mid + 1\n",
        "                if nums[mid] == target:\n",
        "                    first_pos = mid\n",
        "            return first_pos\n",
        "\n",
        "        def findLast(nums, target):\n",
        "            left, right = 0, len(nums) - 1\n",
        "            last_pos = -1\n",
        "            while left <= right:\n",
        "                mid = (left + right) // 2\n",
        "                if nums[mid] <= target:\n",
        "                    left = mid + 1\n",
        "                else:\n",
        "                    right = mid - 1\n",
        "                if nums[mid] == target:\n",
        "                    last_pos = mid\n",
        "            return last_pos\n",
        "\n",
        "        first_pos = findFirst(nums, target)\n",
        "        if first_pos == -1:\n",
        "            return [-1, -1]\n",
        "        last_pos = findLast(nums, target)\n",
        "        return [first_pos, last_pos]\n"
      ],
      "metadata": {
        "id": "xcvBp_SxXlOR"
      },
      "execution_count": null,
      "outputs": []
    },
    {
      "cell_type": "markdown",
      "source": [
        "35번"
      ],
      "metadata": {
        "id": "b1qOfsZgXuSa"
      }
    },
    {
      "cell_type": "code",
      "source": [
        "from typing import List\n",
        "\n",
        "class Solution:\n",
        "    def searchInsert(self, nums: List[int], target: int) -> int:\n",
        "        left, right = 0, len(nums) - 1\n",
        "\n",
        "        while left <= right:\n",
        "            mid = (left + right) // 2\n",
        "\n",
        "            if nums[mid] == target:\n",
        "                return mid\n",
        "            elif nums[mid] < target:\n",
        "                left = mid + 1\n",
        "            else:\n",
        "                right = mid - 1\n",
        "\n",
        "        return left\n"
      ],
      "metadata": {
        "id": "IGnYncatYlK7"
      },
      "execution_count": null,
      "outputs": []
    },
    {
      "cell_type": "markdown",
      "source": [
        "36번"
      ],
      "metadata": {
        "id": "4CV40s3hYmt0"
      }
    },
    {
      "cell_type": "code",
      "source": [
        "from typing import List\n",
        "\n",
        "class Solution:\n",
        "    def isValidSudoku(self, board: List[List[str]]) -> bool:\n",
        "        rows = [set() for _ in range(9)]\n",
        "        cols = [set() for _ in range(9)]\n",
        "        boxes = [set() for _ in range(9)]\n",
        "\n",
        "        for r in range(9):\n",
        "            for c in range(9):\n",
        "                num = board[r][c]\n",
        "                if num == '.':\n",
        "                    continue\n",
        "                if num in rows[r]:\n",
        "                    return False\n",
        "                rows[r].add(num)\n",
        "                if num in cols[c]:\n",
        "                    return False\n",
        "                cols[c].add(num)\n",
        "                box_index = (r // 3) * 3 + (c // 3)\n",
        "                if num in boxes[box_index]:\n",
        "                    return False\n",
        "                boxes[box_index].add(num)\n",
        "\n",
        "        return True\n"
      ],
      "metadata": {
        "id": "RU58UhOWYqAM"
      },
      "execution_count": null,
      "outputs": []
    },
    {
      "cell_type": "markdown",
      "source": [
        "38번"
      ],
      "metadata": {
        "id": "QpmjN6WuYqet"
      }
    },
    {
      "cell_type": "code",
      "source": [
        "class Solution:\n",
        "    def countAndSay(self, n: int) -> str:\n",
        "        if n == 1:\n",
        "            return \"1\"\n",
        "        prev_sequence = \"1\"\n",
        "\n",
        "        for _ in range(2, n + 1):\n",
        "            next_sequence = \"\"\n",
        "            i = 0\n",
        "            while i < len(prev_sequence):\n",
        "                count = 1\n",
        "                while i + 1 < len(prev_sequence) and prev_sequence[i] == prev_sequence[i + 1]:\n",
        "                    i += 1\n",
        "                    count += 1\n",
        "                next_sequence += str(count) + prev_sequence[i]\n",
        "                i += 1\n",
        "            prev_sequence = next_sequence\n",
        "\n",
        "        return prev_sequence\n"
      ],
      "metadata": {
        "id": "s2igNPL2Ytpk"
      },
      "execution_count": null,
      "outputs": []
    },
    {
      "cell_type": "markdown",
      "source": [
        "39번"
      ],
      "metadata": {
        "id": "ahYEgFmBYuK1"
      }
    },
    {
      "cell_type": "code",
      "source": [
        "from typing import List\n",
        "\n",
        "class Solution:\n",
        "    def combinationSum(self, candidates: List[int], target: int) -> List[List[int]]:\n",
        "        result = []\n",
        "\n",
        "        def backtrack(remaining: int, combination: List[int], start: int):\n",
        "            if remaining == 0:\n",
        "                result.append(list(combination))\n",
        "                return\n",
        "            elif remaining < 0:\n",
        "                return\n",
        "\n",
        "            for i in range(start, len(candidates)):\n",
        "                combination.append(candidates[i])\n",
        "                backtrack(remaining - candidates[i], combination, i)\n",
        "                combination.pop()\n",
        "\n",
        "        backtrack(target, [], 0)\n",
        "        return result\n"
      ],
      "metadata": {
        "id": "LD5fpwxKYxF6"
      },
      "execution_count": null,
      "outputs": []
    },
    {
      "cell_type": "markdown",
      "source": [
        "40번"
      ],
      "metadata": {
        "id": "smFP6PFaYxuF"
      }
    },
    {
      "cell_type": "code",
      "source": [
        "from typing import List\n",
        "\n",
        "class Solution:\n",
        "    def combinationSum2(self, candidates: List[int], target: int) -> List[List[int]]:\n",
        "        def backtrack(start, target, path):\n",
        "            if target == 0:\n",
        "                result.append(path)\n",
        "                return\n",
        "            if target < 0:\n",
        "                return\n",
        "\n",
        "            for i in range(start, len(candidates)):\n",
        "                if i > start and candidates[i] == candidates[i - 1]:\n",
        "                    continue\n",
        "                backtrack(i + 1, target - candidates[i], path + [candidates[i]])\n",
        "\n",
        "        candidates.sort()\n",
        "        result = []\n",
        "        backtrack(0, target, [])\n",
        "        return result\n"
      ],
      "metadata": {
        "id": "PxKkWQR3Y1Ij"
      },
      "execution_count": null,
      "outputs": []
    },
    {
      "cell_type": "markdown",
      "source": [
        "43번"
      ],
      "metadata": {
        "id": "zQ6GyqXiY2EC"
      }
    },
    {
      "cell_type": "code",
      "source": [
        "class Solution:\n",
        "    def multiply(self, num1: str, num2: str) -> str:\n",
        "        if num1 == \"0\" or num2 == \"0\":\n",
        "            return \"0\"\n",
        "        result = [0] * (len(num1) + len(num2))\n",
        "        num1 = num1[::-1]\n",
        "        num2 = num2[::-1]\n",
        "        for i in range(len(num1)):\n",
        "            for j in range(len(num2)):\n",
        "                product = int(num1[i]) * int(num2[j])\n",
        "                result[i + j] += product\n",
        "                result[i + j + 1] += result[i + j] // 10\n",
        "                result[i + j] %= 10\n",
        "        while len(result) > 1 and result[-1] == 0:\n",
        "            result.pop()\n",
        "        result = result[::-1]\n",
        "        return ''.join(map(str, result))\n",
        "solution = Solution()\n"
      ],
      "metadata": {
        "id": "Nq8bHO5KY56x"
      },
      "execution_count": null,
      "outputs": []
    },
    {
      "cell_type": "markdown",
      "source": [
        "45번"
      ],
      "metadata": {
        "id": "I4-8Wh50Y6bo"
      }
    },
    {
      "cell_type": "code",
      "source": [
        "from typing import List\n",
        "\n",
        "class Solution:\n",
        "    def jump(self, nums: List[int]) -> int:\n",
        "        if len(nums) <= 1:\n",
        "            return 0\n",
        "\n",
        "        jumps = 0\n",
        "        current_end = 0\n",
        "        farthest = 0\n",
        "        for i in range(len(nums) - 1):\n",
        "            farthest = max(farthest, i + nums[i])\n",
        "            if i == current_end:\n",
        "                jumps += 1\n",
        "                current_end = farthest\n",
        "\n",
        "                if current_end >= len(nums) - 1:\n",
        "                    break\n",
        "\n",
        "        return jumps\n"
      ],
      "metadata": {
        "id": "mwcrUaHBZAbk"
      },
      "execution_count": null,
      "outputs": []
    },
    {
      "cell_type": "markdown",
      "source": [
        "46번"
      ],
      "metadata": {
        "id": "vsZlAL0EZBED"
      }
    },
    {
      "cell_type": "code",
      "source": [
        "from typing import List\n",
        "\n",
        "class Solution:\n",
        "    def permute(self, nums: List[int]) -> List[List[int]]:\n",
        "        result = []\n",
        "\n",
        "        def backtrack(start):\n",
        "            if start == len(nums):\n",
        "                result.append(nums[:])\n",
        "                return\n",
        "\n",
        "            for i in range(start, len(nums)):\n",
        "                nums[start], nums[i] = nums[i], nums[start]\n",
        "                backtrack(start + 1)\n",
        "                nums[start], nums[i] = nums[i], nums[start]\n",
        "\n",
        "        backtrack(0)\n",
        "        return result\n"
      ],
      "metadata": {
        "id": "0RWEAiPBZEIl"
      },
      "execution_count": null,
      "outputs": []
    },
    {
      "cell_type": "markdown",
      "source": [
        "47번"
      ],
      "metadata": {
        "id": "49_qxf_oZErK"
      }
    },
    {
      "cell_type": "code",
      "source": [
        "from typing import List\n",
        "\n",
        "class Solution:\n",
        "    def permuteUnique(self, nums: List[int]) -> List[List[int]]:\n",
        "        result = []\n",
        "        nums.sort()\n",
        "\n",
        "        def backtrack(start):\n",
        "            if start == len(nums):\n",
        "                result.append(nums[:])\n",
        "                return\n",
        "\n",
        "            seen = set()\n",
        "            for i in range(start, len(nums)):\n",
        "                if nums[i] in seen:\n",
        "                    continue\n",
        "                seen.add(nums[i])\n",
        "                nums[start], nums[i] = nums[i], nums[start]\n",
        "                backtrack(start + 1)\n",
        "                nums[start], nums[i] = nums[i], nums[start]\n",
        "\n",
        "        backtrack(0)\n",
        "        return result\n"
      ],
      "metadata": {
        "id": "kBDGMEsFZJRU"
      },
      "execution_count": null,
      "outputs": []
    },
    {
      "cell_type": "markdown",
      "source": [
        "48번"
      ],
      "metadata": {
        "id": "KighajnlZJ0W"
      }
    },
    {
      "cell_type": "code",
      "source": [
        "from typing import List\n",
        "\n",
        "class Solution:\n",
        "    def rotate(self, matrix: List[List[int]]) -> None:\n",
        "        n = len(matrix)\n",
        "        for i in range(n):\n",
        "            for j in range(i, n):\n",
        "                matrix[i][j], matrix[j][i] = matrix[j][i], matrix[i][j]\n",
        "        for i in range(n):\n",
        "            matrix[i].reverse()\n"
      ],
      "metadata": {
        "id": "OpJogTSzZL4M"
      },
      "execution_count": null,
      "outputs": []
    },
    {
      "cell_type": "markdown",
      "source": [
        "49번"
      ],
      "metadata": {
        "id": "LcUJLJucZMaE"
      }
    },
    {
      "cell_type": "code",
      "source": [
        "from typing import List\n",
        "from collections import defaultdict\n",
        "\n",
        "class Solution:\n",
        "    def groupAnagrams(self, strs: List[str]) -> List[List[str]]:\n",
        "        anagrams = defaultdict(list)\n",
        "\n",
        "        for word in strs:\n",
        "            sorted_word = ''.join(sorted(word))\n",
        "            anagrams[sorted_word].append(word)\n",
        "\n",
        "        return list(anagrams.values())\n"
      ],
      "metadata": {
        "id": "6pZtl24mZPr1"
      },
      "execution_count": null,
      "outputs": []
    },
    {
      "cell_type": "markdown",
      "source": [
        "50번"
      ],
      "metadata": {
        "id": "OHyqbphBZQMm"
      }
    },
    {
      "cell_type": "code",
      "source": [
        "class Solution:\n",
        "    def myPow(self, x: float, n: int) -> float:\n",
        "        if n == 0:\n",
        "            return 1\n",
        "        if n < 0:\n",
        "            x = 1 / x\n",
        "            n = -n\n",
        "\n",
        "        def fastPow(x, n):\n",
        "            if n == 0:\n",
        "                return 1\n",
        "            half = fastPow(x, n // 2)\n",
        "            if n % 2 == 0:\n",
        "                return half * half\n",
        "            else:\n",
        "                return half * half * x\n",
        "\n",
        "        return fastPow(x, n)\n"
      ],
      "metadata": {
        "id": "ULFyqIrfZSeR"
      },
      "execution_count": null,
      "outputs": []
    },
    {
      "cell_type": "markdown",
      "source": [
        "51번"
      ],
      "metadata": {
        "id": "cbbfjjDHZS9s"
      }
    },
    {
      "cell_type": "code",
      "source": [
        "class Solution:\n",
        "    def solveNQueens(self, n: int) -> list[list[str]]:\n",
        "        def backtrack(row: int):\n",
        "            if row == n:\n",
        "                board = [''.join(r) for r in grid]\n",
        "                result.append(board)\n",
        "                return\n",
        "\n",
        "            for col in range(n):\n",
        "                if col in cols or (row - col) in diag1 or (row + col) in diag2:\n",
        "                    continue\n",
        "                cols.add(col)\n",
        "                diag1.add(row - col)\n",
        "                diag2.add(row + col)\n",
        "                grid[row][col] = 'Q'\n",
        "                backtrack(row + 1)\n",
        "                cols.remove(col)\n",
        "                diag1.remove(row - col)\n",
        "                diag2.remove(row + col)\n",
        "                grid[row][col] = '.'\n",
        "\n",
        "        result = []\n",
        "        cols = set()\n",
        "        diag1 = set()\n",
        "        diag2 = set()\n",
        "        grid = [['.'] * n for _ in range(n)]\n",
        "\n",
        "        backtrack(0)\n",
        "        return result"
      ],
      "metadata": {
        "id": "Jgi__IQMZVWp"
      },
      "execution_count": null,
      "outputs": []
    },
    {
      "cell_type": "markdown",
      "source": [
        "52번"
      ],
      "metadata": {
        "id": "mIE0MSY4ZV7K"
      }
    },
    {
      "cell_type": "code",
      "source": [
        "class Solution:\n",
        "    def totalNQueens(self, n: int) -> int:\n",
        "        def backtrack(row: int):\n",
        "            if row == n:\n",
        "                self.count += 1\n",
        "                return\n",
        "\n",
        "            for col in range(n):\n",
        "                if col in cols or (row - col) in diag1 or (row + col) in diag2:\n",
        "                    continue\n",
        "                cols.add(col)\n",
        "                diag1.add(row - col)\n",
        "                diag2.add(row + col)\n",
        "                backtrack(row + 1)\n",
        "                cols.remove(col)\n",
        "                diag1.remove(row - col)\n",
        "                diag2.remove(row + col)\n",
        "\n",
        "        self.count = 0\n",
        "        cols = set()\n",
        "        diag1 = set()\n",
        "        diag2 = set()\n",
        "\n",
        "        backtrack(0)\n",
        "        return self.count"
      ],
      "metadata": {
        "id": "lqho2d-1ZZsk"
      },
      "execution_count": null,
      "outputs": []
    },
    {
      "cell_type": "markdown",
      "source": [
        "53번"
      ],
      "metadata": {
        "id": "lniaYks4ZaTu"
      }
    },
    {
      "cell_type": "code",
      "source": [
        "from typing import List\n",
        "\n",
        "class Solution:\n",
        "    def maxSubArray(self, nums: List[int]) -> int:\n",
        "        current_sum = max_sum = nums[0]\n",
        "        for num in nums[1:]:\n",
        "            current_sum = max(num, current_sum + num)\n",
        "            max_sum = max(max_sum, current_sum)\n",
        "\n",
        "        return max_sum\n"
      ],
      "metadata": {
        "id": "Qm9j9D85ZccB"
      },
      "execution_count": null,
      "outputs": []
    },
    {
      "cell_type": "markdown",
      "source": [
        "54번"
      ],
      "metadata": {
        "id": "J3tYHRehZc9Z"
      }
    },
    {
      "cell_type": "code",
      "source": [
        "from typing import List\n",
        "\n",
        "class Solution:\n",
        "    def spiralOrder(self, matrix: List[List[int]]) -> List[int]:\n",
        "        result = []\n",
        "        if not matrix or not matrix[0]:\n",
        "            return result\n",
        "\n",
        "        top, bottom = 0, len(matrix) - 1\n",
        "        left, right = 0, len(matrix[0]) - 1\n",
        "\n",
        "        while top <= bottom and left <= right:\n",
        "            for i in range(left, right + 1):\n",
        "                result.append(matrix[top][i])\n",
        "            top += 1\n",
        "            for i in range(top, bottom + 1):\n",
        "                result.append(matrix[i][right])\n",
        "            right -= 1\n",
        "\n",
        "            if top <= bottom:\n",
        "                for i in range(right, left - 1, -1):\n",
        "                    result.append(matrix[bottom][i])\n",
        "                bottom -= 1\n",
        "\n",
        "            if left <= right:\n",
        "                for i in range(bottom, top - 1, -1):\n",
        "                    result.append(matrix[i][left])\n",
        "                left += 1\n",
        "\n",
        "        return result\n"
      ],
      "metadata": {
        "id": "tX62IM3wZgO1"
      },
      "execution_count": null,
      "outputs": []
    },
    {
      "cell_type": "markdown",
      "source": [
        "55번"
      ],
      "metadata": {
        "id": "DPPEr0OLZgwk"
      }
    },
    {
      "cell_type": "code",
      "source": [
        "from typing import List\n",
        "\n",
        "class Solution:\n",
        "    def canJump(self, nums: List[int]) -> bool:\n",
        "        max_reachable = 0\n",
        "        for i, jump in enumerate(nums):\n",
        "            if i > max_reachable:\n",
        "                return False\n",
        "            max_reachable = max(max_reachable, i + jump)\n",
        "        return max_reachable >= len(nums) - 1\n"
      ],
      "metadata": {
        "id": "9tGBSKqiZi5y"
      },
      "execution_count": null,
      "outputs": []
    },
    {
      "cell_type": "markdown",
      "source": [
        "56번"
      ],
      "metadata": {
        "id": "38Wg-DL0ZjcY"
      }
    },
    {
      "cell_type": "code",
      "source": [
        "from typing import List\n",
        "\n",
        "class Solution:\n",
        "    def merge(self, intervals: List[List[int]]) -> List[List[int]]:\n",
        "        intervals.sort(key=lambda x: x[0])\n",
        "\n",
        "        merged = []\n",
        "        for interval in intervals:\n",
        "            if not merged or merged[-1][1] < interval[0]:\n",
        "                merged.append(interval)\n",
        "            else:\n",
        "                merged[-1][1] = max(merged[-1][1], interval[1])\n",
        "\n",
        "        return merged\n"
      ],
      "metadata": {
        "id": "YsDtmb5lZmss"
      },
      "execution_count": null,
      "outputs": []
    },
    {
      "cell_type": "markdown",
      "source": [
        "57번"
      ],
      "metadata": {
        "id": "CVVmauQkZpWm"
      }
    },
    {
      "cell_type": "code",
      "source": [
        "from typing import List\n",
        "\n",
        "class Solution:\n",
        "    def insert(self, intervals: List[List[int]], newInterval: List[int]) -> List[List[int]]:\n",
        "        result = []\n",
        "        i = 0\n",
        "        n = len(intervals)\n",
        "        while i < n and intervals[i][1] < newInterval[0]:\n",
        "            result.append(intervals[i])\n",
        "            i += 1\n",
        "        while i < n and intervals[i][0] <= newInterval[1]:\n",
        "            newInterval[0] = min(newInterval[0], intervals[i][0])\n",
        "            newInterval[1] = max(newInterval[1], intervals[i][1])\n",
        "            i += 1\n",
        "        result.append(newInterval)\n",
        "        while i < n:\n",
        "            result.append(intervals[i])\n",
        "            i += 1\n",
        "\n",
        "        return result\n"
      ],
      "metadata": {
        "id": "hQowXvi5ZqCV"
      },
      "execution_count": null,
      "outputs": []
    },
    {
      "cell_type": "markdown",
      "source": [
        "58번"
      ],
      "metadata": {
        "id": "amRCuxJiZqhz"
      }
    },
    {
      "cell_type": "code",
      "source": [
        "class Solution:\n",
        "    def lengthOfLastWord(self, s: str) -> int:\n",
        "        s = s.rstrip()\n",
        "        last_space_index = s.rfind(' ')\n",
        "        return len(s) - last_space_index - 1\n"
      ],
      "metadata": {
        "id": "ag5sv8yvZsn3"
      },
      "execution_count": null,
      "outputs": []
    },
    {
      "cell_type": "markdown",
      "source": [
        "59번"
      ],
      "metadata": {
        "id": "2XZgoWXLZte4"
      }
    },
    {
      "cell_type": "code",
      "source": [
        "from typing import List\n",
        "\n",
        "class Solution:\n",
        "    def generateMatrix(self, n: int) -> List[List[int]]:\n",
        "        result = [[0] * n for _ in range(n)]\n",
        "        left, right = 0, n - 1\n",
        "        top, bottom = 0, n - 1\n",
        "        num = 1\n",
        "\n",
        "        while left <= right and top <= bottom:\n",
        "            for i in range(left, right + 1):\n",
        "                result[top][i] = num\n",
        "                num += 1\n",
        "            top += 1\n",
        "            for i in range(top, bottom + 1):\n",
        "                result[i][right] = num\n",
        "                num += 1\n",
        "            right -= 1\n",
        "            if top <= bottom:\n",
        "                for i in range(right, left - 1, -1):\n",
        "                    result[bottom][i] = num\n",
        "                    num += 1\n",
        "                bottom -= 1\n",
        "            if left <= right:\n",
        "                for i in range(bottom, top - 1, -1):\n",
        "                    result[i][left] = num\n",
        "                    num += 1\n",
        "                left += 1\n",
        "\n",
        "        return result\n"
      ],
      "metadata": {
        "id": "n4gDP3pLZwlN"
      },
      "execution_count": null,
      "outputs": []
    },
    {
      "cell_type": "markdown",
      "source": [
        "60번"
      ],
      "metadata": {
        "id": "fUW_H_DgZxFS"
      }
    },
    {
      "cell_type": "code",
      "source": [
        "import math\n",
        "\n",
        "class Solution:\n",
        "    def getPermutation(self, n: int, k: int) -> str:\n",
        "        numbers = list(range(1, n + 1))\n",
        "        permutation = []\n",
        "        k -= 1\n",
        "        for i in range(n, 0, -1):\n",
        "            factorial = math.factorial(i - 1)\n",
        "            index = k // factorial\n",
        "            k %= factorial\n",
        "            permutation.append(str(numbers[index]))\n",
        "            numbers.pop(index)\n",
        "\n",
        "        return ''.join(permutation)\n",
        "\n",
        "solution = Solution()\n"
      ],
      "metadata": {
        "id": "8pHDokMiZ0hu"
      },
      "execution_count": null,
      "outputs": []
    },
    {
      "cell_type": "markdown",
      "source": [
        "61번"
      ],
      "metadata": {
        "id": "3gw7cFCLZ0_9"
      }
    },
    {
      "cell_type": "code",
      "source": [
        "class ListNode:\n",
        "    def __init__(self, val=0, next=None):\n",
        "        self.val = val\n",
        "        self.next = next\n",
        "\n",
        "class Solution:\n",
        "    def rotateRight(self, head: ListNode, k: int) -> ListNode:\n",
        "        if not head or not head.next or k == 0:\n",
        "            return head\n",
        "        old_tail = head\n",
        "        length = 1\n",
        "        while old_tail.next:\n",
        "            old_tail = old_tail.next\n",
        "            length += 1\n",
        "        old_tail.next = head\n",
        "        new_tail = head\n",
        "        for _ in range(length - k % length - 1):\n",
        "            new_tail = new_tail.next\n",
        "        new_head = new_tail.next\n",
        "        new_tail.next = None\n",
        "\n",
        "        return new_head\n",
        "def list_to_linkedlist(arr):\n",
        "    if not arr:\n",
        "        return None\n",
        "    head = ListNode(arr[0])\n",
        "    current = head\n",
        "    for val in arr[1:]:\n",
        "        current.next = ListNode(val)\n",
        "        current = current.next\n",
        "    return head\n",
        "def linkedlist_to_list(node):\n",
        "    result = []\n",
        "    while node:\n",
        "        result.append(node.val)\n",
        "        node = node.next\n",
        "    return result\n",
        "\n",
        "solution = Solution()"
      ],
      "metadata": {
        "id": "juN1_3OjZ305"
      },
      "execution_count": null,
      "outputs": []
    },
    {
      "cell_type": "markdown",
      "source": [
        "62번"
      ],
      "metadata": {
        "id": "X7d4zGsMZ4T0"
      }
    },
    {
      "cell_type": "code",
      "source": [
        "class Solution:\n",
        "    def uniquePaths(self, m: int, n: int) -> int:\n",
        "        dp = [[1]*n for _ in range(m)]\n",
        "        for i in range(1, m):\n",
        "            for j in range(1, n):\n",
        "                dp[i][j] = dp[i-1][j] + dp[i][j-1]\n",
        "\n",
        "        return dp[m-1][n-1]\n"
      ],
      "metadata": {
        "id": "rjLd7uyRZ6mH"
      },
      "execution_count": null,
      "outputs": []
    },
    {
      "cell_type": "markdown",
      "source": [
        "63번"
      ],
      "metadata": {
        "id": "LEFbzz6rZ7J8"
      }
    },
    {
      "cell_type": "code",
      "source": [
        "from typing import List\n",
        "\n",
        "class Solution:\n",
        "    def uniquePathsWithObstacles(self, obstacleGrid: List[List[int]]) -> int:\n",
        "        if not obstacleGrid or obstacleGrid[0][0] == 1:\n",
        "            return 0\n",
        "\n",
        "        m, n = len(obstacleGrid), len(obstacleGrid[0])\n",
        "        dp = [[0] * n for _ in range(m)]\n",
        "\n",
        "        dp[0][0] = 1\n",
        "        for i in range(1, m):\n",
        "            dp[i][0] = dp[i-1][0] if obstacleGrid[i][0] == 0 else 0\n",
        "        for j in range(1, n):\n",
        "            dp[0][j] = dp[0][j-1] if obstacleGrid[0][j] == 0 else 0\n",
        "        for i in range(1, m):\n",
        "            for j in range(1, n):\n",
        "                if obstacleGrid[i][j] == 0:\n",
        "                    dp[i][j] = dp[i-1][j] + dp[i][j-1]\n",
        "\n",
        "        return dp[m-1][n-1]\n"
      ],
      "metadata": {
        "id": "G8CtMJQjZ-ZH"
      },
      "execution_count": null,
      "outputs": []
    },
    {
      "cell_type": "markdown",
      "source": [
        "64번"
      ],
      "metadata": {
        "id": "NGG13UH6Z-5F"
      }
    },
    {
      "cell_type": "code",
      "source": [
        "class Solution:\n",
        "    def minPathSum(self, grid):\n",
        "        m, n = len(grid), len(grid[0])\n",
        "        for i in range(1, n):\n",
        "            grid[0][i] += grid[0][i - 1]\n",
        "        for j in range(1, m):\n",
        "            grid[j][0] += grid[j - 1][0]\n",
        "        for i in range(1, m):\n",
        "            for j in range(1, n):\n",
        "                grid[i][j] += min(grid[i - 1][j], grid[i][j - 1])\n",
        "\n",
        "        return grid[-1][-1]\n",
        "\n",
        "solution = Solution()"
      ],
      "metadata": {
        "id": "EWA6VhVgaB5n"
      },
      "execution_count": null,
      "outputs": []
    },
    {
      "cell_type": "markdown",
      "source": [
        "66번"
      ],
      "metadata": {
        "id": "JCsvzikJaCbO"
      }
    },
    {
      "cell_type": "code",
      "source": [
        "class Solution:\n",
        "    def plusOne(self, digits):\n",
        "        n = len(digits)\n",
        "        for i in range(n - 1, -1, -1):\n",
        "            if digits[i] < 9:\n",
        "                digits[i] += 1\n",
        "                return digits\n",
        "            digits[i] = 0\n",
        "        return [1] + digits\n",
        "\n",
        "solution = Solution()"
      ],
      "metadata": {
        "id": "p_7VQVgnaF2x"
      },
      "execution_count": null,
      "outputs": []
    },
    {
      "cell_type": "markdown",
      "source": [
        "67번"
      ],
      "metadata": {
        "id": "me1oBKr0aGa1"
      }
    },
    {
      "cell_type": "code",
      "source": [
        "class Solution:\n",
        "    def addBinary(self, a: str, b: str) -> str:\n",
        "        result = []\n",
        "        carry = 0\n",
        "        max_len = max(len(a), len(b))\n",
        "        a = a.zfill(max_len)\n",
        "        b = b.zfill(max_len)\n",
        "        for i in range(max_len - 1, -1, -1):\n",
        "            sum_val = int(a[i]) + int(b[i]) + carry\n",
        "            carry = sum_val // 2\n",
        "            result.append(str(sum_val % 2))\n",
        "        if carry:\n",
        "            result.append('1')\n",
        "        result.reverse()\n",
        "        return ''.join(result)\n",
        "\n",
        "solution = Solution()"
      ],
      "metadata": {
        "id": "t1Hn7Tl5aJIp"
      },
      "execution_count": null,
      "outputs": []
    },
    {
      "cell_type": "markdown",
      "source": [
        "69번"
      ],
      "metadata": {
        "id": "iiBGAiI1aMBZ"
      }
    },
    {
      "cell_type": "code",
      "source": [
        "class Solution:\n",
        "    def mySqrt(self, x: int) -> int:\n",
        "        if x < 2:\n",
        "            return x\n",
        "\n",
        "        left, right = 2, x // 2\n",
        "\n",
        "        while left <= right:\n",
        "            mid = (left + right) // 2\n",
        "            num = mid * mid\n",
        "\n",
        "            if num == x:\n",
        "                return mid\n",
        "            elif num < x:\n",
        "                left = mid + 1\n",
        "            else:\n",
        "                right = mid - 1\n",
        "\n",
        "        return right\n",
        "\n",
        "solution = Solution()"
      ],
      "metadata": {
        "id": "C8zzi6mgaM48"
      },
      "execution_count": null,
      "outputs": []
    },
    {
      "cell_type": "markdown",
      "source": [
        "70번"
      ],
      "metadata": {
        "id": "pbnBwhFSaNbz"
      }
    },
    {
      "cell_type": "code",
      "source": [
        "class Solution:\n",
        "    def climbStairs(self, n: int) -> int:\n",
        "        if n <= 2:\n",
        "            return n\n",
        "        first, second = 1, 2\n",
        "        for i in range(3, n + 1):\n",
        "            third = first + second\n",
        "            first = second\n",
        "            second = third\n",
        "\n",
        "        return second\n",
        "solution = Solution()"
      ],
      "metadata": {
        "id": "Pu09FcrDaRy_"
      },
      "execution_count": null,
      "outputs": []
    },
    {
      "cell_type": "markdown",
      "source": [
        "71번"
      ],
      "metadata": {
        "id": "tBmsp25ibTQW"
      }
    },
    {
      "cell_type": "code",
      "source": [
        "class Solution:\n",
        "    def simplifyPath(self, path: str) -> str:\n",
        "        parts = path.split('/')\n",
        "        stack = []\n",
        "\n",
        "        for part in parts:\n",
        "            if part == '' or part == '.':\n",
        "                continue\n",
        "            elif part == '..':\n",
        "                if stack:\n",
        "                    stack.pop()\n",
        "            else:\n",
        "                stack.append(part)\n",
        "\n",
        "        return '/' + '/'.join(stack)\n",
        "\n",
        "solution = Solution()\n"
      ],
      "metadata": {
        "id": "nnZ2H-JCbV9f"
      },
      "execution_count": null,
      "outputs": []
    },
    {
      "cell_type": "markdown",
      "source": [
        "72번"
      ],
      "metadata": {
        "id": "Kd5A87WmbXLD"
      }
    },
    {
      "cell_type": "code",
      "source": [
        "class Solution:\n",
        "    def minDistance(self, word1: str, word2: str) -> int:\n",
        "        m, n = len(word1), len(word2)\n",
        "        dp = [[0] * (n + 1) for _ in range(m + 1)]\n",
        "        for i in range(m + 1):\n",
        "            dp[i][0] = i\n",
        "        for j in range(n + 1):\n",
        "            dp[0][j] = j\n",
        "        for i in range(1, m + 1):\n",
        "            for j in range(1, n + 1):\n",
        "                if word1[i - 1] == word2[j - 1]:\n",
        "                    dp[i][j] = dp[i - 1][j - 1]\n",
        "                else:\n",
        "                    dp[i][j] = min(dp[i - 1][j] + 1,\n",
        "                                   dp[i][j - 1] + 1,\n",
        "                                   dp[i - 1][j - 1] + 1)\n",
        "\n",
        "        return dp[m][n]\n",
        "\n",
        "solution = Solution()\n"
      ],
      "metadata": {
        "id": "yBJpVeambZ_H"
      },
      "execution_count": null,
      "outputs": []
    },
    {
      "cell_type": "markdown",
      "source": [
        "73번"
      ],
      "metadata": {
        "id": "i1-qZfhbbalA"
      }
    },
    {
      "cell_type": "code",
      "source": [
        "class Solution:\n",
        "    def setZeroes(self, matrix):\n",
        "        m, n = len(matrix), len(matrix[0])\n",
        "        row_zero = False\n",
        "        for i in range(m):\n",
        "            for j in range(n):\n",
        "                if matrix[i][j] == 0:\n",
        "                    matrix[0][j] = 0\n",
        "                    if i > 0:\n",
        "                        matrix[i][0] = 0\n",
        "                    else:\n",
        "                        row_zero = True\n",
        "        for i in range(1, m):\n",
        "            for j in range(1, n):\n",
        "                if matrix[0][j] == 0 or matrix[i][0] == 0:\n",
        "                    matrix[i][j] = 0\n",
        "        if matrix[0][0] == 0:\n",
        "            for i in range(1, m):\n",
        "                matrix[i][0] = 0\n",
        "        if row_zero:\n",
        "            for j in range(n):\n",
        "                matrix[0][j] = 0\n",
        "        if matrix[0][0] == 0:\n",
        "            for i in range(m):\n",
        "                matrix[i][0] = 0\n",
        "\n",
        "\n",
        "solution = Solution()"
      ],
      "metadata": {
        "id": "BZTxU8Mxbc2f"
      },
      "execution_count": null,
      "outputs": []
    },
    {
      "cell_type": "markdown",
      "source": [
        "74번"
      ],
      "metadata": {
        "id": "M6mhqyrlbdaE"
      }
    },
    {
      "cell_type": "code",
      "source": [
        "class Solution:\n",
        "    def searchMatrix(self, matrix, target):\n",
        "        if not matrix or not matrix[0]:\n",
        "            return False\n",
        "\n",
        "        m, n = len(matrix), len(matrix[0])\n",
        "        left, right = 0, m * n - 1\n",
        "\n",
        "        while left <= right:\n",
        "            mid = (left + right) // 2\n",
        "            mid_value = matrix[mid // n][mid % n]\n",
        "\n",
        "            if mid_value == target:\n",
        "                return True\n",
        "            elif mid_value < target:\n",
        "                left = mid + 1\n",
        "            else:\n",
        "                right = mid - 1\n",
        "\n",
        "        return False\n",
        "solution = Solution()"
      ],
      "metadata": {
        "id": "vrv1MJJybfv9"
      },
      "execution_count": null,
      "outputs": []
    },
    {
      "cell_type": "markdown",
      "source": [
        "75번"
      ],
      "metadata": {
        "id": "VvOPavT8bgQr"
      }
    },
    {
      "cell_type": "code",
      "source": [
        "class Solution:\n",
        "    def sortColors(self, nums):\n",
        "        low, mid, high = 0, 0, len(nums) - 1\n",
        "\n",
        "        while mid <= high:\n",
        "            if nums[mid] == 0:\n",
        "                nums[low], nums[mid] = nums[mid], nums[low]\n",
        "                low += 1\n",
        "                mid += 1\n",
        "            elif nums[mid] == 1:\n",
        "                mid += 1\n",
        "            else:\n",
        "                nums[high], nums[mid] = nums[mid], nums[high]\n",
        "                high -= 1\n",
        "\n",
        "solution = Solution()"
      ],
      "metadata": {
        "id": "9Blg6Mdsbkhu"
      },
      "execution_count": null,
      "outputs": []
    },
    {
      "cell_type": "markdown",
      "source": [
        "77번"
      ],
      "metadata": {
        "id": "a2grbdxDbk-1"
      }
    },
    {
      "cell_type": "code",
      "source": [
        "from typing import List\n",
        "\n",
        "class Solution:\n",
        "    def combine(self, n: int, k: int) -> List[List[int]]:\n",
        "        def backtrack(start, comb):\n",
        "            if len(comb) == k:\n",
        "                result.append(list(comb))\n",
        "                return\n",
        "            for i in range(start, n + 1):\n",
        "                comb.append(i)\n",
        "                backtrack(i + 1, comb)\n",
        "                comb.pop()\n",
        "\n",
        "        result = []\n",
        "        backtrack(1, [])\n",
        "        return result\n",
        "\n",
        "solution = Solution()\n"
      ],
      "metadata": {
        "id": "jWzeiTypbonH"
      },
      "execution_count": null,
      "outputs": []
    },
    {
      "cell_type": "markdown",
      "source": [
        "78번"
      ],
      "metadata": {
        "id": "caYAT5CRbpQt"
      }
    },
    {
      "cell_type": "code",
      "source": [
        "from typing import List\n",
        "\n",
        "class Solution:\n",
        "    def subsets(self, nums: List[int]) -> List[List[int]]:\n",
        "        def backtrack(start, path):\n",
        "            result.append(list(path))\n",
        "            for i in range(start, len(nums)):\n",
        "                path.append(nums[i])\n",
        "                backtrack(i + 1, path)\n",
        "                path.pop()\n",
        "\n",
        "        result = []\n",
        "        backtrack(0, [])\n",
        "        return result\n",
        "\n",
        "solution = Solution()"
      ],
      "metadata": {
        "id": "gcVJK6q7bsGq"
      },
      "execution_count": null,
      "outputs": []
    },
    {
      "cell_type": "markdown",
      "source": [
        "79번"
      ],
      "metadata": {
        "id": "hlHxg7Mbbsla"
      }
    },
    {
      "cell_type": "code",
      "source": [
        "from typing import List\n",
        "\n",
        "class Solution:\n",
        "    def exist(self, board: List[List[str]], word: str) -> bool:\n",
        "        def backtrack(i, j, word_index):\n",
        "            if word_index == len(word):\n",
        "                return True\n",
        "            if i < 0 or i >= len(board) or j < 0 or j >= len(board[0]) or board[i][j] != word[word_index]:\n",
        "                return False\n",
        "            temp = board[i][j]\n",
        "            board[i][j] = '#'\n",
        "            found = (backtrack(i + 1, j, word_index + 1) or\n",
        "                     backtrack(i - 1, j, word_index + 1) or\n",
        "                     backtrack(i, j + 1, word_index + 1) or\n",
        "                     backtrack(i, j - 1, word_index + 1))\n",
        "            board[i][j] = temp\n",
        "            return found\n",
        "\n",
        "        for i in range(len(board)):\n",
        "            for j in range(len(board[0])):\n",
        "                if board[i][j] == word[0] and backtrack(i, j, 0):\n",
        "                    return True\n",
        "\n",
        "        return False\n",
        "\n",
        "solution = Solution()"
      ],
      "metadata": {
        "id": "nqYo2VxibvgU"
      },
      "execution_count": null,
      "outputs": []
    },
    {
      "cell_type": "markdown",
      "source": [
        "80번"
      ],
      "metadata": {
        "id": "n5Wa6WttbwDm"
      }
    },
    {
      "cell_type": "code",
      "source": [
        "from typing import List\n",
        "\n",
        "class Solution:\n",
        "    def removeDuplicates(self, nums: List[int]) -> int:\n",
        "        if len(nums) <= 2:\n",
        "            return len(nums)\n",
        "        index = 2\n",
        "\n",
        "        for i in range(2, len(nums)):\n",
        "            if nums[i] != nums[index - 2]:\n",
        "                nums[index] = nums[i]\n",
        "                index += 1\n",
        "\n",
        "        return index\n",
        "\n",
        "solution = Solution()"
      ],
      "metadata": {
        "id": "agDrBatLbzBM"
      },
      "execution_count": null,
      "outputs": []
    },
    {
      "cell_type": "markdown",
      "source": [],
      "metadata": {
        "id": "g9RB-DSIbzep"
      }
    }
  ]
}