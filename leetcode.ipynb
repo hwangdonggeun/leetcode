{
  "nbformat": 4,
  "nbformat_minor": 0,
  "metadata": {
    "colab": {
      "provenance": [],
      "authorship_tag": "ABX9TyOqUi7kDcYo7EazB/4ur163",
      "include_colab_link": true
    },
    "kernelspec": {
      "name": "python3",
      "display_name": "Python 3"
    },
    "language_info": {
      "name": "python"
    }
  },
  "cells": [
    {
      "cell_type": "markdown",
      "metadata": {
        "id": "view-in-github",
        "colab_type": "text"
      },
      "source": [
        "<a href=\"https://colab.research.google.com/github/hwangdonggeun/leetcode/blob/main/leetcode.ipynb\" target=\"_parent\"><img src=\"https://colab.research.google.com/assets/colab-badge.svg\" alt=\"Open In Colab\"/></a>"
      ]
    },
    {
      "cell_type": "markdown",
      "source": [
        "1번"
      ],
      "metadata": {
        "id": "Gz-4lTMcOYNP"
      }
    },
    {
      "cell_type": "code",
      "execution_count": null,
      "metadata": {
        "id": "u-nWzBUJMC-O"
      },
      "outputs": [],
      "source": [
        "class Solution:\n",
        "    def twoSum(self, nums, target):\n",
        "        num_to_index = {}\n",
        "        for index, num in enumerate(nums):\n",
        "            complement = target - num\n",
        "            if complement in num_to_index:\n",
        "                return [num_to_index[complement], index]\n",
        "            num_to_index[num] = index"
      ]
    },
    {
      "cell_type": "markdown",
      "source": [
        "3번"
      ],
      "metadata": {
        "id": "F9Hl6Dw5OTq_"
      }
    },
    {
      "cell_type": "code",
      "source": [
        "class Solution:\n",
        "    def lengthOfLongestSubstring(self, s: str) -> int:\n",
        "        char_map = {}\n",
        "        left = 0\n",
        "        max_length = 0\n",
        "\n",
        "        for right in range(len(s)):\n",
        "            if s[right] in char_map:\n",
        "                left = max(left, char_map[s[right]] + 1)\n",
        "            char_map[s[right]] = right\n",
        "            max_length = max(max_length, right - left + 1)\n",
        "\n",
        "        return max_length\n"
      ],
      "metadata": {
        "id": "itFPtNFdNu6E"
      },
      "execution_count": null,
      "outputs": []
    },
    {
      "cell_type": "markdown",
      "source": [
        "4번"
      ],
      "metadata": {
        "id": "0E3DOCD7Od1u"
      }
    },
    {
      "cell_type": "code",
      "source": [
        "class Solution:\n",
        "    def findMedianSortedArrays(self, nums1: list[int], nums2: list[int]) -> float:\n",
        "        if len(nums1) > len(nums2):\n",
        "            nums1, nums2 = nums2, nums1\n",
        "\n",
        "        m, n = len(nums1), len(nums2)\n",
        "        imin, imax, half_len = 0, m, (m + n + 1) // 2\n",
        "\n",
        "        while imin <= imax:\n",
        "            i = (imin + imax) // 2\n",
        "            j = half_len - i\n",
        "\n",
        "            if i < m and nums1[i] < nums2[j-1]:\n",
        "                imin = i + 1\n",
        "            elif i > 0 and nums1[i-1] > nums2[j]:\n",
        "                imax = i - 1\n",
        "            else:\n",
        "                if i == 0: max_of_left = nums2[j-1]\n",
        "                elif j == 0: max_of_left = nums1[i-1]\n",
        "                else: max_of_left = max(nums1[i-1], nums2[j-1])\n",
        "\n",
        "                if (m + n) % 2 == 1:\n",
        "                    return max_of_left\n",
        "\n",
        "                if i == m: min_of_right = nums2[j]\n",
        "                elif j == n: min_of_right = nums1[i]\n",
        "                else: min_of_right = min(nums1[i], nums2[j])\n",
        "\n",
        "                return (max_of_left + min_of_right) / 2.0"
      ],
      "metadata": {
        "id": "QrIIw2GUOeOV"
      },
      "execution_count": null,
      "outputs": []
    },
    {
      "cell_type": "markdown",
      "source": [
        "5번"
      ],
      "metadata": {
        "id": "cygG3DncSIYg"
      }
    },
    {
      "cell_type": "code",
      "source": [
        "class Solution:\n",
        "    def longestPalindrome(self, s: str) -> str:\n",
        "        if len(s) == 0:\n",
        "            return \"\"\n",
        "\n",
        "        start = 0\n",
        "        end = 0\n",
        "\n",
        "        for i in range(len(s)):\n",
        "            len1 = self.expandAroundCenter(s, i, i)\n",
        "            len2 = self.expandAroundCenter(s, i, i + 1)\n",
        "            max_len = max(len1, len2)\n",
        "\n",
        "            if max_len > end - start:\n",
        "                start = i - (max_len - 1) // 2\n",
        "                end = i + max_len // 2\n",
        "\n",
        "        return s[start:end + 1]\n",
        "\n",
        "    def expandAroundCenter(self, s, left, right):\n",
        "        while left >= 0 and right < len(s) and s[left] == s[right]:\n",
        "            left -= 1\n",
        "            right += 1\n",
        "        return right - left - 1\n"
      ],
      "metadata": {
        "id": "vRdmLiLSSOm_"
      },
      "execution_count": null,
      "outputs": []
    },
    {
      "cell_type": "markdown",
      "source": [
        "6번"
      ],
      "metadata": {
        "id": "kyEVrvbJSzGa"
      }
    },
    {
      "cell_type": "code",
      "source": [
        "class Solution:\n",
        "    def convert(self, s: str, numRows: int) -> str:\n",
        "        if numRows == 1 or numRows >= len(s):\n",
        "            return s\n",
        "\n",
        "        rows = [''] * numRows\n",
        "        current_row = 0\n",
        "        going_down = False\n",
        "\n",
        "        for char in s:\n",
        "            rows[current_row] += char\n",
        "            if current_row == 0 or current_row == numRows - 1:\n",
        "                going_down = not going_down\n",
        "            current_row += 1 if going_down else -1\n",
        "\n",
        "        return ''.join(rows)\n"
      ],
      "metadata": {
        "id": "X8nt-X8lSzNR"
      },
      "execution_count": null,
      "outputs": []
    },
    {
      "cell_type": "markdown",
      "source": [
        "7번"
      ],
      "metadata": {
        "id": "UuiCUfoXUp8u"
      }
    },
    {
      "cell_type": "code",
      "source": [
        "class Solution:\n",
        "    def reverse(self, x: int) -> int:\n",
        "        sign = -1 if x < 0 else 1\n",
        "        x = abs(x)\n",
        "        reversed_x = int(str(x)[::-1])\n",
        "        result = sign * reversed_x\n",
        "        if result < -2**31 or result > 2**31 - 1:\n",
        "            return 0\n",
        "\n",
        "        return result"
      ],
      "metadata": {
        "id": "ddUeSmawUqEd"
      },
      "execution_count": null,
      "outputs": []
    },
    {
      "cell_type": "markdown",
      "source": [
        "8번"
      ],
      "metadata": {
        "id": "oy2ufNflUtiM"
      }
    },
    {
      "cell_type": "code",
      "source": [
        "class Solution:\n",
        "    def myAtoi(self, s: str) -> int:\n",
        "        i, n, sign, result = 0, len(s), 1, 0\n",
        "        INT_MAX, INT_MIN = 2**31 - 1, -2**31\n",
        "\n",
        "        while i < n and s[i] == ' ':\n",
        "            i += 1\n",
        "\n",
        "        if i < n and (s[i] == '+' or s[i] == '-'):\n",
        "            sign = -1 if s[i] == '-' else 1\n",
        "            i += 1\n",
        "\n",
        "        while i < n and s[i].isdigit():\n",
        "            digit = int(s[i])\n",
        "            if result > (INT_MAX - digit) // 10:\n",
        "                return INT_MAX if sign == 1 else INT_MIN\n",
        "            result = result * 10 + digit\n",
        "            i += 1\n",
        "\n",
        "        return sign * result\n"
      ],
      "metadata": {
        "id": "egvF5gxRUtoe"
      },
      "execution_count": null,
      "outputs": []
    },
    {
      "cell_type": "markdown",
      "source": [
        "9번"
      ],
      "metadata": {
        "id": "ZeEU-gUgUxxe"
      }
    },
    {
      "cell_type": "code",
      "source": [
        "class Solution:\n",
        "    def isPalindrome(self, x: int) -> bool:\n",
        "        if x < 0:\n",
        "            return False\n",
        "\n",
        "        str_x = str(x)\n",
        "        return str_x == str_x[::-1]\n",
        "\n",
        "solution = Solution()\n"
      ],
      "metadata": {
        "id": "aSN-q_X8Ux5B"
      },
      "execution_count": null,
      "outputs": []
    },
    {
      "cell_type": "markdown",
      "source": [
        "10번"
      ],
      "metadata": {
        "id": "oyNbTtmGVN9M"
      }
    },
    {
      "cell_type": "code",
      "source": [
        "class Solution:\n",
        "    def isMatch(self, s: str, p: str) -> bool:\n",
        "        dp = [[False] * (len(p) + 1) for _ in range(len(s) + 1)]\n",
        "        dp[0][0] = True\n",
        "        for j in range(2, len(p) + 1):\n",
        "            if p[j - 1] == '*':\n",
        "                dp[0][j] = dp[0][j - 2]\n",
        "        for i in range(1, len(s) + 1):\n",
        "            for j in range(1, len(p) + 1):\n",
        "                if p[j - 1] == '*':\n",
        "                    dp[i][j] = dp[i][j - 2] or (dp[i - 1][j] and (s[i - 1] == p[j - 2] or p[j - 2] == '.'))\n",
        "                else:\n",
        "                    dp[i][j] = dp[i - 1][j - 1] and (s[i - 1] == p[j - 1] or p[j - 1] == '.')\n",
        "\n",
        "        return dp[len(s)][len(p)]\n",
        "\n",
        "solution = Solution()"
      ],
      "metadata": {
        "id": "XCckleB7VOD8"
      },
      "execution_count": null,
      "outputs": []
    },
    {
      "cell_type": "markdown",
      "source": [
        "11번"
      ],
      "metadata": {
        "id": "I1WWLyqFVRiG"
      }
    },
    {
      "cell_type": "code",
      "source": [
        "class Solution:\n",
        "    def maxArea(self, height: list[int]) -> int:\n",
        "        left, right = 0, len(height) - 1\n",
        "        max_area = 0\n",
        "\n",
        "        while left < right:\n",
        "            width = right - left\n",
        "            min_height = min(height[left], height[right])\n",
        "            current_area = width * min_height\n",
        "            max_area = max(max_area, current_area)\n",
        "            if height[left] < height[right]:\n",
        "                left += 1\n",
        "            else:\n",
        "                right -= 1\n",
        "\n",
        "        return max_area"
      ],
      "metadata": {
        "id": "IAMticYjVR3R"
      },
      "execution_count": null,
      "outputs": []
    },
    {
      "cell_type": "markdown",
      "source": [
        "12번"
      ],
      "metadata": {
        "id": "Le-089sWVoXC"
      }
    },
    {
      "cell_type": "code",
      "source": [
        "class Solution:\n",
        "    def intToRoman(self, num: int) -> str:\n",
        "        val = [\n",
        "            1000, 900, 500, 400, 100, 90,\n",
        "            50, 40, 10, 9, 5, 4, 1\n",
        "        ]\n",
        "        syms = [\n",
        "            \"M\", \"CM\", \"D\", \"CD\", \"C\", \"XC\",\n",
        "            \"L\", \"XL\", \"X\", \"IX\", \"V\", \"IV\", \"I\"\n",
        "        ]\n",
        "\n",
        "        roman_numeral = \"\"\n",
        "        i = 0\n",
        "        while num > 0:\n",
        "            for _ in range(num // val[i]):\n",
        "                roman_numeral += syms[i]\n",
        "                num -= val[i]\n",
        "            i += 1\n",
        "\n",
        "        return roman_numeral"
      ],
      "metadata": {
        "id": "GwjgUOauVprb"
      },
      "execution_count": null,
      "outputs": []
    },
    {
      "cell_type": "markdown",
      "source": [
        "13번"
      ],
      "metadata": {
        "id": "r2BlTt5aVq0F"
      }
    },
    {
      "cell_type": "code",
      "source": [
        "class Solution:\n",
        "    def romanToInt(self, s: str) -> int:\n",
        "        roman_to_int = {\n",
        "            'I': 1, 'V': 5, 'X': 10, 'L': 50,\n",
        "            'C': 100, 'D': 500, 'M': 1000\n",
        "        }\n",
        "\n",
        "        total = 0\n",
        "        prev_value = 0\n",
        "        for char in reversed(s):\n",
        "            value = roman_to_int[char]\n",
        "            if value < prev_value:\n",
        "                total -= value\n",
        "            else:\n",
        "                total += value\n",
        "            prev_value = value\n",
        "\n",
        "        return total\n",
        "\n",
        "solution = Solution()\n"
      ],
      "metadata": {
        "id": "Aevjy9h-Vs8m"
      },
      "execution_count": null,
      "outputs": []
    },
    {
      "cell_type": "markdown",
      "source": [
        "14번"
      ],
      "metadata": {
        "id": "CIQcekgSVuUu"
      }
    },
    {
      "cell_type": "code",
      "source": [
        "class Solution:\n",
        "    def longestCommonPrefix(self, strs: [str]) -> str:\n",
        "        if not strs:\n",
        "            return \"\"\n",
        "        prefix = strs[0]\n",
        "\n",
        "        for s in strs[1:]:\n",
        "            while s[:len(prefix)] != prefix and prefix:\n",
        "                prefix = prefix[:-1]\n",
        "            if not prefix:\n",
        "                return \"\"\n",
        "\n",
        "        return prefix\n",
        "\n",
        "sol = Solution()"
      ],
      "metadata": {
        "id": "pky8GQCXVyXQ"
      },
      "execution_count": null,
      "outputs": []
    },
    {
      "cell_type": "markdown",
      "source": [
        "15번"
      ],
      "metadata": {
        "id": "__eS6ASFVzE6"
      }
    },
    {
      "cell_type": "code",
      "source": [
        "class Solution:\n",
        "    def threeSum(self, nums: [int]) -> [[int]]:\n",
        "        nums.sort()\n",
        "        result = []\n",
        "        length = len(nums)\n",
        "\n",
        "        for i in range(length - 2):\n",
        "            if i > 0 and nums[i] == nums[i - 1]:\n",
        "                continue\n",
        "\n",
        "            left, right = i + 1, length - 1\n",
        "            while left < right:\n",
        "                total = nums[i] + nums[left] + nums[right]\n",
        "                if total == 0:\n",
        "                    result.append([nums[i], nums[left], nums[right]])\n",
        "                    while left < right and nums[left] == nums[left + 1]:\n",
        "                        left += 1\n",
        "                    while left < right and nums[right] == nums[right - 1]:\n",
        "                        right -= 1\n",
        "                    left += 1\n",
        "                    right -= 1\n",
        "                elif total < 0:\n",
        "                    left += 1\n",
        "                else:\n",
        "                    right -= 1\n",
        "\n",
        "        return result\n",
        "\n",
        "sol = Solution()\n"
      ],
      "metadata": {
        "id": "6-aQZZCIV2J0"
      },
      "execution_count": null,
      "outputs": []
    },
    {
      "cell_type": "markdown",
      "source": [
        "16번"
      ],
      "metadata": {
        "id": "KCbneQSgV4In"
      }
    },
    {
      "cell_type": "code",
      "source": [
        "class Solution:\n",
        "    def threeSumClosest(self, nums: [int], target: int) -> int:\n",
        "        nums.sort()\n",
        "        closest_sum = float('inf')\n",
        "        length = len(nums)\n",
        "\n",
        "        for i in range(length - 2):\n",
        "            left, right = i + 1, length - 1\n",
        "            while left < right:\n",
        "                current_sum = nums[i] + nums[left] + nums[right]\n",
        "                if abs(current_sum - target) < abs(closest_sum - target):\n",
        "                    closest_sum = current_sum\n",
        "\n",
        "                if current_sum < target:\n",
        "                    left += 1\n",
        "                elif current_sum > target:\n",
        "                    right -= 1\n",
        "                else:\n",
        "                    return current_sum\n",
        "\n",
        "        return closest_sum\n",
        "\n",
        "sol = Solution()\n"
      ],
      "metadata": {
        "id": "9pNk72KxV7d4"
      },
      "execution_count": null,
      "outputs": []
    },
    {
      "cell_type": "markdown",
      "source": [
        "17번"
      ],
      "metadata": {
        "id": "x-5GCwjaV8JG"
      }
    },
    {
      "cell_type": "code",
      "source": [
        "from typing import List\n",
        "\n",
        "class Solution:\n",
        "    def letterCombinations(self, digits: str) -> List[str]:\n",
        "        if not digits:\n",
        "            return []\n",
        "\n",
        "        phone_map = {\n",
        "            '2': 'abc', '3': 'def', '4': 'ghi', '5': 'jkl',\n",
        "            '6': 'mno', '7': 'pqrs', '8': 'tuv', '9': 'wxyz'\n",
        "        }\n",
        "\n",
        "        def backtrack(index: int, path: str):\n",
        "            if index == len(digits):\n",
        "                combinations.append(path)\n",
        "                return\n",
        "            possible_letters = phone_map[digits[index]]\n",
        "            for letter in possible_letters:\n",
        "                backtrack(index + 1, path + letter)\n",
        "\n",
        "        combinations = []\n",
        "        backtrack(0, \"\")\n",
        "        return combinations\n",
        "\n",
        "sol = Solution()\n"
      ],
      "metadata": {
        "id": "spIR4bv3WAXz"
      },
      "execution_count": null,
      "outputs": []
    },
    {
      "cell_type": "markdown",
      "source": [
        "18번"
      ],
      "metadata": {
        "id": "0UI32-ZPW5UV"
      }
    },
    {
      "cell_type": "code",
      "source": [
        "from typing import List\n",
        "\n",
        "class Solution:\n",
        "    def fourSum(self, nums: List[int], target: int) -> List[List[int]]:\n",
        "        nums.sort()\n",
        "        results = []\n",
        "        length = len(nums)\n",
        "\n",
        "        for i in range(length - 3):\n",
        "            if i > 0 and nums[i] == nums[i - 1]:\n",
        "                continue\n",
        "            for j in range(i + 1, length - 2):\n",
        "                if j > i + 1 and nums[j] == nums[j - 1]:\n",
        "                    continue\n",
        "                left, right = j + 1, length - 1\n",
        "                while left < right:\n",
        "                    total = nums[i] + nums[j] + nums[left] + nums[right]\n",
        "                    if total == target:\n",
        "                        results.append([nums[i], nums[j], nums[left], nums[right]])\n",
        "                        while left < right and nums[left] == nums[left + 1]:\n",
        "                            left += 1\n",
        "                        while left < right and nums[right] == nums[right - 1]:\n",
        "                            right -= 1\n",
        "                        left += 1\n",
        "                        right -= 1\n",
        "                    elif total < target:\n",
        "                        left += 1\n",
        "                    else:\n",
        "                        right -= 1\n",
        "\n",
        "        return results\n",
        "\n",
        "sol = Solution()\n"
      ],
      "metadata": {
        "id": "Fg4vtj7tW6FS"
      },
      "execution_count": null,
      "outputs": []
    },
    {
      "cell_type": "markdown",
      "source": [
        "20번"
      ],
      "metadata": {
        "id": "edjEXcwlW7MP"
      }
    },
    {
      "cell_type": "code",
      "source": [
        "class Solution:\n",
        "    def isValid(self, s: str) -> bool:\n",
        "        stack = []\n",
        "        mapping = {\")\": \"(\", \"}\": \"{\", \"]\": \"[\"}\n",
        "\n",
        "        for char in s:\n",
        "            if char in mapping:\n",
        "                top_element = stack.pop() if stack else '#'\n",
        "                if mapping[char] != top_element:\n",
        "                    return False\n",
        "            else:\n",
        "                stack.append(char)\n",
        "        return not stack\n",
        "\n",
        "sol = Solution()"
      ],
      "metadata": {
        "id": "ssn5aUGyW_n1"
      },
      "execution_count": null,
      "outputs": []
    },
    {
      "cell_type": "markdown",
      "source": [
        "21번"
      ],
      "metadata": {
        "id": "ScxXRWfgXCbg"
      }
    },
    {
      "cell_type": "code",
      "source": [
        "class ListNode:\n",
        "    def __init__(self, val=0, next=None):\n",
        "        self.val = val\n",
        "        self.next = next\n",
        "\n",
        "class Solution:\n",
        "    def mergeTwoLists(self, list1: ListNode, list2: ListNode) -> ListNode:\n",
        "        dummy = ListNode()\n",
        "        current = dummy\n",
        "        while list1 and list2:\n",
        "            if list1.val < list2.val:\n",
        "                current.next = list1\n",
        "                list1 = list1.next\n",
        "            else:\n",
        "                current.next = list2\n",
        "                list2 = list2.next\n",
        "            current = current.next\n",
        "        if list1:\n",
        "            current.next = list1\n",
        "        if list2:\n",
        "            current.next = list2\n",
        "        return dummy.next\n"
      ],
      "metadata": {
        "id": "tTDkHEFeXERU"
      },
      "execution_count": null,
      "outputs": []
    },
    {
      "cell_type": "markdown",
      "source": [
        "24번"
      ],
      "metadata": {
        "id": "FFA6607mXK-s"
      }
    },
    {
      "cell_type": "code",
      "source": [
        "class ListNode:\n",
        "    def __init__(self, val=0, next=None):\n",
        "        self.val = val\n",
        "        self.next = next\n",
        "\n",
        "class Solution:\n",
        "    def swapPairs(self, head: ListNode) -> ListNode:\n",
        "        dummy = ListNode(0)\n",
        "        dummy.next = head\n",
        "        current = dummy\n",
        "        while current.next and current.next.next:\n",
        "            first = current.next\n",
        "            second = current.next.next\n",
        "            first.next = second.next\n",
        "            second.next = first\n",
        "            current.next = second\n",
        "            current = first\n",
        "\n",
        "        return dummy.next\n"
      ],
      "metadata": {
        "id": "VH_VJAIoXOD-"
      },
      "execution_count": null,
      "outputs": []
    },
    {
      "cell_type": "markdown",
      "source": [
        "26번"
      ],
      "metadata": {
        "id": "Zn4oCG-5XRuh"
      }
    },
    {
      "cell_type": "code",
      "source": [
        "from typing import List\n",
        "\n",
        "class Solution:\n",
        "    def removeDuplicates(self, nums: List[int]) -> int:\n",
        "        if not nums:\n",
        "            return 0\n",
        "        unique_index = 1\n",
        "        for i in range(1, len(nums)):\n",
        "            if nums[i] != nums[i - 1]:\n",
        "                nums[unique_index] = nums[i]\n",
        "                unique_index += 1\n",
        "        return unique_index\n"
      ],
      "metadata": {
        "id": "E01FWwkwXSWw"
      },
      "execution_count": null,
      "outputs": []
    },
    {
      "cell_type": "markdown",
      "source": [
        "27번"
      ],
      "metadata": {
        "id": "AyrJukqPXS-I"
      }
    },
    {
      "cell_type": "code",
      "source": [
        "from typing import List\n",
        "\n",
        "class Solution:\n",
        "    def removeElement(self, nums: List[int], val: int) -> int:\n",
        "        index = 0\n",
        "        for i in range(len(nums)):\n",
        "            if nums[i] != val:\n",
        "                nums[index] = nums[i]\n",
        "                index += 1\n",
        "        return index\n"
      ],
      "metadata": {
        "id": "HGH1LjSWXVnD"
      },
      "execution_count": null,
      "outputs": []
    },
    {
      "cell_type": "markdown",
      "source": [
        "28번"
      ],
      "metadata": {
        "id": "KaO8AYYhXWTL"
      }
    },
    {
      "cell_type": "code",
      "source": [
        "class Solution:\n",
        "    def strStr(self, haystack: str, needle: str) -> int:\n",
        "        if not needle:\n",
        "            return 0\n",
        "        len_h = len(haystack)\n",
        "        len_n = len(needle)\n",
        "        for i in range(len_h - len_n + 1):\n",
        "            if haystack[i:i+len_n] == needle:\n",
        "                return i\n",
        "        return -1\n"
      ],
      "metadata": {
        "id": "pO6rd4ZuXYax"
      },
      "execution_count": null,
      "outputs": []
    },
    {
      "cell_type": "markdown",
      "source": [
        "29번"
      ],
      "metadata": {
        "id": "kAYxJhF8XY_0"
      }
    },
    {
      "cell_type": "code",
      "source": [
        "class Solution:\n",
        "    def divide(self, dividend: int, divisor: int) -> int:\n",
        "        MAX_INT = 2**31 - 1\n",
        "        MIN_INT = -2**31\n",
        "        if dividend == MIN_INT and divisor == -1:\n",
        "            return MAX_INT\n",
        "        negative = (dividend < 0) != (divisor < 0)\n",
        "        dividend, divisor = abs(dividend), abs(divisor)\n",
        "        quotient = 0\n",
        "        while dividend >= divisor:\n",
        "            temp, multiple = divisor, 1\n",
        "            while dividend >= (temp << 1):\n",
        "                temp <<= 1\n",
        "                multiple <<= 1\n",
        "            dividend -= temp\n",
        "            quotient += multiple\n",
        "        if negative:\n",
        "            quotient = -quotient\n",
        "        return max(MIN_INT, min(MAX_INT, quotient))\n"
      ],
      "metadata": {
        "id": "MwAZs82RXa1d"
      },
      "execution_count": null,
      "outputs": []
    },
    {
      "cell_type": "markdown",
      "source": [
        "31번"
      ],
      "metadata": {
        "id": "EtRR2eAQXbUy"
      }
    },
    {
      "cell_type": "code",
      "source": [
        "from typing import List\n",
        "\n",
        "class Solution:\n",
        "    def nextPermutation(self, nums: List[int]) -> None:\n",
        "        i = len(nums) - 2\n",
        "        while i >= 0 and nums[i] >= nums[i + 1]:\n",
        "            i -= 1\n",
        "        if i >= 0:\n",
        "            j = len(nums) - 1\n",
        "            while nums[j] <= nums[i]:\n",
        "                j -= 1\n",
        "            nums[i], nums[j] = nums[j], nums[i]\n",
        "        left, right = i + 1, len(nums) - 1\n",
        "        while left < right:\n",
        "            nums[left], nums[right] = nums[right], nums[left]\n",
        "            left += 1\n",
        "            right -= 1\n"
      ],
      "metadata": {
        "id": "PQzu2nlIXeCe"
      },
      "execution_count": null,
      "outputs": []
    },
    {
      "cell_type": "markdown",
      "source": [
        "33번"
      ],
      "metadata": {
        "id": "bvW4j19nXenI"
      }
    },
    {
      "cell_type": "code",
      "source": [
        "from typing import List\n",
        "\n",
        "class Solution:\n",
        "    def search(self, nums: List[int], target: int) -> int:\n",
        "        left, right = 0, len(nums) - 1\n",
        "\n",
        "        while left <= right:\n",
        "            mid = (left + right) // 2\n",
        "\n",
        "            if nums[mid] == target:\n",
        "                return mid\n",
        "            if nums[left] <= nums[mid]:\n",
        "                if nums[left] <= target < nums[mid]:\n",
        "                    right = mid - 1\n",
        "                else:\n",
        "                    left = mid + 1\n",
        "            else:\n",
        "                if nums[mid] < target <= nums[right]:\n",
        "                    left = mid + 1\n",
        "                else:\n",
        "                    right = mid - 1\n",
        "\n",
        "        return -1\n"
      ],
      "metadata": {
        "id": "JpU3lk2UXhv5"
      },
      "execution_count": null,
      "outputs": []
    },
    {
      "cell_type": "markdown",
      "source": [
        "34번"
      ],
      "metadata": {
        "id": "BJNpFgiHXiQ-"
      }
    },
    {
      "cell_type": "code",
      "source": [
        "from typing import List\n",
        "\n",
        "class Solution:\n",
        "    def searchRange(self, nums: List[int], target: int) -> List[int]:\n",
        "        def findFirst(nums, target):\n",
        "            left, right = 0, len(nums) - 1\n",
        "            first_pos = -1\n",
        "            while left <= right:\n",
        "                mid = (left + right) // 2\n",
        "                if nums[mid] >= target:\n",
        "                    right = mid - 1\n",
        "                else:\n",
        "                    left = mid + 1\n",
        "                if nums[mid] == target:\n",
        "                    first_pos = mid\n",
        "            return first_pos\n",
        "\n",
        "        def findLast(nums, target):\n",
        "            left, right = 0, len(nums) - 1\n",
        "            last_pos = -1\n",
        "            while left <= right:\n",
        "                mid = (left + right) // 2\n",
        "                if nums[mid] <= target:\n",
        "                    left = mid + 1\n",
        "                else:\n",
        "                    right = mid - 1\n",
        "                if nums[mid] == target:\n",
        "                    last_pos = mid\n",
        "            return last_pos\n",
        "\n",
        "        first_pos = findFirst(nums, target)\n",
        "        if first_pos == -1:\n",
        "            return [-1, -1]\n",
        "        last_pos = findLast(nums, target)\n",
        "        return [first_pos, last_pos]\n"
      ],
      "metadata": {
        "id": "xcvBp_SxXlOR"
      },
      "execution_count": null,
      "outputs": []
    },
    {
      "cell_type": "markdown",
      "source": [
        "35번"
      ],
      "metadata": {
        "id": "b1qOfsZgXuSa"
      }
    },
    {
      "cell_type": "code",
      "source": [
        "from typing import List\n",
        "\n",
        "class Solution:\n",
        "    def searchInsert(self, nums: List[int], target: int) -> int:\n",
        "        left, right = 0, len(nums) - 1\n",
        "\n",
        "        while left <= right:\n",
        "            mid = (left + right) // 2\n",
        "\n",
        "            if nums[mid] == target:\n",
        "                return mid\n",
        "            elif nums[mid] < target:\n",
        "                left = mid + 1\n",
        "            else:\n",
        "                right = mid - 1\n",
        "\n",
        "        return left\n"
      ],
      "metadata": {
        "id": "IGnYncatYlK7"
      },
      "execution_count": null,
      "outputs": []
    },
    {
      "cell_type": "markdown",
      "source": [
        "36번"
      ],
      "metadata": {
        "id": "4CV40s3hYmt0"
      }
    },
    {
      "cell_type": "code",
      "source": [
        "from typing import List\n",
        "\n",
        "class Solution:\n",
        "    def isValidSudoku(self, board: List[List[str]]) -> bool:\n",
        "        rows = [set() for _ in range(9)]\n",
        "        cols = [set() for _ in range(9)]\n",
        "        boxes = [set() for _ in range(9)]\n",
        "\n",
        "        for r in range(9):\n",
        "            for c in range(9):\n",
        "                num = board[r][c]\n",
        "                if num == '.':\n",
        "                    continue\n",
        "                if num in rows[r]:\n",
        "                    return False\n",
        "                rows[r].add(num)\n",
        "                if num in cols[c]:\n",
        "                    return False\n",
        "                cols[c].add(num)\n",
        "                box_index = (r // 3) * 3 + (c // 3)\n",
        "                if num in boxes[box_index]:\n",
        "                    return False\n",
        "                boxes[box_index].add(num)\n",
        "\n",
        "        return True\n"
      ],
      "metadata": {
        "id": "RU58UhOWYqAM"
      },
      "execution_count": null,
      "outputs": []
    },
    {
      "cell_type": "markdown",
      "source": [
        "38번"
      ],
      "metadata": {
        "id": "QpmjN6WuYqet"
      }
    },
    {
      "cell_type": "code",
      "source": [
        "class Solution:\n",
        "    def countAndSay(self, n: int) -> str:\n",
        "        if n == 1:\n",
        "            return \"1\"\n",
        "        prev_sequence = \"1\"\n",
        "\n",
        "        for _ in range(2, n + 1):\n",
        "            next_sequence = \"\"\n",
        "            i = 0\n",
        "            while i < len(prev_sequence):\n",
        "                count = 1\n",
        "                while i + 1 < len(prev_sequence) and prev_sequence[i] == prev_sequence[i + 1]:\n",
        "                    i += 1\n",
        "                    count += 1\n",
        "                next_sequence += str(count) + prev_sequence[i]\n",
        "                i += 1\n",
        "            prev_sequence = next_sequence\n",
        "\n",
        "        return prev_sequence\n"
      ],
      "metadata": {
        "id": "s2igNPL2Ytpk"
      },
      "execution_count": null,
      "outputs": []
    },
    {
      "cell_type": "markdown",
      "source": [
        "39번"
      ],
      "metadata": {
        "id": "ahYEgFmBYuK1"
      }
    },
    {
      "cell_type": "code",
      "source": [
        "from typing import List\n",
        "\n",
        "class Solution:\n",
        "    def combinationSum(self, candidates: List[int], target: int) -> List[List[int]]:\n",
        "        result = []\n",
        "\n",
        "        def backtrack(remaining: int, combination: List[int], start: int):\n",
        "            if remaining == 0:\n",
        "                result.append(list(combination))\n",
        "                return\n",
        "            elif remaining < 0:\n",
        "                return\n",
        "\n",
        "            for i in range(start, len(candidates)):\n",
        "                combination.append(candidates[i])\n",
        "                backtrack(remaining - candidates[i], combination, i)\n",
        "                combination.pop()\n",
        "\n",
        "        backtrack(target, [], 0)\n",
        "        return result\n"
      ],
      "metadata": {
        "id": "LD5fpwxKYxF6"
      },
      "execution_count": null,
      "outputs": []
    },
    {
      "cell_type": "markdown",
      "source": [
        "40번"
      ],
      "metadata": {
        "id": "smFP6PFaYxuF"
      }
    },
    {
      "cell_type": "code",
      "source": [
        "from typing import List\n",
        "\n",
        "class Solution:\n",
        "    def combinationSum2(self, candidates: List[int], target: int) -> List[List[int]]:\n",
        "        def backtrack(start, target, path):\n",
        "            if target == 0:\n",
        "                result.append(path)\n",
        "                return\n",
        "            if target < 0:\n",
        "                return\n",
        "\n",
        "            for i in range(start, len(candidates)):\n",
        "                if i > start and candidates[i] == candidates[i - 1]:\n",
        "                    continue\n",
        "                backtrack(i + 1, target - candidates[i], path + [candidates[i]])\n",
        "\n",
        "        candidates.sort()\n",
        "        result = []\n",
        "        backtrack(0, target, [])\n",
        "        return result\n"
      ],
      "metadata": {
        "id": "PxKkWQR3Y1Ij"
      },
      "execution_count": null,
      "outputs": []
    },
    {
      "cell_type": "markdown",
      "source": [
        "43번"
      ],
      "metadata": {
        "id": "zQ6GyqXiY2EC"
      }
    },
    {
      "cell_type": "code",
      "source": [
        "class Solution:\n",
        "    def multiply(self, num1: str, num2: str) -> str:\n",
        "        if num1 == \"0\" or num2 == \"0\":\n",
        "            return \"0\"\n",
        "        result = [0] * (len(num1) + len(num2))\n",
        "        num1 = num1[::-1]\n",
        "        num2 = num2[::-1]\n",
        "        for i in range(len(num1)):\n",
        "            for j in range(len(num2)):\n",
        "                product = int(num1[i]) * int(num2[j])\n",
        "                result[i + j] += product\n",
        "                result[i + j + 1] += result[i + j] // 10\n",
        "                result[i + j] %= 10\n",
        "        while len(result) > 1 and result[-1] == 0:\n",
        "            result.pop()\n",
        "        result = result[::-1]\n",
        "        return ''.join(map(str, result))\n",
        "solution = Solution()\n"
      ],
      "metadata": {
        "id": "Nq8bHO5KY56x"
      },
      "execution_count": null,
      "outputs": []
    },
    {
      "cell_type": "markdown",
      "source": [
        "45번"
      ],
      "metadata": {
        "id": "I4-8Wh50Y6bo"
      }
    },
    {
      "cell_type": "code",
      "source": [
        "from typing import List\n",
        "\n",
        "class Solution:\n",
        "    def jump(self, nums: List[int]) -> int:\n",
        "        if len(nums) <= 1:\n",
        "            return 0\n",
        "\n",
        "        jumps = 0\n",
        "        current_end = 0\n",
        "        farthest = 0\n",
        "        for i in range(len(nums) - 1):\n",
        "            farthest = max(farthest, i + nums[i])\n",
        "            if i == current_end:\n",
        "                jumps += 1\n",
        "                current_end = farthest\n",
        "\n",
        "                if current_end >= len(nums) - 1:\n",
        "                    break\n",
        "\n",
        "        return jumps\n"
      ],
      "metadata": {
        "id": "mwcrUaHBZAbk"
      },
      "execution_count": null,
      "outputs": []
    },
    {
      "cell_type": "markdown",
      "source": [
        "46번"
      ],
      "metadata": {
        "id": "vsZlAL0EZBED"
      }
    },
    {
      "cell_type": "code",
      "source": [
        "from typing import List\n",
        "\n",
        "class Solution:\n",
        "    def permute(self, nums: List[int]) -> List[List[int]]:\n",
        "        result = []\n",
        "\n",
        "        def backtrack(start):\n",
        "            if start == len(nums):\n",
        "                result.append(nums[:])\n",
        "                return\n",
        "\n",
        "            for i in range(start, len(nums)):\n",
        "                nums[start], nums[i] = nums[i], nums[start]\n",
        "                backtrack(start + 1)\n",
        "                nums[start], nums[i] = nums[i], nums[start]\n",
        "\n",
        "        backtrack(0)\n",
        "        return result\n"
      ],
      "metadata": {
        "id": "0RWEAiPBZEIl"
      },
      "execution_count": null,
      "outputs": []
    },
    {
      "cell_type": "markdown",
      "source": [
        "47번"
      ],
      "metadata": {
        "id": "49_qxf_oZErK"
      }
    },
    {
      "cell_type": "code",
      "source": [
        "from typing import List\n",
        "\n",
        "class Solution:\n",
        "    def permuteUnique(self, nums: List[int]) -> List[List[int]]:\n",
        "        result = []\n",
        "        nums.sort()\n",
        "\n",
        "        def backtrack(start):\n",
        "            if start == len(nums):\n",
        "                result.append(nums[:])\n",
        "                return\n",
        "\n",
        "            seen = set()\n",
        "            for i in range(start, len(nums)):\n",
        "                if nums[i] in seen:\n",
        "                    continue\n",
        "                seen.add(nums[i])\n",
        "                nums[start], nums[i] = nums[i], nums[start]\n",
        "                backtrack(start + 1)\n",
        "                nums[start], nums[i] = nums[i], nums[start]\n",
        "\n",
        "        backtrack(0)\n",
        "        return result\n"
      ],
      "metadata": {
        "id": "kBDGMEsFZJRU"
      },
      "execution_count": null,
      "outputs": []
    },
    {
      "cell_type": "markdown",
      "source": [
        "48번"
      ],
      "metadata": {
        "id": "KighajnlZJ0W"
      }
    },
    {
      "cell_type": "code",
      "source": [
        "from typing import List\n",
        "\n",
        "class Solution:\n",
        "    def rotate(self, matrix: List[List[int]]) -> None:\n",
        "        n = len(matrix)\n",
        "        for i in range(n):\n",
        "            for j in range(i, n):\n",
        "                matrix[i][j], matrix[j][i] = matrix[j][i], matrix[i][j]\n",
        "        for i in range(n):\n",
        "            matrix[i].reverse()\n"
      ],
      "metadata": {
        "id": "OpJogTSzZL4M"
      },
      "execution_count": null,
      "outputs": []
    },
    {
      "cell_type": "markdown",
      "source": [
        "49번"
      ],
      "metadata": {
        "id": "LcUJLJucZMaE"
      }
    },
    {
      "cell_type": "code",
      "source": [
        "from typing import List\n",
        "from collections import defaultdict\n",
        "\n",
        "class Solution:\n",
        "    def groupAnagrams(self, strs: List[str]) -> List[List[str]]:\n",
        "        anagrams = defaultdict(list)\n",
        "\n",
        "        for word in strs:\n",
        "            sorted_word = ''.join(sorted(word))\n",
        "            anagrams[sorted_word].append(word)\n",
        "\n",
        "        return list(anagrams.values())\n"
      ],
      "metadata": {
        "id": "6pZtl24mZPr1"
      },
      "execution_count": null,
      "outputs": []
    },
    {
      "cell_type": "markdown",
      "source": [
        "50번"
      ],
      "metadata": {
        "id": "OHyqbphBZQMm"
      }
    },
    {
      "cell_type": "code",
      "source": [
        "class Solution:\n",
        "    def myPow(self, x: float, n: int) -> float:\n",
        "        if n == 0:\n",
        "            return 1\n",
        "        if n < 0:\n",
        "            x = 1 / x\n",
        "            n = -n\n",
        "\n",
        "        def fastPow(x, n):\n",
        "            if n == 0:\n",
        "                return 1\n",
        "            half = fastPow(x, n // 2)\n",
        "            if n % 2 == 0:\n",
        "                return half * half\n",
        "            else:\n",
        "                return half * half * x\n",
        "\n",
        "        return fastPow(x, n)\n"
      ],
      "metadata": {
        "id": "ULFyqIrfZSeR"
      },
      "execution_count": null,
      "outputs": []
    },
    {
      "cell_type": "markdown",
      "source": [
        "51번"
      ],
      "metadata": {
        "id": "cbbfjjDHZS9s"
      }
    },
    {
      "cell_type": "code",
      "source": [
        "class Solution:\n",
        "    def solveNQueens(self, n: int) -> list[list[str]]:\n",
        "        def backtrack(row: int):\n",
        "            if row == n:\n",
        "                board = [''.join(r) for r in grid]\n",
        "                result.append(board)\n",
        "                return\n",
        "\n",
        "            for col in range(n):\n",
        "                if col in cols or (row - col) in diag1 or (row + col) in diag2:\n",
        "                    continue\n",
        "                cols.add(col)\n",
        "                diag1.add(row - col)\n",
        "                diag2.add(row + col)\n",
        "                grid[row][col] = 'Q'\n",
        "                backtrack(row + 1)\n",
        "                cols.remove(col)\n",
        "                diag1.remove(row - col)\n",
        "                diag2.remove(row + col)\n",
        "                grid[row][col] = '.'\n",
        "\n",
        "        result = []\n",
        "        cols = set()\n",
        "        diag1 = set()\n",
        "        diag2 = set()\n",
        "        grid = [['.'] * n for _ in range(n)]\n",
        "\n",
        "        backtrack(0)\n",
        "        return result"
      ],
      "metadata": {
        "id": "Jgi__IQMZVWp"
      },
      "execution_count": null,
      "outputs": []
    },
    {
      "cell_type": "markdown",
      "source": [
        "52번"
      ],
      "metadata": {
        "id": "mIE0MSY4ZV7K"
      }
    },
    {
      "cell_type": "code",
      "source": [
        "class Solution:\n",
        "    def totalNQueens(self, n: int) -> int:\n",
        "        def backtrack(row: int):\n",
        "            if row == n:\n",
        "                self.count += 1\n",
        "                return\n",
        "\n",
        "            for col in range(n):\n",
        "                if col in cols or (row - col) in diag1 or (row + col) in diag2:\n",
        "                    continue\n",
        "                cols.add(col)\n",
        "                diag1.add(row - col)\n",
        "                diag2.add(row + col)\n",
        "                backtrack(row + 1)\n",
        "                cols.remove(col)\n",
        "                diag1.remove(row - col)\n",
        "                diag2.remove(row + col)\n",
        "\n",
        "        self.count = 0\n",
        "        cols = set()\n",
        "        diag1 = set()\n",
        "        diag2 = set()\n",
        "\n",
        "        backtrack(0)\n",
        "        return self.count"
      ],
      "metadata": {
        "id": "lqho2d-1ZZsk"
      },
      "execution_count": null,
      "outputs": []
    },
    {
      "cell_type": "markdown",
      "source": [
        "53번"
      ],
      "metadata": {
        "id": "lniaYks4ZaTu"
      }
    },
    {
      "cell_type": "code",
      "source": [
        "from typing import List\n",
        "\n",
        "class Solution:\n",
        "    def maxSubArray(self, nums: List[int]) -> int:\n",
        "        current_sum = max_sum = nums[0]\n",
        "        for num in nums[1:]:\n",
        "            current_sum = max(num, current_sum + num)\n",
        "            max_sum = max(max_sum, current_sum)\n",
        "\n",
        "        return max_sum\n"
      ],
      "metadata": {
        "id": "Qm9j9D85ZccB"
      },
      "execution_count": null,
      "outputs": []
    },
    {
      "cell_type": "markdown",
      "source": [
        "54번"
      ],
      "metadata": {
        "id": "J3tYHRehZc9Z"
      }
    },
    {
      "cell_type": "code",
      "source": [
        "from typing import List\n",
        "\n",
        "class Solution:\n",
        "    def spiralOrder(self, matrix: List[List[int]]) -> List[int]:\n",
        "        result = []\n",
        "        if not matrix or not matrix[0]:\n",
        "            return result\n",
        "\n",
        "        top, bottom = 0, len(matrix) - 1\n",
        "        left, right = 0, len(matrix[0]) - 1\n",
        "\n",
        "        while top <= bottom and left <= right:\n",
        "            for i in range(left, right + 1):\n",
        "                result.append(matrix[top][i])\n",
        "            top += 1\n",
        "            for i in range(top, bottom + 1):\n",
        "                result.append(matrix[i][right])\n",
        "            right -= 1\n",
        "\n",
        "            if top <= bottom:\n",
        "                for i in range(right, left - 1, -1):\n",
        "                    result.append(matrix[bottom][i])\n",
        "                bottom -= 1\n",
        "\n",
        "            if left <= right:\n",
        "                for i in range(bottom, top - 1, -1):\n",
        "                    result.append(matrix[i][left])\n",
        "                left += 1\n",
        "\n",
        "        return result\n"
      ],
      "metadata": {
        "id": "tX62IM3wZgO1"
      },
      "execution_count": null,
      "outputs": []
    },
    {
      "cell_type": "markdown",
      "source": [
        "55번"
      ],
      "metadata": {
        "id": "DPPEr0OLZgwk"
      }
    },
    {
      "cell_type": "code",
      "source": [
        "from typing import List\n",
        "\n",
        "class Solution:\n",
        "    def canJump(self, nums: List[int]) -> bool:\n",
        "        max_reachable = 0\n",
        "        for i, jump in enumerate(nums):\n",
        "            if i > max_reachable:\n",
        "                return False\n",
        "            max_reachable = max(max_reachable, i + jump)\n",
        "        return max_reachable >= len(nums) - 1\n"
      ],
      "metadata": {
        "id": "9tGBSKqiZi5y"
      },
      "execution_count": null,
      "outputs": []
    },
    {
      "cell_type": "markdown",
      "source": [
        "56번"
      ],
      "metadata": {
        "id": "38Wg-DL0ZjcY"
      }
    },
    {
      "cell_type": "code",
      "source": [
        "from typing import List\n",
        "\n",
        "class Solution:\n",
        "    def merge(self, intervals: List[List[int]]) -> List[List[int]]:\n",
        "        intervals.sort(key=lambda x: x[0])\n",
        "\n",
        "        merged = []\n",
        "        for interval in intervals:\n",
        "            if not merged or merged[-1][1] < interval[0]:\n",
        "                merged.append(interval)\n",
        "            else:\n",
        "                merged[-1][1] = max(merged[-1][1], interval[1])\n",
        "\n",
        "        return merged\n"
      ],
      "metadata": {
        "id": "YsDtmb5lZmss"
      },
      "execution_count": null,
      "outputs": []
    },
    {
      "cell_type": "markdown",
      "source": [
        "57번"
      ],
      "metadata": {
        "id": "CVVmauQkZpWm"
      }
    },
    {
      "cell_type": "code",
      "source": [
        "from typing import List\n",
        "\n",
        "class Solution:\n",
        "    def insert(self, intervals: List[List[int]], newInterval: List[int]) -> List[List[int]]:\n",
        "        result = []\n",
        "        i = 0\n",
        "        n = len(intervals)\n",
        "        while i < n and intervals[i][1] < newInterval[0]:\n",
        "            result.append(intervals[i])\n",
        "            i += 1\n",
        "        while i < n and intervals[i][0] <= newInterval[1]:\n",
        "            newInterval[0] = min(newInterval[0], intervals[i][0])\n",
        "            newInterval[1] = max(newInterval[1], intervals[i][1])\n",
        "            i += 1\n",
        "        result.append(newInterval)\n",
        "        while i < n:\n",
        "            result.append(intervals[i])\n",
        "            i += 1\n",
        "\n",
        "        return result\n"
      ],
      "metadata": {
        "id": "hQowXvi5ZqCV"
      },
      "execution_count": null,
      "outputs": []
    },
    {
      "cell_type": "markdown",
      "source": [
        "58번"
      ],
      "metadata": {
        "id": "amRCuxJiZqhz"
      }
    },
    {
      "cell_type": "code",
      "source": [
        "class Solution:\n",
        "    def lengthOfLastWord(self, s: str) -> int:\n",
        "        s = s.rstrip()\n",
        "        last_space_index = s.rfind(' ')\n",
        "        return len(s) - last_space_index - 1\n"
      ],
      "metadata": {
        "id": "ag5sv8yvZsn3"
      },
      "execution_count": null,
      "outputs": []
    },
    {
      "cell_type": "markdown",
      "source": [
        "59번"
      ],
      "metadata": {
        "id": "2XZgoWXLZte4"
      }
    },
    {
      "cell_type": "code",
      "source": [
        "from typing import List\n",
        "\n",
        "class Solution:\n",
        "    def generateMatrix(self, n: int) -> List[List[int]]:\n",
        "        result = [[0] * n for _ in range(n)]\n",
        "        left, right = 0, n - 1\n",
        "        top, bottom = 0, n - 1\n",
        "        num = 1\n",
        "\n",
        "        while left <= right and top <= bottom:\n",
        "            for i in range(left, right + 1):\n",
        "                result[top][i] = num\n",
        "                num += 1\n",
        "            top += 1\n",
        "            for i in range(top, bottom + 1):\n",
        "                result[i][right] = num\n",
        "                num += 1\n",
        "            right -= 1\n",
        "            if top <= bottom:\n",
        "                for i in range(right, left - 1, -1):\n",
        "                    result[bottom][i] = num\n",
        "                    num += 1\n",
        "                bottom -= 1\n",
        "            if left <= right:\n",
        "                for i in range(bottom, top - 1, -1):\n",
        "                    result[i][left] = num\n",
        "                    num += 1\n",
        "                left += 1\n",
        "\n",
        "        return result\n"
      ],
      "metadata": {
        "id": "n4gDP3pLZwlN"
      },
      "execution_count": null,
      "outputs": []
    },
    {
      "cell_type": "markdown",
      "source": [
        "60번"
      ],
      "metadata": {
        "id": "fUW_H_DgZxFS"
      }
    },
    {
      "cell_type": "code",
      "source": [
        "import math\n",
        "\n",
        "class Solution:\n",
        "    def getPermutation(self, n: int, k: int) -> str:\n",
        "        numbers = list(range(1, n + 1))\n",
        "        permutation = []\n",
        "        k -= 1\n",
        "        for i in range(n, 0, -1):\n",
        "            factorial = math.factorial(i - 1)\n",
        "            index = k // factorial\n",
        "            k %= factorial\n",
        "            permutation.append(str(numbers[index]))\n",
        "            numbers.pop(index)\n",
        "\n",
        "        return ''.join(permutation)\n",
        "\n",
        "solution = Solution()\n"
      ],
      "metadata": {
        "id": "8pHDokMiZ0hu"
      },
      "execution_count": null,
      "outputs": []
    },
    {
      "cell_type": "markdown",
      "source": [
        "61번"
      ],
      "metadata": {
        "id": "3gw7cFCLZ0_9"
      }
    },
    {
      "cell_type": "code",
      "source": [
        "class ListNode:\n",
        "    def __init__(self, val=0, next=None):\n",
        "        self.val = val\n",
        "        self.next = next\n",
        "\n",
        "class Solution:\n",
        "    def rotateRight(self, head: ListNode, k: int) -> ListNode:\n",
        "        if not head or not head.next or k == 0:\n",
        "            return head\n",
        "        old_tail = head\n",
        "        length = 1\n",
        "        while old_tail.next:\n",
        "            old_tail = old_tail.next\n",
        "            length += 1\n",
        "        old_tail.next = head\n",
        "        new_tail = head\n",
        "        for _ in range(length - k % length - 1):\n",
        "            new_tail = new_tail.next\n",
        "        new_head = new_tail.next\n",
        "        new_tail.next = None\n",
        "\n",
        "        return new_head\n",
        "def list_to_linkedlist(arr):\n",
        "    if not arr:\n",
        "        return None\n",
        "    head = ListNode(arr[0])\n",
        "    current = head\n",
        "    for val in arr[1:]:\n",
        "        current.next = ListNode(val)\n",
        "        current = current.next\n",
        "    return head\n",
        "def linkedlist_to_list(node):\n",
        "    result = []\n",
        "    while node:\n",
        "        result.append(node.val)\n",
        "        node = node.next\n",
        "    return result\n",
        "\n",
        "solution = Solution()"
      ],
      "metadata": {
        "id": "juN1_3OjZ305"
      },
      "execution_count": null,
      "outputs": []
    },
    {
      "cell_type": "markdown",
      "source": [
        "62번"
      ],
      "metadata": {
        "id": "X7d4zGsMZ4T0"
      }
    },
    {
      "cell_type": "code",
      "source": [
        "class Solution:\n",
        "    def uniquePaths(self, m: int, n: int) -> int:\n",
        "        dp = [[1]*n for _ in range(m)]\n",
        "        for i in range(1, m):\n",
        "            for j in range(1, n):\n",
        "                dp[i][j] = dp[i-1][j] + dp[i][j-1]\n",
        "\n",
        "        return dp[m-1][n-1]\n"
      ],
      "metadata": {
        "id": "rjLd7uyRZ6mH"
      },
      "execution_count": null,
      "outputs": []
    },
    {
      "cell_type": "markdown",
      "source": [
        "63번"
      ],
      "metadata": {
        "id": "LEFbzz6rZ7J8"
      }
    },
    {
      "cell_type": "code",
      "source": [
        "from typing import List\n",
        "\n",
        "class Solution:\n",
        "    def uniquePathsWithObstacles(self, obstacleGrid: List[List[int]]) -> int:\n",
        "        if not obstacleGrid or obstacleGrid[0][0] == 1:\n",
        "            return 0\n",
        "\n",
        "        m, n = len(obstacleGrid), len(obstacleGrid[0])\n",
        "        dp = [[0] * n for _ in range(m)]\n",
        "\n",
        "        dp[0][0] = 1\n",
        "        for i in range(1, m):\n",
        "            dp[i][0] = dp[i-1][0] if obstacleGrid[i][0] == 0 else 0\n",
        "        for j in range(1, n):\n",
        "            dp[0][j] = dp[0][j-1] if obstacleGrid[0][j] == 0 else 0\n",
        "        for i in range(1, m):\n",
        "            for j in range(1, n):\n",
        "                if obstacleGrid[i][j] == 0:\n",
        "                    dp[i][j] = dp[i-1][j] + dp[i][j-1]\n",
        "\n",
        "        return dp[m-1][n-1]\n"
      ],
      "metadata": {
        "id": "G8CtMJQjZ-ZH"
      },
      "execution_count": null,
      "outputs": []
    },
    {
      "cell_type": "markdown",
      "source": [
        "64번"
      ],
      "metadata": {
        "id": "NGG13UH6Z-5F"
      }
    },
    {
      "cell_type": "code",
      "source": [
        "class Solution:\n",
        "    def minPathSum(self, grid):\n",
        "        m, n = len(grid), len(grid[0])\n",
        "        for i in range(1, n):\n",
        "            grid[0][i] += grid[0][i - 1]\n",
        "        for j in range(1, m):\n",
        "            grid[j][0] += grid[j - 1][0]\n",
        "        for i in range(1, m):\n",
        "            for j in range(1, n):\n",
        "                grid[i][j] += min(grid[i - 1][j], grid[i][j - 1])\n",
        "\n",
        "        return grid[-1][-1]\n",
        "\n",
        "solution = Solution()"
      ],
      "metadata": {
        "id": "EWA6VhVgaB5n"
      },
      "execution_count": null,
      "outputs": []
    },
    {
      "cell_type": "markdown",
      "source": [
        "66번"
      ],
      "metadata": {
        "id": "JCsvzikJaCbO"
      }
    },
    {
      "cell_type": "code",
      "source": [
        "class Solution:\n",
        "    def plusOne(self, digits):\n",
        "        n = len(digits)\n",
        "        for i in range(n - 1, -1, -1):\n",
        "            if digits[i] < 9:\n",
        "                digits[i] += 1\n",
        "                return digits\n",
        "            digits[i] = 0\n",
        "        return [1] + digits\n",
        "\n",
        "solution = Solution()"
      ],
      "metadata": {
        "id": "p_7VQVgnaF2x"
      },
      "execution_count": null,
      "outputs": []
    },
    {
      "cell_type": "markdown",
      "source": [
        "67번"
      ],
      "metadata": {
        "id": "me1oBKr0aGa1"
      }
    },
    {
      "cell_type": "code",
      "source": [
        "class Solution:\n",
        "    def addBinary(self, a: str, b: str) -> str:\n",
        "        result = []\n",
        "        carry = 0\n",
        "        max_len = max(len(a), len(b))\n",
        "        a = a.zfill(max_len)\n",
        "        b = b.zfill(max_len)\n",
        "        for i in range(max_len - 1, -1, -1):\n",
        "            sum_val = int(a[i]) + int(b[i]) + carry\n",
        "            carry = sum_val // 2\n",
        "            result.append(str(sum_val % 2))\n",
        "        if carry:\n",
        "            result.append('1')\n",
        "        result.reverse()\n",
        "        return ''.join(result)\n",
        "\n",
        "solution = Solution()"
      ],
      "metadata": {
        "id": "t1Hn7Tl5aJIp"
      },
      "execution_count": null,
      "outputs": []
    },
    {
      "cell_type": "markdown",
      "source": [
        "69번"
      ],
      "metadata": {
        "id": "iiBGAiI1aMBZ"
      }
    },
    {
      "cell_type": "code",
      "source": [
        "class Solution:\n",
        "    def mySqrt(self, x: int) -> int:\n",
        "        if x < 2:\n",
        "            return x\n",
        "\n",
        "        left, right = 2, x // 2\n",
        "\n",
        "        while left <= right:\n",
        "            mid = (left + right) // 2\n",
        "            num = mid * mid\n",
        "\n",
        "            if num == x:\n",
        "                return mid\n",
        "            elif num < x:\n",
        "                left = mid + 1\n",
        "            else:\n",
        "                right = mid - 1\n",
        "\n",
        "        return right\n",
        "\n",
        "solution = Solution()"
      ],
      "metadata": {
        "id": "C8zzi6mgaM48"
      },
      "execution_count": null,
      "outputs": []
    },
    {
      "cell_type": "markdown",
      "source": [
        "70번"
      ],
      "metadata": {
        "id": "pbnBwhFSaNbz"
      }
    },
    {
      "cell_type": "code",
      "source": [
        "class Solution:\n",
        "    def climbStairs(self, n: int) -> int:\n",
        "        if n <= 2:\n",
        "            return n\n",
        "        first, second = 1, 2\n",
        "        for i in range(3, n + 1):\n",
        "            third = first + second\n",
        "            first = second\n",
        "            second = third\n",
        "\n",
        "        return second\n",
        "solution = Solution()"
      ],
      "metadata": {
        "id": "Pu09FcrDaRy_"
      },
      "execution_count": null,
      "outputs": []
    },
    {
      "cell_type": "markdown",
      "source": [
        "71번"
      ],
      "metadata": {
        "id": "tBmsp25ibTQW"
      }
    },
    {
      "cell_type": "code",
      "source": [
        "class Solution:\n",
        "    def simplifyPath(self, path: str) -> str:\n",
        "        parts = path.split('/')\n",
        "        stack = []\n",
        "\n",
        "        for part in parts:\n",
        "            if part == '' or part == '.':\n",
        "                continue\n",
        "            elif part == '..':\n",
        "                if stack:\n",
        "                    stack.pop()\n",
        "            else:\n",
        "                stack.append(part)\n",
        "\n",
        "        return '/' + '/'.join(stack)\n",
        "\n",
        "solution = Solution()\n"
      ],
      "metadata": {
        "id": "nnZ2H-JCbV9f"
      },
      "execution_count": null,
      "outputs": []
    },
    {
      "cell_type": "markdown",
      "source": [
        "72번"
      ],
      "metadata": {
        "id": "Kd5A87WmbXLD"
      }
    },
    {
      "cell_type": "code",
      "source": [
        "class Solution:\n",
        "    def minDistance(self, word1: str, word2: str) -> int:\n",
        "        m, n = len(word1), len(word2)\n",
        "        dp = [[0] * (n + 1) for _ in range(m + 1)]\n",
        "        for i in range(m + 1):\n",
        "            dp[i][0] = i\n",
        "        for j in range(n + 1):\n",
        "            dp[0][j] = j\n",
        "        for i in range(1, m + 1):\n",
        "            for j in range(1, n + 1):\n",
        "                if word1[i - 1] == word2[j - 1]:\n",
        "                    dp[i][j] = dp[i - 1][j - 1]\n",
        "                else:\n",
        "                    dp[i][j] = min(dp[i - 1][j] + 1,\n",
        "                                   dp[i][j - 1] + 1,\n",
        "                                   dp[i - 1][j - 1] + 1)\n",
        "\n",
        "        return dp[m][n]\n",
        "\n",
        "solution = Solution()\n"
      ],
      "metadata": {
        "id": "yBJpVeambZ_H"
      },
      "execution_count": null,
      "outputs": []
    },
    {
      "cell_type": "markdown",
      "source": [
        "73번"
      ],
      "metadata": {
        "id": "i1-qZfhbbalA"
      }
    },
    {
      "cell_type": "code",
      "source": [
        "class Solution:\n",
        "    def setZeroes(self, matrix):\n",
        "        m, n = len(matrix), len(matrix[0])\n",
        "        row_zero = False\n",
        "        for i in range(m):\n",
        "            for j in range(n):\n",
        "                if matrix[i][j] == 0:\n",
        "                    matrix[0][j] = 0\n",
        "                    if i > 0:\n",
        "                        matrix[i][0] = 0\n",
        "                    else:\n",
        "                        row_zero = True\n",
        "        for i in range(1, m):\n",
        "            for j in range(1, n):\n",
        "                if matrix[0][j] == 0 or matrix[i][0] == 0:\n",
        "                    matrix[i][j] = 0\n",
        "        if matrix[0][0] == 0:\n",
        "            for i in range(1, m):\n",
        "                matrix[i][0] = 0\n",
        "        if row_zero:\n",
        "            for j in range(n):\n",
        "                matrix[0][j] = 0\n",
        "        if matrix[0][0] == 0:\n",
        "            for i in range(m):\n",
        "                matrix[i][0] = 0\n",
        "\n",
        "\n",
        "solution = Solution()"
      ],
      "metadata": {
        "id": "BZTxU8Mxbc2f"
      },
      "execution_count": null,
      "outputs": []
    },
    {
      "cell_type": "markdown",
      "source": [
        "74번"
      ],
      "metadata": {
        "id": "M6mhqyrlbdaE"
      }
    },
    {
      "cell_type": "code",
      "source": [
        "class Solution:\n",
        "    def searchMatrix(self, matrix, target):\n",
        "        if not matrix or not matrix[0]:\n",
        "            return False\n",
        "\n",
        "        m, n = len(matrix), len(matrix[0])\n",
        "        left, right = 0, m * n - 1\n",
        "\n",
        "        while left <= right:\n",
        "            mid = (left + right) // 2\n",
        "            mid_value = matrix[mid // n][mid % n]\n",
        "\n",
        "            if mid_value == target:\n",
        "                return True\n",
        "            elif mid_value < target:\n",
        "                left = mid + 1\n",
        "            else:\n",
        "                right = mid - 1\n",
        "\n",
        "        return False\n",
        "solution = Solution()"
      ],
      "metadata": {
        "id": "vrv1MJJybfv9"
      },
      "execution_count": null,
      "outputs": []
    },
    {
      "cell_type": "markdown",
      "source": [
        "75번"
      ],
      "metadata": {
        "id": "VvOPavT8bgQr"
      }
    },
    {
      "cell_type": "code",
      "source": [
        "class Solution:\n",
        "    def sortColors(self, nums):\n",
        "        low, mid, high = 0, 0, len(nums) - 1\n",
        "\n",
        "        while mid <= high:\n",
        "            if nums[mid] == 0:\n",
        "                nums[low], nums[mid] = nums[mid], nums[low]\n",
        "                low += 1\n",
        "                mid += 1\n",
        "            elif nums[mid] == 1:\n",
        "                mid += 1\n",
        "            else:\n",
        "                nums[high], nums[mid] = nums[mid], nums[high]\n",
        "                high -= 1\n",
        "\n",
        "solution = Solution()"
      ],
      "metadata": {
        "id": "9Blg6Mdsbkhu"
      },
      "execution_count": null,
      "outputs": []
    },
    {
      "cell_type": "markdown",
      "source": [
        "77번"
      ],
      "metadata": {
        "id": "a2grbdxDbk-1"
      }
    },
    {
      "cell_type": "code",
      "source": [
        "from typing import List\n",
        "\n",
        "class Solution:\n",
        "    def combine(self, n: int, k: int) -> List[List[int]]:\n",
        "        def backtrack(start, comb):\n",
        "            if len(comb) == k:\n",
        "                result.append(list(comb))\n",
        "                return\n",
        "            for i in range(start, n + 1):\n",
        "                comb.append(i)\n",
        "                backtrack(i + 1, comb)\n",
        "                comb.pop()\n",
        "\n",
        "        result = []\n",
        "        backtrack(1, [])\n",
        "        return result\n",
        "\n",
        "solution = Solution()\n"
      ],
      "metadata": {
        "id": "jWzeiTypbonH"
      },
      "execution_count": null,
      "outputs": []
    },
    {
      "cell_type": "markdown",
      "source": [
        "78번"
      ],
      "metadata": {
        "id": "caYAT5CRbpQt"
      }
    },
    {
      "cell_type": "code",
      "source": [
        "from typing import List\n",
        "\n",
        "class Solution:\n",
        "    def subsets(self, nums: List[int]) -> List[List[int]]:\n",
        "        def backtrack(start, path):\n",
        "            result.append(list(path))\n",
        "            for i in range(start, len(nums)):\n",
        "                path.append(nums[i])\n",
        "                backtrack(i + 1, path)\n",
        "                path.pop()\n",
        "\n",
        "        result = []\n",
        "        backtrack(0, [])\n",
        "        return result\n",
        "\n",
        "solution = Solution()"
      ],
      "metadata": {
        "id": "gcVJK6q7bsGq"
      },
      "execution_count": null,
      "outputs": []
    },
    {
      "cell_type": "markdown",
      "source": [
        "79번"
      ],
      "metadata": {
        "id": "hlHxg7Mbbsla"
      }
    },
    {
      "cell_type": "code",
      "source": [
        "from typing import List\n",
        "\n",
        "class Solution:\n",
        "    def exist(self, board: List[List[str]], word: str) -> bool:\n",
        "        def backtrack(i, j, word_index):\n",
        "            if word_index == len(word):\n",
        "                return True\n",
        "            if i < 0 or i >= len(board) or j < 0 or j >= len(board[0]) or board[i][j] != word[word_index]:\n",
        "                return False\n",
        "            temp = board[i][j]\n",
        "            board[i][j] = '#'\n",
        "            found = (backtrack(i + 1, j, word_index + 1) or\n",
        "                     backtrack(i - 1, j, word_index + 1) or\n",
        "                     backtrack(i, j + 1, word_index + 1) or\n",
        "                     backtrack(i, j - 1, word_index + 1))\n",
        "            board[i][j] = temp\n",
        "            return found\n",
        "\n",
        "        for i in range(len(board)):\n",
        "            for j in range(len(board[0])):\n",
        "                if board[i][j] == word[0] and backtrack(i, j, 0):\n",
        "                    return True\n",
        "\n",
        "        return False\n",
        "\n",
        "solution = Solution()"
      ],
      "metadata": {
        "id": "nqYo2VxibvgU"
      },
      "execution_count": null,
      "outputs": []
    },
    {
      "cell_type": "markdown",
      "source": [
        "80번"
      ],
      "metadata": {
        "id": "n5Wa6WttbwDm"
      }
    },
    {
      "cell_type": "code",
      "source": [
        "from typing import List\n",
        "\n",
        "class Solution:\n",
        "    def removeDuplicates(self, nums: List[int]) -> int:\n",
        "        if len(nums) <= 2:\n",
        "            return len(nums)\n",
        "        index = 2\n",
        "\n",
        "        for i in range(2, len(nums)):\n",
        "            if nums[i] != nums[index - 2]:\n",
        "                nums[index] = nums[i]\n",
        "                index += 1\n",
        "\n",
        "        return index\n",
        "\n",
        "solution = Solution()"
      ],
      "metadata": {
        "id": "agDrBatLbzBM"
      },
      "execution_count": null,
      "outputs": []
    },
    {
      "cell_type": "markdown",
      "source": [
        "81번"
      ],
      "metadata": {
        "id": "g9RB-DSIbzep"
      }
    },
    {
      "cell_type": "code",
      "source": [
        "from typing import List\n",
        "\n",
        "class Solution:\n",
        "    def search(self, nums: List[int], target: int) -> bool:\n",
        "        left, right = 0, len(nums) - 1\n",
        "\n",
        "        while left <= right:\n",
        "            mid = (left + right) // 2\n",
        "\n",
        "            if nums[mid] == target:\n",
        "                return True\n",
        "            if nums[left] == nums[mid] == nums[right]:\n",
        "                left += 1\n",
        "                right -= 1\n",
        "            elif nums[left] <= nums[mid]:\n",
        "                if nums[left] <= target < nums[mid]:\n",
        "                    right = mid - 1\n",
        "                else:\n",
        "                    left = mid + 1\n",
        "            else:\n",
        "                if nums[mid] < target <= nums[right]:\n",
        "                    left = mid + 1\n",
        "                else:\n",
        "                    right = mid - 1\n",
        "\n",
        "        return False\n",
        "\n",
        "solution = Solution()"
      ],
      "metadata": {
        "id": "Loz5xPigcFGV"
      },
      "execution_count": null,
      "outputs": []
    },
    {
      "cell_type": "markdown",
      "source": [
        "83번"
      ],
      "metadata": {
        "id": "D7rPu7oHcGgo"
      }
    },
    {
      "cell_type": "code",
      "source": [
        "from typing import Optional\n",
        "\n",
        "class ListNode:\n",
        "    def __init__(self, val=0, next=None):\n",
        "        self.val = val\n",
        "        self.next = next\n",
        "\n",
        "class Solution:\n",
        "    def deleteDuplicates(self, head: Optional[ListNode]) -> Optional[ListNode]:\n",
        "        current = head\n",
        "\n",
        "        while current and current.next:\n",
        "            if current.val == current.next.val:\n",
        "                current.next = current.next.next\n",
        "            else:\n",
        "                current = current.next\n",
        "\n",
        "        return head\n",
        "\n",
        "def print_list(node):\n",
        "    while node:\n",
        "        print(node.val, end=\" -> \")\n",
        "        node = node.next\n",
        "    print(\"None\")\n",
        "\n",
        "solution = Solution()"
      ],
      "metadata": {
        "id": "j2sJavPBcLC4"
      },
      "execution_count": null,
      "outputs": []
    },
    {
      "cell_type": "markdown",
      "source": [
        "86번"
      ],
      "metadata": {
        "id": "Tf1kZmHScLlQ"
      }
    },
    {
      "cell_type": "code",
      "source": [
        "class ListNode:\n",
        "    def __init__(self, val=0, next=None):\n",
        "        self.val = val\n",
        "        self.next = next\n",
        "\n",
        "class Solution:\n",
        "    def partition(self, head: ListNode, x: int) -> ListNode:\n",
        "        less_head = ListNode(0)\n",
        "        greater_head = ListNode(0)\n",
        "        less = less_head\n",
        "        greater = greater_head\n",
        "        while head:\n",
        "            if head.val < x:\n",
        "                less.next = head\n",
        "                less = less.next\n",
        "            else:\n",
        "                greater.next = head\n",
        "                greater = greater.next\n",
        "            head = head.next\n",
        "        greater.next = None\n",
        "        less.next = greater_head.next\n",
        "        return less_head.next\n"
      ],
      "metadata": {
        "id": "tLYvN4dScPbV"
      },
      "execution_count": null,
      "outputs": []
    },
    {
      "cell_type": "markdown",
      "source": [
        "88번"
      ],
      "metadata": {
        "id": "b_euTS8XcQAp"
      }
    },
    {
      "cell_type": "code",
      "source": [
        "class Solution:\n",
        "    def merge(self, nums1: list[int], m: int, nums2: list[int], n: int) -> None:\n",
        "        i, j, k = m - 1, n - 1, m + n - 1\n",
        "        while i >= 0 and j >= 0:\n",
        "            if nums1[i] > nums2[j]:\n",
        "                nums1[k] = nums1[i]\n",
        "                i -= 1\n",
        "            else:\n",
        "                nums1[k] = nums2[j]\n",
        "                j -= 1\n",
        "            k -= 1\n",
        "        while j >= 0:\n",
        "            nums1[k] = nums2[j]\n",
        "            j -= 1\n",
        "            k -= 1\n"
      ],
      "metadata": {
        "id": "z7LgUqddcTHk"
      },
      "execution_count": null,
      "outputs": []
    },
    {
      "cell_type": "markdown",
      "source": [
        "89번"
      ],
      "metadata": {
        "id": "A0esqu1ucYO_"
      }
    },
    {
      "cell_type": "code",
      "source": [
        "class Solution:\n",
        "    def grayCode(self, n: int) -> list[int]:\n",
        "        result = [0]\n",
        "        for i in range(n):\n",
        "            result += [x + (1 << i) for x in reversed(result)]\n",
        "        return result\n"
      ],
      "metadata": {
        "id": "qZsm_Zj_cabL"
      },
      "execution_count": null,
      "outputs": []
    },
    {
      "cell_type": "markdown",
      "source": [
        "90번"
      ],
      "metadata": {
        "id": "B-0B0W39cbdV"
      }
    },
    {
      "cell_type": "code",
      "source": [
        "class Solution:\n",
        "    def subsetsWithDup(self, nums: list[int]) -> list[list[int]]:\n",
        "        def backtrack(start, path):\n",
        "            result.append(path[:])\n",
        "            for i in range(start, len(nums)):\n",
        "                if i > start and nums[i] == nums[i - 1]:\n",
        "                    continue\n",
        "                path.append(nums[i])\n",
        "                backtrack(i + 1, path)\n",
        "                path.pop()\n",
        "\n",
        "        nums.sort()\n",
        "        result = []\n",
        "        backtrack(0, [])\n",
        "        return result\n"
      ],
      "metadata": {
        "id": "CS45iMbTce7x"
      },
      "execution_count": null,
      "outputs": []
    },
    {
      "cell_type": "markdown",
      "source": [
        "91번"
      ],
      "metadata": {
        "id": "6D2fUcmQcfgk"
      }
    },
    {
      "cell_type": "code",
      "source": [
        "class Solution:\n",
        "    def numDecodings(self, s: str) -> int:\n",
        "        if not s:\n",
        "            return 0\n",
        "\n",
        "        n = len(s)\n",
        "        dp = [0] * (n + 1)\n",
        "\n",
        "        dp[0] = 1\n",
        "        dp[1] = 1 if s[0] != '0' else 0\n",
        "\n",
        "        for i in range(2, n + 1):\n",
        "            if 1 <= int(s[i-1:i]) <= 9:\n",
        "                dp[i] += dp[i-1]\n",
        "            if 10 <= int(s[i-2:i]) <= 26:\n",
        "                dp[i] += dp[i-2]\n",
        "\n",
        "        return dp[n]\n"
      ],
      "metadata": {
        "id": "wFnPJxwqckFE"
      },
      "execution_count": null,
      "outputs": []
    },
    {
      "cell_type": "markdown",
      "source": [
        "92번"
      ],
      "metadata": {
        "id": "T7DPTYyYckg9"
      }
    },
    {
      "cell_type": "code",
      "source": [
        "class ListNode:\n",
        "    def __init__(self, val=0, next=None):\n",
        "        self.val = val\n",
        "        self.next = next\n",
        "\n",
        "class Solution:\n",
        "    def reverseBetween(self, head: ListNode, m: int, n: int) -> ListNode:\n",
        "        if not head:\n",
        "            return None\n",
        "        dummy = ListNode(0)\n",
        "        dummy.next = head\n",
        "        prev = dummy\n",
        "        for _ in range(m - 1):\n",
        "            prev = prev.next\n",
        "        reverse_start = prev.next\n",
        "        then = reverse_start.next\n",
        "\n",
        "        for _ in range(n - m):\n",
        "            reverse_start.next = then.next\n",
        "            then.next = prev.next\n",
        "            prev.next = then\n",
        "            then = reverse_start.next\n",
        "\n",
        "        return dummy.next\n"
      ],
      "metadata": {
        "id": "u7uyX2ItcnuZ"
      },
      "execution_count": null,
      "outputs": []
    },
    {
      "cell_type": "markdown",
      "source": [
        "93번"
      ],
      "metadata": {
        "id": "Ccgil8V3codh"
      }
    },
    {
      "cell_type": "code",
      "source": [
        "class Solution:\n",
        "    def restoreIpAddresses(self, s: str) -> list[str]:\n",
        "        def backtrack(start, path):\n",
        "            if len(path) == 4 and start == len(s):\n",
        "                result.append('.'.join(path))\n",
        "                return\n",
        "            if len(path) == 4 or start == len(s):\n",
        "                return\n",
        "\n",
        "            for length in range(1, 4):\n",
        "                if start + length > len(s):\n",
        "                    break\n",
        "                segment = s[start:start+length]\n",
        "                if (segment[0] == '0' and len(segment) > 1) or (length == 3 and int(segment) > 255):\n",
        "                    continue\n",
        "                backtrack(start + length, path + [segment])\n",
        "\n",
        "        result = []\n",
        "        backtrack(0, [])\n",
        "        return result\n"
      ],
      "metadata": {
        "id": "5mzT-ZxqcuGQ"
      },
      "execution_count": null,
      "outputs": []
    },
    {
      "cell_type": "markdown",
      "source": [
        "94번"
      ],
      "metadata": {
        "id": "Cjx5D_oAcvrt"
      }
    },
    {
      "cell_type": "code",
      "source": [
        "class TreeNode:\n",
        "    def __init__(self, val=0, left=None, right=None):\n",
        "        self.val = val\n",
        "        self.left = left\n",
        "        self.right = right\n",
        "\n",
        "class Solution:\n",
        "    def inorderTraversal(self, root: TreeNode) -> list[int]:\n",
        "        result = []\n",
        "        self._inorder_helper(root, result)\n",
        "        return result\n",
        "\n",
        "    def _inorder_helper(self, node, result):\n",
        "        if node:\n",
        "            self._inorder_helper(node.left, result)\n",
        "            result.append(node.val)\n",
        "            self._inorder_helper(node.right, result)\n"
      ],
      "metadata": {
        "id": "QNNaB0bycyK0"
      },
      "execution_count": null,
      "outputs": []
    },
    {
      "cell_type": "markdown",
      "source": [
        "95번"
      ],
      "metadata": {
        "id": "t42DBe6wcyuW"
      }
    },
    {
      "cell_type": "code",
      "source": [
        "class TreeNode:\n",
        "    def __init__(self, val=0, left=None, right=None):\n",
        "        self.val = val\n",
        "        self.left = left\n",
        "        self.right = right\n",
        "\n",
        "class Solution:\n",
        "    def generateTrees(self, n: int) -> list[TreeNode]:\n",
        "        if n == 0:\n",
        "            return []\n",
        "\n",
        "        def generate_trees(start, end):\n",
        "            if start > end:\n",
        "                return [None]\n",
        "\n",
        "            all_trees = []\n",
        "            for i in range(start, end + 1):\n",
        "                left_trees = generate_trees(start, i - 1)\n",
        "                right_trees = generate_trees(i + 1, end)\n",
        "                for l in left_trees:\n",
        "                    for r in right_trees:\n",
        "                        current_tree = TreeNode(i)\n",
        "                        current_tree.left = l\n",
        "                        current_tree.right = r\n",
        "                        all_trees.append(current_tree)\n",
        "\n",
        "            return all_trees\n",
        "\n",
        "        return generate_trees(1, n)\n"
      ],
      "metadata": {
        "id": "hBjT3dPpc15P"
      },
      "execution_count": null,
      "outputs": []
    },
    {
      "cell_type": "markdown",
      "source": [
        "96번"
      ],
      "metadata": {
        "id": "zXDlh0rpc2pj"
      }
    },
    {
      "cell_type": "code",
      "source": [
        "class Solution:\n",
        "    def numTrees(self, n: int) -> int:\n",
        "        dp = [0] * (n + 1)\n",
        "        dp[0] = 1\n",
        "        for length in range(1, n + 1):\n",
        "            for root in range(1, length + 1):\n",
        "                left = root - 1\n",
        "                right = length - root\n",
        "                dp[length] += dp[left] * dp[right]\n",
        "\n",
        "        return dp[n]\n"
      ],
      "metadata": {
        "id": "SAhv-cfWc6F2"
      },
      "execution_count": null,
      "outputs": []
    },
    {
      "cell_type": "markdown",
      "source": [
        "97번"
      ],
      "metadata": {
        "id": "mF-tlmOkc6ej"
      }
    },
    {
      "cell_type": "code",
      "source": [
        "class Solution:\n",
        "    def isInterleave(self, s1: str, s2: str, s3: str) -> bool:\n",
        "        if len(s1) + len(s2) != len(s3):\n",
        "            return False\n",
        "\n",
        "        dp = [[False] * (len(s2) + 1) for _ in range(len(s1) + 1)]\n",
        "        dp[0][0] = True\n",
        "\n",
        "        for i in range(1, len(s1) + 1):\n",
        "            dp[i][0] = dp[i - 1][0] and s1[i - 1] == s3[i - 1]\n",
        "\n",
        "        for j in range(1, len(s2) + 1):\n",
        "            dp[0][j] = dp[0][j - 1] and s2[j - 1] == s3[j - 1]\n",
        "\n",
        "        for i in range(1, len(s1) + 1):\n",
        "            for j in range(1, len(s2) + 1):\n",
        "                dp[i][j] = (dp[i - 1][j] and s1[i - 1] == s3[i + j - 1]) or (dp[i][j - 1] and s2[j - 1] == s3[i + j - 1])\n",
        "\n",
        "        return dp[len(s1)][len(s2)]\n"
      ],
      "metadata": {
        "id": "Vqud8EN6c-Fw"
      },
      "execution_count": null,
      "outputs": []
    },
    {
      "cell_type": "markdown",
      "source": [
        "98번"
      ],
      "metadata": {
        "id": "rDlGQZc1dGD_"
      }
    },
    {
      "cell_type": "code",
      "source": [
        "class TreeNode:\n",
        "    def __init__(self, val=0, left=None, right=None):\n",
        "        self.val = val\n",
        "        self.left = left\n",
        "        self.right = right\n",
        "\n",
        "class Solution:\n",
        "    def isValidBST(self, root: TreeNode) -> bool:\n",
        "        def validate(node, low=float('-inf'), high=float('inf')):\n",
        "            if not node:\n",
        "                return True\n",
        "            if not (low < node.val < high):\n",
        "                return False\n",
        "            return (validate(node.left, low, node.val) and\n",
        "                    validate(node.right, node.val, high))\n",
        "\n",
        "        return validate(root)\n"
      ],
      "metadata": {
        "id": "Uth8zBHFdIWQ"
      },
      "execution_count": null,
      "outputs": []
    },
    {
      "cell_type": "markdown",
      "source": [
        "99번"
      ],
      "metadata": {
        "id": "lYJWVADYdKzq"
      }
    },
    {
      "cell_type": "code",
      "source": [
        "class TreeNode:\n",
        "    def __init__(self, val=0, left=None, right=None):\n",
        "        self.val = val\n",
        "        self.left = left\n",
        "        self.right = right\n",
        "\n",
        "class Solution:\n",
        "    def recoverTree(self, root: TreeNode) -> None:\n",
        "        self.first = self.second = self.prev = None\n",
        "        def inorder(node: TreeNode):\n",
        "            if not node:\n",
        "                return\n",
        "            inorder(node.left)\n",
        "            if self.prev and self.prev.val > node.val:\n",
        "                if not self.first:\n",
        "                    self.first = self.prev\n",
        "                self.second = node\n",
        "            self.prev = node\n",
        "            inorder(node.right)\n",
        "        inorder(root)\n",
        "        self.first.val, self.second.val = self.second.val, self.first.val\n"
      ],
      "metadata": {
        "id": "g89fOMXudWBK"
      },
      "execution_count": null,
      "outputs": []
    },
    {
      "cell_type": "markdown",
      "source": [
        "100번"
      ],
      "metadata": {
        "id": "hjvVShTbdX0C"
      }
    },
    {
      "cell_type": "code",
      "source": [
        "class TreeNode:\n",
        "    def __init__(self, val=0, left=None, right=None):\n",
        "        self.val = val\n",
        "        self.left = left\n",
        "        self.right = right\n",
        "\n",
        "class Solution:\n",
        "    def isSameTree(self, p: TreeNode, q: TreeNode) -> bool:\n",
        "        if not p and not q:\n",
        "            return True\n",
        "        if not p or not q:\n",
        "            return False\n",
        "        if p.val != q.val:\n",
        "            return False\n",
        "        return self.isSameTree(p.left, q.left) and self.isSameTree(p.right, q.right)\n"
      ],
      "metadata": {
        "id": "vZNQqG1kda1R"
      },
      "execution_count": null,
      "outputs": []
    },
    {
      "cell_type": "markdown",
      "source": [
        "101번"
      ],
      "metadata": {
        "id": "yAznplTodbRg"
      }
    },
    {
      "cell_type": "code",
      "source": [
        "class TreeNode:\n",
        "    def __init__(self, val=0, left=None, right=None):\n",
        "        self.val = val\n",
        "        self.left = left\n",
        "        self.right = right\n",
        "\n",
        "class Solution:\n",
        "    def isSymmetric(self, root: TreeNode) -> bool:\n",
        "        def is_mirror(t1: TreeNode, t2: TreeNode) -> bool:\n",
        "            if not t1 and not t2:\n",
        "                return True\n",
        "            if not t1 or not t2:\n",
        "                return False\n",
        "            return (t1.val == t2.val) and is_mirror(t1.right, t2.left) and is_mirror(t1.left, t2.right)\n",
        "\n",
        "        return is_mirror(root, root)\n"
      ],
      "metadata": {
        "id": "LSm11JyVdd6V"
      },
      "execution_count": null,
      "outputs": []
    },
    {
      "cell_type": "markdown",
      "source": [
        "102번"
      ],
      "metadata": {
        "id": "fivS-nPEdeZW"
      }
    },
    {
      "cell_type": "code",
      "source": [
        "class TreeNode:\n",
        "    def __init__(self, val=0, left=None, right=None):\n",
        "        self.val = val\n",
        "        self.left = left\n",
        "        self.right = right\n",
        "\n",
        "class Solution:\n",
        "    def levelOrder(self, root: TreeNode):\n",
        "        if not root:\n",
        "            return []\n",
        "\n",
        "        result = []\n",
        "        queue = [root]\n",
        "\n",
        "        while queue:\n",
        "            level = []\n",
        "            next_queue = []\n",
        "            for node in queue:\n",
        "                level.append(node.val)\n",
        "                if node.left:\n",
        "                    next_queue.append(node.left)\n",
        "                if node.right:\n",
        "                    next_queue.append(node.right)\n",
        "            result.append(level)\n",
        "            queue = next_queue\n",
        "\n",
        "        return result\n"
      ],
      "metadata": {
        "id": "RRzX7wpldgeF"
      },
      "execution_count": null,
      "outputs": []
    },
    {
      "cell_type": "markdown",
      "source": [
        "103번"
      ],
      "metadata": {
        "id": "axTmYvL6dg76"
      }
    },
    {
      "cell_type": "code",
      "source": [
        "class TreeNode:\n",
        "    def __init__(self, val=0, left=None, right=None):\n",
        "        self.val = val\n",
        "        self.left = left\n",
        "        self.right = right\n",
        "\n",
        "class Solution:\n",
        "    def zigzagLevelOrder(self, root: TreeNode):\n",
        "        if not root:\n",
        "            return []\n",
        "\n",
        "        result = []\n",
        "        queue = [root]\n",
        "        left_to_right = True\n",
        "\n",
        "        while queue:\n",
        "            level = []\n",
        "            next_queue = []\n",
        "            for node in queue:\n",
        "                level.append(node.val)\n",
        "                if node.left:\n",
        "                    next_queue.append(node.left)\n",
        "                if node.right:\n",
        "                    next_queue.append(node.right)\n",
        "            if not left_to_right:\n",
        "                level.reverse()\n",
        "            result.append(level)\n",
        "            queue = next_queue\n",
        "            left_to_right = not left_to_right\n",
        "\n",
        "        return result\n"
      ],
      "metadata": {
        "id": "tqaUbAFKdjhl"
      },
      "execution_count": null,
      "outputs": []
    },
    {
      "cell_type": "markdown",
      "source": [
        "104번"
      ],
      "metadata": {
        "id": "407bD2KIdlJA"
      }
    },
    {
      "cell_type": "code",
      "source": [
        "class TreeNode:\n",
        "    def __init__(self, val=0, left=None, right=None):\n",
        "        self.val = val\n",
        "        self.left = left\n",
        "        self.right = right\n",
        "\n",
        "class Solution:\n",
        "    def maxDepth(self, root: TreeNode) -> int:\n",
        "        if not root:\n",
        "            return 0\n",
        "\n",
        "        left_depth = self.maxDepth(root.left)\n",
        "        right_depth = self.maxDepth(root.right)\n",
        "\n",
        "        return max(left_depth, right_depth) + 1\n"
      ],
      "metadata": {
        "id": "EILLNOj2dne8"
      },
      "execution_count": null,
      "outputs": []
    },
    {
      "cell_type": "markdown",
      "source": [
        "105번"
      ],
      "metadata": {
        "id": "evbUkxW6dn5C"
      }
    },
    {
      "cell_type": "code",
      "source": [
        "class TreeNode:\n",
        "    def __init__(self, val=0, left=None, right=None):\n",
        "        self.val = val\n",
        "        self.left = left\n",
        "        self.right = right\n",
        "\n",
        "class Solution:\n",
        "    def buildTree(self, preorder, inorder):\n",
        "        if not preorder or not inorder:\n",
        "            return None\n",
        "\n",
        "        root_val = preorder[0]\n",
        "        root = TreeNode(root_val)\n",
        "        mid = inorder.index(root_val)\n",
        "        root.left = self.buildTree(preorder[1:mid+1], inorder[:mid])\n",
        "        root.right = self.buildTree(preorder[mid+1:], inorder[mid+1:])\n",
        "\n",
        "        return root\n"
      ],
      "metadata": {
        "id": "HwznOrEDdqqf"
      },
      "execution_count": null,
      "outputs": []
    },
    {
      "cell_type": "markdown",
      "source": [
        "106번"
      ],
      "metadata": {
        "id": "3Bpv2exXdrHC"
      }
    },
    {
      "cell_type": "code",
      "source": [
        "class TreeNode:\n",
        "    def __init__(self, val=0, left=None, right=None):\n",
        "        self.val = val\n",
        "        self.left = left\n",
        "        self.right = right\n",
        "\n",
        "class Solution:\n",
        "    def buildTree(self, inorder, postorder):\n",
        "        if not inorder or not postorder:\n",
        "            return None\n",
        "        root_val = postorder.pop()\n",
        "        root = TreeNode(root_val)\n",
        "        mid = inorder.index(root_val)\n",
        "        root.right = self.buildTree(inorder[mid+1:], postorder)\n",
        "        root.left = self.buildTree(inorder[:mid], postorder)\n",
        "\n",
        "        return root\n"
      ],
      "metadata": {
        "id": "vfrc9CxudtQL"
      },
      "execution_count": null,
      "outputs": []
    },
    {
      "cell_type": "markdown",
      "source": [
        "107번"
      ],
      "metadata": {
        "id": "OjM_7AeRdtsq"
      }
    },
    {
      "cell_type": "code",
      "source": [
        "class TreeNode:\n",
        "    def __init__(self, val=0, left=None, right=None):\n",
        "        self.val = val\n",
        "        self.left = left\n",
        "        self.right = right\n",
        "\n",
        "class Solution:\n",
        "    def levelOrderBottom(self, root: TreeNode):\n",
        "        if not root:\n",
        "            return []\n",
        "\n",
        "        result = []\n",
        "        queue = [root]\n",
        "\n",
        "        while queue:\n",
        "            level = []\n",
        "            next_queue = []\n",
        "            for node in queue:\n",
        "                level.append(node.val)\n",
        "                if node.left:\n",
        "                    next_queue.append(node.left)\n",
        "                if node.right:\n",
        "                    next_queue.append(node.right)\n",
        "            result.append(level)\n",
        "            queue = next_queue\n",
        "\n",
        "        return result[::-1]\n"
      ],
      "metadata": {
        "id": "ozEy0SVhdwPv"
      },
      "execution_count": null,
      "outputs": []
    },
    {
      "cell_type": "markdown",
      "source": [
        "108번"
      ],
      "metadata": {
        "id": "UK33bfdndwuX"
      }
    },
    {
      "cell_type": "code",
      "source": [
        "class TreeNode:\n",
        "    def __init__(self, val=0, left=None, right=None):\n",
        "        self.val = val\n",
        "        self.left = left\n",
        "        self.right = right\n",
        "\n",
        "class Solution:\n",
        "    def sortedArrayToBST(self, nums):\n",
        "        if not nums:\n",
        "            return None\n",
        "        mid = len(nums) // 2\n",
        "        root = TreeNode(nums[mid])\n",
        "        root.left = self.sortedArrayToBST(nums[:mid])\n",
        "        root.right = self.sortedArrayToBST(nums[mid+1:])\n",
        "\n",
        "        return root\n"
      ],
      "metadata": {
        "id": "QHxCBQHTd22o"
      },
      "execution_count": null,
      "outputs": []
    },
    {
      "cell_type": "markdown",
      "source": [
        "109번"
      ],
      "metadata": {
        "id": "MABqj4oTd3xT"
      }
    },
    {
      "cell_type": "code",
      "source": [
        "class ListNode:\n",
        "    def __init__(self, val=0, next=None):\n",
        "        self.val = val\n",
        "        self.next = next\n",
        "class TreeNode:\n",
        "    def __init__(self, val=0, left=None, right=None):\n",
        "        self.val = val\n",
        "        self.left = left\n",
        "        self.right = right\n",
        "\n",
        "class Solution:\n",
        "    def findMiddle(self, head):\n",
        "        prev_ptr = None\n",
        "        slow_ptr = head\n",
        "        fast_ptr = head\n",
        "        while fast_ptr and fast_ptr.next:\n",
        "            prev_ptr = slow_ptr\n",
        "            slow_ptr = slow_ptr.next\n",
        "            fast_ptr = fast_ptr.next.next\n",
        "        if prev_ptr:\n",
        "            prev_ptr.next = None\n",
        "\n",
        "        return slow_ptr\n",
        "\n",
        "    def sortedListToBST(self, head: ListNode) -> TreeNode:\n",
        "        if not head:\n",
        "            return None\n",
        "        mid = self.findMiddle(head)\n",
        "        root = TreeNode(mid.val)\n",
        "        if head == mid:\n",
        "            return root\n",
        "        root.left = self.sortedListToBST(head)\n",
        "        root.right = self.sortedListToBST(mid.next)\n",
        "\n",
        "        return root\n"
      ],
      "metadata": {
        "id": "fqQdebuCd6Yt"
      },
      "execution_count": null,
      "outputs": []
    },
    {
      "cell_type": "markdown",
      "source": [
        "110번"
      ],
      "metadata": {
        "id": "PqNLZ05fd6zd"
      }
    },
    {
      "cell_type": "code",
      "source": [
        "class TreeNode:\n",
        "    def __init__(self, val=0, left=None, right=None):\n",
        "        self.val = val\n",
        "        self.left = left\n",
        "        self.right = right\n",
        "\n",
        "class Solution:\n",
        "    def isBalanced(self, root: TreeNode) -> bool:\n",
        "        def check_height(node: TreeNode) -> int:\n",
        "            if not node:\n",
        "                return 0\n",
        "\n",
        "            left_height = check_height(node.left)\n",
        "            right_height = check_height(node.right)\n",
        "            if left_height == -1 or right_height == -1 or abs(left_height - right_height) > 1:\n",
        "                return -1\n",
        "\n",
        "            return max(left_height, right_height) + 1\n",
        "\n",
        "        return check_height(root) != -1\n"
      ],
      "metadata": {
        "id": "jA8h--41d9gl"
      },
      "execution_count": null,
      "outputs": []
    },
    {
      "cell_type": "markdown",
      "source": [
        "111번"
      ],
      "metadata": {
        "id": "y1aK7SaJd-DO"
      }
    },
    {
      "cell_type": "code",
      "source": [
        "class TreeNode:\n",
        "    def __init__(self, val=0, left=None, right=None):\n",
        "        self.val = val\n",
        "        self.left = left\n",
        "        self.right = right\n",
        "\n",
        "class Solution:\n",
        "    def minDepth(self, root: TreeNode) -> int:\n",
        "        if not root:\n",
        "            return 0\n",
        "        if not root.left and not root.right:\n",
        "            return 1\n",
        "        if not root.left:\n",
        "            return self.minDepth(root.right) + 1\n",
        "        if not root.right:\n",
        "            return self.minDepth(root.left) + 1\n",
        "        return min(self.minDepth(root.left), self.minDepth(root.right)) + 1\n"
      ],
      "metadata": {
        "id": "a_1n1kcLeARV"
      },
      "execution_count": null,
      "outputs": []
    },
    {
      "cell_type": "markdown",
      "source": [
        "112번"
      ],
      "metadata": {
        "id": "7XK9uYfZeA1m"
      }
    },
    {
      "cell_type": "code",
      "source": [
        "class TreeNode:\n",
        "    def __init__(self, val=0, left=None, right=None):\n",
        "        self.val = val\n",
        "        self.left = left\n",
        "        self.right = right\n",
        "\n",
        "class Solution:\n",
        "    def hasPathSum(self, root: TreeNode, targetSum: int) -> bool:\n",
        "        if not root:\n",
        "            return False\n",
        "        if not root.left and not root.right:\n",
        "            return root.val == targetSum\n",
        "        targetSum -= root.val\n",
        "        return self.hasPathSum(root.left, targetSum) or self.hasPathSum(root.right, targetSum)\n"
      ],
      "metadata": {
        "id": "OmF1xL5qeD4I"
      },
      "execution_count": null,
      "outputs": []
    },
    {
      "cell_type": "markdown",
      "source": [
        "113번"
      ],
      "metadata": {
        "id": "MfFq_H3IeEaS"
      }
    },
    {
      "cell_type": "code",
      "source": [
        "class TreeNode:\n",
        "    def __init__(self, val=0, left=None, right=None):\n",
        "        self.val = val\n",
        "        self.left = left\n",
        "        self.right = right\n",
        "\n",
        "class Solution:\n",
        "    def pathSum(self, root: TreeNode, targetSum: int):\n",
        "        def dfs(node, current_path, current_sum):\n",
        "            if not node:\n",
        "                return\n",
        "            current_path.append(node.val)\n",
        "            current_sum += node.val\n",
        "            if not node.left and not node.right and current_sum == targetSum:\n",
        "                paths.append(list(current_path))\n",
        "            dfs(node.left, current_path, current_sum)\n",
        "            dfs(node.right, current_path, current_sum)\n",
        "            current_path.pop()\n",
        "\n",
        "        paths = []\n",
        "        dfs(root, [], 0)\n",
        "        return paths\n"
      ],
      "metadata": {
        "id": "nuTbJxi1eIVJ"
      },
      "execution_count": null,
      "outputs": []
    },
    {
      "cell_type": "markdown",
      "source": [
        "114번"
      ],
      "metadata": {
        "id": "Yn3I1ioHeI7R"
      }
    },
    {
      "cell_type": "code",
      "source": [
        "class TreeNode:\n",
        "    def __init__(self, val=0, left=None, right=None):\n",
        "        self.val = val\n",
        "        self.left = left\n",
        "        self.right = right\n",
        "\n",
        "class Solution:\n",
        "    def flatten(self, root: TreeNode) -> None:\n",
        "        if not root:\n",
        "            return\n",
        "        def flatten_tree(node):\n",
        "            if not node:\n",
        "                return None\n",
        "            left_tail = flatten_tree(node.left)\n",
        "            right_tail = flatten_tree(node.right)\n",
        "            if left_tail:\n",
        "                left_tail.right = node.right\n",
        "                node.right = node.left\n",
        "                node.left = None\n",
        "            last_right = right_tail if right_tail else left_tail\n",
        "            return last_right if last_right else node\n",
        "\n",
        "        flatten_tree(root)\n"
      ],
      "metadata": {
        "id": "LjjN-FeEeMKt"
      },
      "execution_count": null,
      "outputs": []
    },
    {
      "cell_type": "markdown",
      "source": [
        "116번"
      ],
      "metadata": {
        "id": "rViVvMzYeMoR"
      }
    },
    {
      "cell_type": "code",
      "source": [
        "class Node:\n",
        "    def __init__(self, val=0, left=None, right=None, next=None):\n",
        "        self.val = val\n",
        "        self.left = left\n",
        "        self.right = right\n",
        "        self.next = next\n",
        "\n",
        "class Solution:\n",
        "    def connect(self, root: 'Node') -> 'Node':\n",
        "        if not root:\n",
        "            return None\n",
        "\n",
        "        leftmost = root\n",
        "\n",
        "        while leftmost.left:\n",
        "            head = leftmost\n",
        "            while head:\n",
        "                head.left.next = head.right\n",
        "                if head.next:\n",
        "                    head.right.next = head.next.left\n",
        "                head = head.next\n",
        "            leftmost = leftmost.left\n",
        "\n",
        "        return root\n"
      ],
      "metadata": {
        "id": "8limI-HmeREx"
      },
      "execution_count": null,
      "outputs": []
    },
    {
      "cell_type": "markdown",
      "source": [
        "117번"
      ],
      "metadata": {
        "id": "HYj4pCkleRhx"
      }
    },
    {
      "cell_type": "code",
      "source": [
        "class Node:\n",
        "    def __init__(self, val: int = 0, left: 'Node' = None, right: 'Node' = None, next: 'Node' = None):\n",
        "        self.val = val\n",
        "        self.left = left\n",
        "        self.right = right\n",
        "        self.next = next\n",
        "\n",
        "class Solution:\n",
        "    def connect(self, root: 'Node') -> 'Node':\n",
        "        if not root:\n",
        "            return None\n",
        "        leftmost = root\n",
        "        while leftmost:\n",
        "            dummy = Node(0)\n",
        "            prev = dummy\n",
        "            current = leftmost\n",
        "            while current:\n",
        "                if current.left:\n",
        "                    prev.next = current.left\n",
        "                    prev = prev.next\n",
        "                if current.right:\n",
        "                    prev.next = current.right\n",
        "                    prev = prev.next\n",
        "                current = current.next\n",
        "            leftmost = dummy.next\n",
        "\n",
        "        return root\n"
      ],
      "metadata": {
        "id": "TxAH4eAGeUxS"
      },
      "execution_count": null,
      "outputs": []
    },
    {
      "cell_type": "markdown",
      "source": [
        "118번"
      ],
      "metadata": {
        "id": "PQWZj__aeVO_"
      }
    },
    {
      "cell_type": "code",
      "source": [
        "class Solution:\n",
        "    def generate(self, numRows: int):\n",
        "        if numRows == 0:\n",
        "            return []\n",
        "\n",
        "        triangle = [[1]]\n",
        "\n",
        "        for i in range(1, numRows):\n",
        "            prev_row = triangle[i - 1]\n",
        "            current_row = [1]\n",
        "            for j in range(1, len(prev_row)):\n",
        "                current_row.append(prev_row[j - 1] + prev_row[j])\n",
        "\n",
        "            current_row.append(1)\n",
        "            triangle.append(current_row)\n",
        "\n",
        "        return triangle\n"
      ],
      "metadata": {
        "id": "DTvYff3reYCN"
      },
      "execution_count": null,
      "outputs": []
    },
    {
      "cell_type": "markdown",
      "source": [
        "119번"
      ],
      "metadata": {
        "id": "z2Q6rfckeZ8G"
      }
    },
    {
      "cell_type": "code",
      "source": [
        "class Solution:\n",
        "    def getRow(self, rowIndex: int):\n",
        "        row = [1]\n",
        "\n",
        "        for _ in range(rowIndex):\n",
        "            row = [x + y for x, y in zip([0] + row, row + [0])]\n",
        "\n",
        "        return row\n"
      ],
      "metadata": {
        "id": "1DZxX91NedQm"
      },
      "execution_count": null,
      "outputs": []
    },
    {
      "cell_type": "markdown",
      "source": [
        "120번"
      ],
      "metadata": {
        "id": "KqzTfm4vedxH"
      }
    },
    {
      "cell_type": "code",
      "source": [
        "class Solution:\n",
        "    def minimumTotal(self, triangle):\n",
        "        if not triangle:\n",
        "            return 0\n",
        "        for row in range(len(triangle) - 2, -1, -1):\n",
        "            for col in range(len(triangle[row])):\n",
        "                triangle[row][col] += min(triangle[row + 1][col], triangle[row + 1][col + 1])\n",
        "        return triangle[0][0]\n"
      ],
      "metadata": {
        "id": "jfmXbNEwegUB"
      },
      "execution_count": null,
      "outputs": []
    },
    {
      "cell_type": "markdown",
      "source": [
        "121번"
      ],
      "metadata": {
        "id": "rIFmobtsegs5"
      }
    },
    {
      "cell_type": "code",
      "source": [
        "class Solution:\n",
        "    def maxProfit(self, prices):\n",
        "        if not prices:\n",
        "            return 0\n",
        "\n",
        "        min_price = float('inf')\n",
        "        max_profit = 0\n",
        "\n",
        "        for price in prices:\n",
        "            if price < min_price:\n",
        "                min_price = price\n",
        "            elif price - min_price > max_profit:\n",
        "                max_profit = price - min_price\n",
        "\n",
        "        return max_profit\n"
      ],
      "metadata": {
        "id": "65XJr4efei0Z"
      },
      "execution_count": null,
      "outputs": []
    },
    {
      "cell_type": "markdown",
      "source": [
        "122번"
      ],
      "metadata": {
        "id": "qKlMZ5bzejPy"
      }
    },
    {
      "cell_type": "code",
      "source": [
        "class Solution:\n",
        "    def maxProfit(self, prices):\n",
        "        max_profit = 0\n",
        "\n",
        "        for i in range(1, len(prices)):\n",
        "            if prices[i] > prices[i - 1]:\n",
        "                max_profit += prices[i] - prices[i - 1]\n",
        "\n",
        "        return max_profit\n"
      ],
      "metadata": {
        "id": "fTG2OifRelPg"
      },
      "execution_count": null,
      "outputs": []
    },
    {
      "cell_type": "markdown",
      "source": [
        "125번"
      ],
      "metadata": {
        "id": "QrPzCFFmelt8"
      }
    },
    {
      "cell_type": "code",
      "source": [
        "import re\n",
        "\n",
        "class Solution:\n",
        "    def isPalindrome(self, s: str) -> bool:\n",
        "        s = re.sub(r'[^a-zA-Z0-9]', '', s).lower()\n",
        "        return s == s[::-1]\n"
      ],
      "metadata": {
        "id": "Sufle3WBervi"
      },
      "execution_count": null,
      "outputs": []
    },
    {
      "cell_type": "markdown",
      "source": [
        "128번"
      ],
      "metadata": {
        "id": "vBn52dO4esIw"
      }
    },
    {
      "cell_type": "code",
      "source": [
        "class Solution:\n",
        "    def longestConsecutive(self, nums):\n",
        "        if not nums:\n",
        "            return 0\n",
        "\n",
        "        num_set = set(nums)\n",
        "        longest_streak = 0\n",
        "\n",
        "        for num in num_set:\n",
        "            if num - 1 not in num_set:\n",
        "                current_num = num\n",
        "                current_streak = 1\n",
        "\n",
        "                while current_num + 1 in num_set:\n",
        "                    current_num += 1\n",
        "                    current_streak += 1\n",
        "\n",
        "                longest_streak = max(longest_streak, current_streak)\n",
        "\n",
        "        return longest_streak\n"
      ],
      "metadata": {
        "id": "GMN-sVztewMp"
      },
      "execution_count": null,
      "outputs": []
    },
    {
      "cell_type": "markdown",
      "source": [
        "129번"
      ],
      "metadata": {
        "id": "vI_LDb6lewpc"
      }
    },
    {
      "cell_type": "code",
      "source": [
        "class TreeNode:\n",
        "    def __init__(self, val=0, left=None, right=None):\n",
        "        self.val = val\n",
        "        self.left = left\n",
        "        self.right = right\n",
        "\n",
        "class Solution:\n",
        "    def sumNumbers(self, root: TreeNode) -> int:\n",
        "        def dfs(node, current_sum):\n",
        "            if not node:\n",
        "                return 0\n",
        "\n",
        "            current_sum = current_sum * 10 + node.val\n",
        "\n",
        "            if not node.left and not node.right:\n",
        "                return current_sum\n",
        "\n",
        "            return dfs(node.left, current_sum) + dfs(node.right, current_sum)\n",
        "\n",
        "        return dfs(root, 0)\n"
      ],
      "metadata": {
        "id": "cIceeimre4Wz"
      },
      "execution_count": null,
      "outputs": []
    },
    {
      "cell_type": "markdown",
      "source": [
        "130번"
      ],
      "metadata": {
        "id": "U5oXasZle41j"
      }
    },
    {
      "cell_type": "code",
      "source": [
        "class Solution:\n",
        "    def solve(self, board):\n",
        "        if not board or not board[0]:\n",
        "            return\n",
        "\n",
        "        rows, cols = len(board), len(board[0])\n",
        "\n",
        "        def dfs(r, c):\n",
        "            if r < 0 or r >= rows or c < 0 or c >= cols or board[r][c] != 'O':\n",
        "                return\n",
        "            board[r][c] = 'E'\n",
        "            directions = [(1, 0), (-1, 0), (0, 1), (0, -1)]\n",
        "            for dr, dc in directions:\n",
        "                dfs(r + dr, c + dc)\n",
        "\n",
        "        for c in range(cols):\n",
        "            if board[0][c] == 'O':\n",
        "                dfs(0, c)\n",
        "            if board[rows - 1][c] == 'O':\n",
        "                dfs(rows - 1, c)\n",
        "\n",
        "        for r in range(rows):\n",
        "            if board[r][0] == 'O':\n",
        "                dfs(r, 0)\n",
        "            if board[r][cols - 1] == 'O':\n",
        "                dfs(r, cols - 1)\n",
        "\n",
        "        for r in range(rows):\n",
        "            for c in range(cols):\n",
        "                if board[r][c] == 'O':\n",
        "                    board[r][c] = 'X'\n",
        "                elif board[r][c] == 'E':\n",
        "                    board[r][c] = 'O'\n"
      ],
      "metadata": {
        "id": "ctALJIVJe_MM"
      },
      "execution_count": null,
      "outputs": []
    },
    {
      "cell_type": "markdown",
      "source": [
        "131번"
      ],
      "metadata": {
        "id": "jHfhAGhJe_pP"
      }
    },
    {
      "cell_type": "code",
      "source": [
        "class Solution:\n",
        "    def partition(self, s: str):\n",
        "        def is_palindrome(sub):\n",
        "            return sub == sub[::-1]\n",
        "\n",
        "        def dfs(start, path):\n",
        "            if start == len(s):\n",
        "                result.append(path[:])\n",
        "                return\n",
        "\n",
        "            for end in range(start + 1, len(s) + 1):\n",
        "                if is_palindrome(s[start:end]):\n",
        "                    dfs(end, path + [s[start:end]])\n",
        "\n",
        "        result = []\n",
        "        dfs(0, [])\n",
        "        return result\n"
      ],
      "metadata": {
        "id": "98eRMT9kfCCs"
      },
      "execution_count": null,
      "outputs": []
    },
    {
      "cell_type": "markdown",
      "source": [
        "133번"
      ],
      "metadata": {
        "id": "V-jiuBRBfCls"
      }
    },
    {
      "cell_type": "code",
      "source": [
        "class Node:\n",
        "    def __init__(self, val = 0, neighbors = None):\n",
        "        self.val = val\n",
        "        self.neighbors = neighbors if neighbors is not None else []\n",
        "\n",
        "class Solution:\n",
        "    def cloneGraph(self, node: 'Node') -> 'Node':\n",
        "        if not node:\n",
        "            return None\n",
        "\n",
        "        cloned_nodes = {}\n",
        "        def clone(node):\n",
        "            if node in cloned_nodes:\n",
        "                return cloned_nodes[node]\n",
        "\n",
        "            copy = Node(node.val)\n",
        "            cloned_nodes[node] = copy\n",
        "\n",
        "            for neighbor in node.neighbors:\n",
        "                copy.neighbors.append(clone(neighbor))\n",
        "\n",
        "            return copy\n",
        "\n",
        "        return clone(node)\n"
      ],
      "metadata": {
        "id": "rKZC0Z2lfJ2G"
      },
      "execution_count": null,
      "outputs": []
    },
    {
      "cell_type": "markdown",
      "source": [
        "134번"
      ],
      "metadata": {
        "id": "H2yf9FbofKYg"
      }
    },
    {
      "cell_type": "code",
      "source": [
        "class Solution:\n",
        "    def canCompleteCircuit(self, gas: List[int], cost: List[int]) -> int:\n",
        "        total_gas, total_cost, tank, start = 0, 0, 0, 0\n",
        "\n",
        "        for i in range(len(gas)):\n",
        "            total_gas += gas[i]\n",
        "            total_cost += cost[i]\n",
        "            tank += gas[i] - cost[i]\n",
        "\n",
        "            if tank < 0:\n",
        "                start = i + 1\n",
        "                tank = 0\n",
        "\n",
        "        if total_gas < total_cost:\n",
        "            return -1\n",
        "\n",
        "        return start\n"
      ],
      "metadata": {
        "id": "hfF9Ym9sfQlg"
      },
      "execution_count": null,
      "outputs": []
    },
    {
      "cell_type": "markdown",
      "source": [
        "136번"
      ],
      "metadata": {
        "id": "-CxmOEbJfRDG"
      }
    },
    {
      "cell_type": "code",
      "source": [
        "class Solution:\n",
        "    def singleNumber(self, nums: List[int]) -> int:\n",
        "        unique_number = 0\n",
        "        for num in nums:\n",
        "            unique_number ^= num\n",
        "        return unique_number\n"
      ],
      "metadata": {
        "id": "9Ib2PHfwfh8e"
      },
      "execution_count": null,
      "outputs": []
    },
    {
      "cell_type": "markdown",
      "source": [
        "137번"
      ],
      "metadata": {
        "id": "czj17j3OfjjZ"
      }
    },
    {
      "cell_type": "code",
      "source": [
        "class Solution:\n",
        "    def singleNumber(self, nums: List[int]) -> int:\n",
        "        ones, twos = 0, 0\n",
        "\n",
        "        for num in nums:\n",
        "            ones = (ones ^ num) & ~twos\n",
        "            twos = (twos ^ num) & ~ones\n",
        "\n",
        "        return ones\n"
      ],
      "metadata": {
        "id": "BN2dN-0nfoIV"
      },
      "execution_count": null,
      "outputs": []
    },
    {
      "cell_type": "markdown",
      "source": [
        "138번"
      ],
      "metadata": {
        "id": "sSjSbczRfo0C"
      }
    },
    {
      "cell_type": "code",
      "source": [
        "class Node:\n",
        "    def __init__(self, x: int, next: 'Node' = None, random: 'Node' = None):\n",
        "        self.val = x\n",
        "        self.next = next\n",
        "        self.random = random\n",
        "\n",
        "class Solution:\n",
        "    def copyRandomList(self, head: 'Node') -> 'Node':\n",
        "        if not head:\n",
        "            return None\n",
        "\n",
        "        old_to_new = {}\n",
        "        current = head\n",
        "        while current:\n",
        "            old_to_new[current] = Node(current.val)\n",
        "            current = current.next\n",
        "\n",
        "        current = head\n",
        "        while current:\n",
        "            if current.next:\n",
        "                old_to_new[current].next = old_to_new[current.next]\n",
        "            if current.random:\n",
        "                old_to_new[current].random = old_to_new[current.random]\n",
        "            current = current.next\n",
        "\n",
        "        return old_to_new[head]\n"
      ],
      "metadata": {
        "id": "vLWZzNVKfs3v"
      },
      "execution_count": null,
      "outputs": []
    },
    {
      "cell_type": "markdown",
      "source": [
        "139번"
      ],
      "metadata": {
        "id": "kfhnep7Ffvo0"
      }
    },
    {
      "cell_type": "code",
      "source": [
        "class Solution:\n",
        "    def wordBreak(self, s: str, wordDict: List[str]) -> bool:\n",
        "        word_set = set(wordDict)\n",
        "        dp = [False] * (len(s) + 1)\n",
        "        dp[0] = True\n",
        "\n",
        "        for i in range(1, len(s) + 1):\n",
        "            for j in range(i):\n",
        "                if dp[j] and s[j:i] in word_set:\n",
        "                    dp[i] = True\n",
        "                    break\n",
        "\n",
        "        return dp[len(s)]\n"
      ],
      "metadata": {
        "id": "WnbGLCpdfwcj"
      },
      "execution_count": null,
      "outputs": []
    },
    {
      "cell_type": "markdown",
      "source": [
        "141번"
      ],
      "metadata": {
        "id": "qs8s9FzPfw5b"
      }
    },
    {
      "cell_type": "code",
      "source": [
        "class ListNode:\n",
        "    def __init__(self, x):\n",
        "        self.val = x\n",
        "        self.next = None\n",
        "\n",
        "class Solution:\n",
        "    def hasCycle(self, head: ListNode) -> bool:\n",
        "        if not head or not head.next:\n",
        "            return False\n",
        "\n",
        "        slow = head\n",
        "        fast = head.next\n",
        "\n",
        "        while slow != fast:\n",
        "            if not fast or not fast.next:\n",
        "                return False\n",
        "            slow = slow.next\n",
        "            fast = fast.next.next\n",
        "\n",
        "        return True\n"
      ],
      "metadata": {
        "id": "GxB-pwabf1HH"
      },
      "execution_count": null,
      "outputs": []
    },
    {
      "cell_type": "markdown",
      "source": [
        "143번"
      ],
      "metadata": {
        "id": "y77MUAJif1jM"
      }
    },
    {
      "cell_type": "code",
      "source": [
        "class ListNode:\n",
        "    def __init__(self, x):\n",
        "        self.val = x\n",
        "        self.next = None\n",
        "\n",
        "class Solution:\n",
        "    def reorderList(self, head: ListNode) -> None:\n",
        "        if not head or not head.next:\n",
        "            return\n",
        "\n",
        "        slow = head\n",
        "        fast = head\n",
        "\n",
        "        while fast and fast.next:\n",
        "            slow = slow.next\n",
        "            fast = fast.next.next\n",
        "\n",
        "        prev = None\n",
        "        current = slow\n",
        "\n",
        "        while current:\n",
        "            next_node = current.next\n",
        "            current.next = prev\n",
        "            prev = current\n",
        "            current = next_node\n",
        "\n",
        "        first = head\n",
        "        second = prev\n",
        "\n",
        "        while second.next:\n",
        "            tmp1 = first.next\n",
        "            tmp2 = second.next\n",
        "\n",
        "            first.next = second\n",
        "            second.next = tmp1\n",
        "\n",
        "            first = tmp1\n",
        "            second = tmp2\n"
      ],
      "metadata": {
        "id": "1M4NbUXvgQaY"
      },
      "execution_count": null,
      "outputs": []
    },
    {
      "cell_type": "markdown",
      "source": [
        "144번"
      ],
      "metadata": {
        "id": "2P5ouV39gREK"
      }
    },
    {
      "cell_type": "code",
      "source": [
        "class TreeNode:\n",
        "    def __init__(self, val=0, left=None, right=None):\n",
        "        self.val = val\n",
        "        self.left = left\n",
        "        self.right = right\n",
        "\n",
        "class Solution:\n",
        "    def preorderTraversal(self, root: TreeNode) -> List[int]:\n",
        "        def preorder(node):\n",
        "            if not node:\n",
        "                return []\n",
        "            return [node.val] + preorder(node.left) + preorder(node.right)\n",
        "\n",
        "        return preorder(root)\n"
      ],
      "metadata": {
        "id": "_SqEN2KdgWJw"
      },
      "execution_count": null,
      "outputs": []
    },
    {
      "cell_type": "markdown",
      "source": [
        "145번"
      ],
      "metadata": {
        "id": "yWV89DBcgWqV"
      }
    },
    {
      "cell_type": "code",
      "source": [
        "class TreeNode:\n",
        "    def __init__(self, val=0, left=None, right=None):\n",
        "        self.val = val\n",
        "        self.left = left\n",
        "        self.right = right\n",
        "\n",
        "class Solution:\n",
        "    def postorderTraversal(self, root: TreeNode) -> List[int]:\n",
        "        def postorder(node):\n",
        "            if not node:\n",
        "                return []\n",
        "            return postorder(node.left) + postorder(node.right) + [node.val]\n",
        "\n",
        "        return postorder(root)\n"
      ],
      "metadata": {
        "id": "-zZC4SAQgac6"
      },
      "execution_count": null,
      "outputs": []
    },
    {
      "cell_type": "markdown",
      "source": [
        "146번"
      ],
      "metadata": {
        "id": "8EdoEN8iga8j"
      }
    },
    {
      "cell_type": "code",
      "source": [
        "class Node:\n",
        "    def __init__(self, key=None, value=None):\n",
        "        self.key = key\n",
        "        self.value = value\n",
        "        self.prev = None\n",
        "        self.next = None\n",
        "\n",
        "class LRUCache:\n",
        "\n",
        "    def __init__(self, capacity: int):\n",
        "        self.capacity = capacity\n",
        "        self.cache = {}\n",
        "        self.head = Node()\n",
        "        self.tail = Node()\n",
        "        self.head.next = self.tail\n",
        "        self.tail.prev = self.head\n",
        "\n",
        "    def _remove(self, node):\n",
        "        prev_node = node.prev\n",
        "        next_node = node.next\n",
        "        prev_node.next = next_node\n",
        "        next_node.prev = prev_node\n",
        "\n",
        "    def _add(self, node):\n",
        "        next_node = self.head.next\n",
        "        self.head.next = node\n",
        "        node.prev = self.head\n",
        "        node.next = next_node\n",
        "        next_node.prev = node\n",
        "\n",
        "    def get(self, key: int) -> int:\n",
        "        if key in self.cache:\n",
        "            node = self.cache[key]\n",
        "            self._remove(node)\n",
        "            self._add(node)\n",
        "            return node.value\n",
        "        return -1\n",
        "\n",
        "    def put(self, key: int, value: int) -> None:\n",
        "        if key in self.cache:\n",
        "            self._remove(self.cache[key])\n",
        "        node = Node(key, value)\n",
        "        self._add(node)\n",
        "        self.cache[key] = node\n",
        "        if len(self.cache) > self.capacity:\n",
        "            lru = self.tail.prev\n",
        "            self._remove(lru)\n",
        "            del self.cache[lru.key]\n"
      ],
      "metadata": {
        "id": "Zf2I0B4sgfJO"
      },
      "execution_count": null,
      "outputs": []
    },
    {
      "cell_type": "markdown",
      "source": [
        "147번"
      ],
      "metadata": {
        "id": "R9kOC3nZgfsu"
      }
    },
    {
      "cell_type": "code",
      "source": [
        "class ListNode:\n",
        "    def __init__(self, x):\n",
        "        self.val = x\n",
        "        self.next = None\n",
        "\n",
        "class Solution:\n",
        "    def insertionSortList(self, head: ListNode) -> ListNode:\n",
        "        if not head or not head.next:\n",
        "            return head\n",
        "\n",
        "        dummy = ListNode(0)\n",
        "        dummy.next = head\n",
        "        curr = head\n",
        "\n",
        "        while curr and curr.next:\n",
        "            if curr.val <= curr.next.val:\n",
        "                curr = curr.next\n",
        "            else:\n",
        "                to_insert = curr.next\n",
        "                curr.next = to_insert.next\n",
        "\n",
        "                prev = dummy\n",
        "                while prev.next.val < to_insert.val:\n",
        "                    prev = prev.next\n",
        "\n",
        "                to_insert.next = prev.next\n",
        "                prev.next = to_insert\n",
        "\n",
        "        return dummy.next\n"
      ],
      "metadata": {
        "id": "E6Gx9sXIgl69"
      },
      "execution_count": null,
      "outputs": []
    },
    {
      "cell_type": "markdown",
      "source": [
        "148번"
      ],
      "metadata": {
        "id": "x9Fnu9tEgnDD"
      }
    },
    {
      "cell_type": "code",
      "source": [
        "class ListNode:\n",
        "    def __init__(self, x):\n",
        "        self.val = x\n",
        "        self.next = None\n",
        "\n",
        "class Solution:\n",
        "    def sortList(self, head: ListNode) -> ListNode:\n",
        "        if not head or not head.next:\n",
        "            return head\n",
        "\n",
        "        mid = self.getMiddle(head)\n",
        "        left = head\n",
        "        right = mid.next\n",
        "        mid.next = None\n",
        "\n",
        "        left = self.sortList(left)\n",
        "        right = self.sortList(right)\n",
        "\n",
        "        return self.merge(left, right)\n",
        "\n",
        "    def getMiddle(self, head: ListNode) -> ListNode:\n",
        "        slow = head\n",
        "        fast = head.next\n",
        "\n",
        "        while fast and fast.next:\n",
        "            slow = slow.next\n",
        "            fast = fast.next.next\n",
        "\n",
        "        return slow\n",
        "\n",
        "    def merge(self, left: ListNode, right: ListNode) -> ListNode:\n",
        "        dummy = ListNode(0)\n",
        "        tail = dummy\n",
        "\n",
        "        while left and right:\n",
        "            if left.val < right.val:\n",
        "                tail.next = left\n",
        "                left = left.next\n",
        "            else:\n",
        "                tail.next = right\n",
        "                right = right.next\n",
        "            tail = tail.next\n",
        "\n",
        "        if left:\n",
        "            tail.next = left\n",
        "        if right:\n",
        "            tail.next = right\n",
        "\n",
        "        return dummy.next\n"
      ],
      "metadata": {
        "id": "cyF8Q9m8grqj"
      },
      "execution_count": null,
      "outputs": []
    },
    {
      "cell_type": "markdown",
      "source": [
        "150번"
      ],
      "metadata": {
        "id": "WdFZjPpTgsEE"
      }
    },
    {
      "cell_type": "code",
      "source": [
        "class Solution:\n",
        "    def evalRPN(self, tokens: List[str]) -> int:\n",
        "        stack = []\n",
        "\n",
        "        for token in tokens:\n",
        "            if token in \"+-*/\":\n",
        "                b = stack.pop()\n",
        "                a = stack.pop()\n",
        "                if token == '+':\n",
        "                    stack.append(a + b)\n",
        "                elif token == '-':\n",
        "                    stack.append(a - b)\n",
        "                elif token == '*':\n",
        "                    stack.append(a * b)\n",
        "                elif token == '/':\n",
        "                    stack.append(int(a / b))\n",
        "            else:\n",
        "                stack.append(int(token))\n",
        "\n",
        "        return stack[0]\n"
      ],
      "metadata": {
        "id": "qK1FYFpfgyDN"
      },
      "execution_count": null,
      "outputs": []
    },
    {
      "cell_type": "markdown",
      "source": [
        "151번"
      ],
      "metadata": {
        "id": "ZaSRC-OAgygu"
      }
    },
    {
      "cell_type": "code",
      "source": [
        "class Solution:\n",
        "    def reverseWords(self, s: str) -> str:\n",
        "        words = s.strip().split()\n",
        "        words.reverse()\n",
        "        return ' '.join(words)\n"
      ],
      "metadata": {
        "id": "M1KctBiWg49b"
      },
      "execution_count": null,
      "outputs": []
    },
    {
      "cell_type": "markdown",
      "source": [
        "152번"
      ],
      "metadata": {
        "id": "EKC0JqhLg5Zu"
      }
    },
    {
      "cell_type": "code",
      "source": [
        "class Solution:\n",
        "    def maxProduct(self, nums: List[int]) -> int:\n",
        "        if not nums:\n",
        "            return 0\n",
        "\n",
        "        max_prod = nums[0]\n",
        "        min_prod = nums[0]\n",
        "        result = nums[0]\n",
        "\n",
        "        for i in range(1, len(nums)):\n",
        "            num = nums[i]\n",
        "\n",
        "            if num < 0:\n",
        "                max_prod, min_prod = min_prod, max_prod\n",
        "\n",
        "            max_prod = max(num, max_prod * num)\n",
        "            min_prod = min(num, min_prod * num)\n",
        "\n",
        "            result = max(result, max_prod)\n",
        "\n",
        "        return result\n"
      ],
      "metadata": {
        "id": "lhCGFibHg_n-"
      },
      "execution_count": null,
      "outputs": []
    },
    {
      "cell_type": "markdown",
      "source": [
        "153번"
      ],
      "metadata": {
        "id": "VVV-4vRKhAhS"
      }
    },
    {
      "cell_type": "code",
      "source": [
        "class Solution:\n",
        "    def findMin(self, nums: List[int]) -> int:\n",
        "        left, right = 0, len(nums) - 1\n",
        "\n",
        "        while left < right:\n",
        "            mid = (left + right) // 2\n",
        "\n",
        "            if nums[mid] > nums[right]:\n",
        "                left = mid + 1\n",
        "            else:\n",
        "                right = mid\n",
        "\n",
        "        return nums[left]\n"
      ],
      "metadata": {
        "id": "DiK4gN7chEVl"
      },
      "execution_count": null,
      "outputs": []
    },
    {
      "cell_type": "markdown",
      "source": [
        "155번"
      ],
      "metadata": {
        "id": "M6xnA_nshF-0"
      }
    },
    {
      "cell_type": "code",
      "source": [
        "class MinStack:\n",
        "\n",
        "    def __init__(self):\n",
        "        self.stack = []\n",
        "        self.min_stack = []\n",
        "\n",
        "    def push(self, x: int) -> None:\n",
        "        self.stack.append(x)\n",
        "        if not self.min_stack or x <= self.min_stack[-1]:\n",
        "            self.min_stack.append(x)\n",
        "\n",
        "    def pop(self) -> None:\n",
        "        if self.stack:\n",
        "            top_element = self.stack.pop()\n",
        "            if top_element == self.min_stack[-1]:\n",
        "                self.min_stack.pop()\n",
        "\n",
        "    def top(self) -> int:\n",
        "        if self.stack:\n",
        "            return self.stack[-1]\n",
        "        return None\n",
        "\n",
        "    def getMin(self) -> int:\n",
        "        if self.min_stack:\n",
        "            return self.min_stack[-1]\n",
        "        return None\n"
      ],
      "metadata": {
        "id": "nrIYrzOshOsT"
      },
      "execution_count": null,
      "outputs": []
    },
    {
      "cell_type": "markdown",
      "source": [
        "164번"
      ],
      "metadata": {
        "id": "vpyjtgGhhPWZ"
      }
    },
    {
      "cell_type": "code",
      "source": [
        "class Solution:\n",
        "    def maximumGap(self, nums: List[int]) -> int:\n",
        "        if len(nums) < 2:\n",
        "            return 0\n",
        "        min_num, max_num = min(nums), max(nums)\n",
        "\n",
        "        bucket_size = max(1, (max_num - min_num) // (len(nums) - 1))\n",
        "        bucket_count = (max_num - min_num) // bucket_size + 1\n",
        "\n",
        "        buckets = [[] for _ in range(bucket_count)]\n",
        "\n",
        "        for num in nums:\n",
        "            idx = (num - min_num) // bucket_size\n",
        "            buckets[idx].append(num)\n",
        "\n",
        "        prev_max = max(buckets[0])\n",
        "        max_gap = 0\n",
        "\n",
        "        for i in range(1, bucket_count):\n",
        "            if not buckets[i]:\n",
        "                continue\n",
        "            current_min = min(buckets[i])\n",
        "            max_gap = max(max_gap, current_min - prev_max)\n",
        "            prev_max = max(buckets[i])\n",
        "\n",
        "        return max_gap\n"
      ],
      "metadata": {
        "id": "3pN2no9qhWBP"
      },
      "execution_count": null,
      "outputs": []
    },
    {
      "cell_type": "markdown",
      "source": [
        "165번"
      ],
      "metadata": {
        "id": "XJylsnzXhWim"
      }
    },
    {
      "cell_type": "code",
      "source": [
        "class Solution:\n",
        "    def compareVersion(self, version1: str, version2: str) -> int:\n",
        "        v1_parts = list(map(int, version1.split('.')))\n",
        "        v2_parts = list(map(int, version2.split('.')))\n",
        "\n",
        "        max_length = max(len(v1_parts), len(v2_parts))\n",
        "\n",
        "        for i in range(max_length):\n",
        "            v1_part = v1_parts[i] if i < len(v1_parts) else 0\n",
        "            v2_part = v2_parts[i] if i < len(v2_parts) else 0\n",
        "\n",
        "            if v1_part > v2_part:\n",
        "                return 1\n",
        "            elif v1_part < v2_part:\n",
        "                return -1\n",
        "\n",
        "        return 0\n"
      ],
      "metadata": {
        "id": "e9LkyXEGhd1g"
      },
      "execution_count": null,
      "outputs": []
    },
    {
      "cell_type": "markdown",
      "source": [
        "166번"
      ],
      "metadata": {
        "id": "tfCyf6siheQc"
      }
    },
    {
      "cell_type": "code",
      "source": [
        "class Solution:\n",
        "    def fractionToDecimal(self, numerator: int, denominator: int) -> str:\n",
        "        if numerator == 0:\n",
        "            return \"0\"\n",
        "\n",
        "        result = []\n",
        "        if (numerator < 0) ^ (denominator < 0):\n",
        "            result.append(\"-\")\n",
        "\n",
        "        numerator = abs(numerator)\n",
        "        denominator = abs(denominator)\n",
        "\n",
        "        result.append(str(numerator // denominator))\n",
        "        numerator %= denominator\n",
        "\n",
        "        if numerator == 0:\n",
        "            return \"\".join(result)\n",
        "\n",
        "        result.append(\".\")\n",
        "        num_index_map = {}\n",
        "\n",
        "        while numerator != 0:\n",
        "            if numerator in num_index_map:\n",
        "                result.insert(num_index_map[numerator], \"(\")\n",
        "                result.append(\")\")\n",
        "                break\n",
        "\n",
        "            num_index_map[numerator] = len(result)\n",
        "            numerator *= 10\n",
        "            result.append(str(numerator // denominator))\n",
        "            numerator %= denominator\n",
        "\n",
        "        return \"\".join(result)\n"
      ],
      "metadata": {
        "id": "1WrdsyNDhkp_"
      },
      "execution_count": null,
      "outputs": []
    },
    {
      "cell_type": "markdown",
      "source": [
        "167번"
      ],
      "metadata": {
        "id": "qXgBHMK3hlHt"
      }
    },
    {
      "cell_type": "code",
      "source": [
        "class Solution:\n",
        "    def twoSum(self, numbers: List[int], target: int) -> List[int]:\n",
        "        left, right = 0, len(numbers) - 1\n",
        "\n",
        "        while left < right:\n",
        "            current_sum = numbers[left] + numbers[right]\n",
        "\n",
        "            if current_sum == target:\n",
        "                return [left + 1, right + 1]\n",
        "            elif current_sum < target:\n",
        "                left += 1\n",
        "            else:\n",
        "                right -= 1\n",
        "\n",
        "        return []\n"
      ],
      "metadata": {
        "id": "CP33GLvXh1cH"
      },
      "execution_count": null,
      "outputs": []
    },
    {
      "cell_type": "markdown",
      "source": [
        "168번"
      ],
      "metadata": {
        "id": "qMMWtXcUh12k"
      }
    },
    {
      "cell_type": "code",
      "source": [
        "class Solution:\n",
        "    def convertToTitle(self, columnNumber: int) -> str:\n",
        "        result = []\n",
        "        while columnNumber > 0:\n",
        "            columnNumber -= 1\n",
        "            result.append(chr(columnNumber % 26 + ord('A')))\n",
        "            columnNumber //= 26\n",
        "        return ''.join(result[::-1])\n"
      ],
      "metadata": {
        "id": "K7jXtLt8h4ux"
      },
      "execution_count": null,
      "outputs": []
    },
    {
      "cell_type": "markdown",
      "source": [
        "169번"
      ],
      "metadata": {
        "id": "1oAXTRlJh5P3"
      }
    },
    {
      "cell_type": "code",
      "source": [
        "class Solution:\n",
        "    def majorityElement(self, nums: List[int]) -> int:\n",
        "        candidate = None\n",
        "        count = 0\n",
        "\n",
        "        for num in nums:\n",
        "            if count == 0:\n",
        "                candidate = num\n",
        "            count += (1 if num == candidate else -1)\n",
        "\n",
        "        return candidate\n"
      ],
      "metadata": {
        "id": "qx7rj318h7OF"
      },
      "execution_count": null,
      "outputs": []
    },
    {
      "cell_type": "markdown",
      "source": [
        "171번"
      ],
      "metadata": {
        "id": "CJCmh-aCh7rM"
      }
    },
    {
      "cell_type": "code",
      "source": [
        "class Solution:\n",
        "    def titleToNumber(self, columnTitle: str) -> int:\n",
        "        result = 0\n",
        "        for char in columnTitle:\n",
        "            result = result * 26 + (ord(char) - ord('A') + 1)\n",
        "        return result\n"
      ],
      "metadata": {
        "id": "cHhxYgcjh-ok"
      },
      "execution_count": null,
      "outputs": []
    },
    {
      "cell_type": "markdown",
      "source": [
        "172번"
      ],
      "metadata": {
        "id": "tiyPeLCrh_FJ"
      }
    },
    {
      "cell_type": "code",
      "source": [
        "class Solution:\n",
        "    def trailingZeroes(self, n: int) -> int:\n",
        "        count = 0\n",
        "        while n >= 5:\n",
        "            n //= 5\n",
        "            count += n\n",
        "        return count\n"
      ],
      "metadata": {
        "id": "DZUojhHYiA--"
      },
      "execution_count": null,
      "outputs": []
    },
    {
      "cell_type": "markdown",
      "source": [
        "173번"
      ],
      "metadata": {
        "id": "lW3QuA6biBb1"
      }
    },
    {
      "cell_type": "code",
      "source": [
        "class TreeNode:\n",
        "    def __init__(self, x):\n",
        "        self.val = x\n",
        "        self.left = None\n",
        "        self.right = None\n",
        "\n",
        "class BSTIterator:\n",
        "\n",
        "    def __init__(self, root: TreeNode):\n",
        "        self.stack = []\n",
        "        self._leftmost_inorder(root)\n",
        "\n",
        "    def _leftmost_inorder(self, root):\n",
        "        while root:\n",
        "            self.stack.append(root)\n",
        "            root = root.left\n",
        "\n",
        "    def next(self) -> int:\n",
        "        topmost_node = self.stack.pop()\n",
        "        if topmost_node.right:\n",
        "            self._leftmost_inorder(topmost_node.right)\n",
        "        return topmost_node.val\n",
        "\n",
        "    def hasNext(self) -> bool:\n",
        "        return len(self.stack) > 0\n"
      ],
      "metadata": {
        "id": "NyvP7_pjiEtX"
      },
      "execution_count": null,
      "outputs": []
    },
    {
      "cell_type": "markdown",
      "source": [
        "179번"
      ],
      "metadata": {
        "id": "7ZvLjiiuiFMv"
      }
    },
    {
      "cell_type": "code",
      "source": [
        "from functools import cmp_to_key\n",
        "\n",
        "class Solution:\n",
        "    def largestNumber(self, nums: List[int]) -> str:\n",
        "        nums = list(map(str, nums))\n",
        "        def compare(x, y):\n",
        "            if x + y > y + x:\n",
        "                return -1\n",
        "            elif x + y < y + x:\n",
        "                return 1\n",
        "            else:\n",
        "                return 0\n",
        "\n",
        "        nums.sort(key=cmp_to_key(compare))\n",
        "        largest_num = ''.join(nums)\n",
        "        if largest_num[0] == '0':\n",
        "            return '0'\n",
        "\n",
        "        return largest_num\n"
      ],
      "metadata": {
        "id": "tBXxtcHKiLYZ"
      },
      "execution_count": null,
      "outputs": []
    },
    {
      "cell_type": "markdown",
      "source": [
        "187번"
      ],
      "metadata": {
        "id": "3Sp2ANLZiL26"
      }
    },
    {
      "cell_type": "code",
      "source": [
        "class Solution:\n",
        "    def findRepeatedDnaSequences(self, s: str) -> List[str]:\n",
        "        seen, repeated = set(), set()\n",
        "\n",
        "        for i in range(len(s) - 9):\n",
        "            substring = s[i:i+10]\n",
        "            if substring in seen:\n",
        "                repeated.add(substring)\n",
        "            else:\n",
        "                seen.add(substring)\n",
        "\n",
        "        return list(repeated)\n"
      ],
      "metadata": {
        "id": "_rLS5g6ZiPCM"
      },
      "execution_count": null,
      "outputs": []
    },
    {
      "cell_type": "markdown",
      "source": [
        "189번"
      ],
      "metadata": {
        "id": "74cYqSTGiQKN"
      }
    },
    {
      "cell_type": "code",
      "source": [
        "class Solution:\n",
        "    def rotate(self, nums: List[int], k: int) -> None:\n",
        "        n = len(nums)\n",
        "        k = k % n\n",
        "        nums[:] = nums[n-k:] + nums[:n-k]\n"
      ],
      "metadata": {
        "id": "ZjUo6p6UiTxk"
      },
      "execution_count": null,
      "outputs": []
    },
    {
      "cell_type": "markdown",
      "source": [
        "190번"
      ],
      "metadata": {
        "id": "5XGfL2OtiUUk"
      }
    },
    {
      "cell_type": "code",
      "source": [
        "class Solution:\n",
        "    def reverseBits(self, n: int) -> int:\n",
        "        result = 0\n",
        "        for i in range(32):\n",
        "            result = (result << 1) | (n & 1)\n",
        "            n >>= 1\n",
        "        return result\n"
      ],
      "metadata": {
        "id": "4Wy7JGTciW_G"
      },
      "execution_count": null,
      "outputs": []
    },
    {
      "cell_type": "markdown",
      "source": [
        "191번"
      ],
      "metadata": {
        "id": "oMrDWSIHiXbN"
      }
    },
    {
      "cell_type": "code",
      "source": [
        "class Solution:\n",
        "    def hammingWeight(self, n: int) -> int:\n",
        "        count = 0\n",
        "        while n:\n",
        "            count += n & 1\n",
        "            n >>= 1\n",
        "        return count\n"
      ],
      "metadata": {
        "id": "xMQ9m-TuiZSv"
      },
      "execution_count": null,
      "outputs": []
    },
    {
      "cell_type": "markdown",
      "source": [
        "198번"
      ],
      "metadata": {
        "id": "dyBWGShNibkz"
      }
    },
    {
      "cell_type": "code",
      "source": [
        "class Solution:\n",
        "    def rob(self, nums: List[int]) -> int:\n",
        "        if not nums:\n",
        "            return 0\n",
        "        if len(nums) == 1:\n",
        "            return nums[0]\n",
        "\n",
        "        dp = [0] * len(nums)\n",
        "        dp[0] = nums[0]\n",
        "        dp[1] = max(nums[0], nums[1])\n",
        "\n",
        "        for i in range(2, len(nums)):\n",
        "            dp[i] = max(dp[i-1], dp[i-2] + nums[i])\n",
        "\n",
        "        return dp[-1]\n"
      ],
      "metadata": {
        "id": "tA2x2MJhic67"
      },
      "execution_count": null,
      "outputs": []
    },
    {
      "cell_type": "markdown",
      "source": [
        "199번"
      ],
      "metadata": {
        "id": "AmEJ0rvFidUK"
      }
    },
    {
      "cell_type": "code",
      "source": [
        "from collections import deque\n",
        "\n",
        "class TreeNode:\n",
        "    def __init__(self, x):\n",
        "        self.val = x\n",
        "        self.left = None\n",
        "        self.right = None\n",
        "\n",
        "class Solution:\n",
        "    def rightSideView(self, root: TreeNode) -> List[int]:\n",
        "        if not root:\n",
        "            return []\n",
        "\n",
        "        right_side = []\n",
        "        queue = deque([root])\n",
        "\n",
        "        while queue:\n",
        "            level_length = len(queue)\n",
        "            for i in range(level_length):\n",
        "                node = queue.popleft()\n",
        "                if i == level_length - 1:\n",
        "                    right_side.append(node.val)\n",
        "                if node.left:\n",
        "                    queue.append(node.left)\n",
        "                if node.right:\n",
        "                    queue.append(node.right)\n",
        "\n",
        "        return right_side\n"
      ],
      "metadata": {
        "id": "uxcrGGPIihx8"
      },
      "execution_count": null,
      "outputs": []
    },
    {
      "cell_type": "markdown",
      "source": [
        "200번"
      ],
      "metadata": {
        "id": "KAG8oR8wiiVX"
      }
    },
    {
      "cell_type": "code",
      "source": [
        "class Solution:\n",
        "    def numIslands(self, grid: List[List[str]]) -> int:\n",
        "        if not grid:\n",
        "            return 0\n",
        "\n",
        "        def dfs(grid, r, c):\n",
        "            grid[r][c] = '0'\n",
        "            directions = [(1, 0), (-1, 0), (0, 1), (0, -1)]\n",
        "            for dr, dc in directions:\n",
        "                nr, nc = r + dr, c + dc\n",
        "                if 0 <= nr < len(grid) and 0 <= nc < len(grid[0]) and grid[nr][nc] == '1':\n",
        "                    dfs(grid, nr, nc)\n",
        "\n",
        "        num_islands = 0\n",
        "        for r in range(len(grid)):\n",
        "            for c in range(len(grid[0])):\n",
        "                if grid[r][c] == '1':\n",
        "                    num_islands += 1\n",
        "                    dfs(grid, r, c)\n",
        "\n",
        "        return num_islands\n"
      ],
      "metadata": {
        "id": "AgPHBDoBilDR"
      },
      "execution_count": null,
      "outputs": []
    },
    {
      "cell_type": "markdown",
      "source": [
        "202번"
      ],
      "metadata": {
        "id": "ZUgq7GrXilid"
      }
    },
    {
      "cell_type": "code",
      "source": [
        "class Solution:\n",
        "    def isHappy(self, n: int) -> bool:\n",
        "        def get_next(number):\n",
        "            total_sum = 0\n",
        "            while number > 0:\n",
        "                number, digit = divmod(number, 10)\n",
        "                total_sum += digit * digit\n",
        "            return total_sum\n",
        "\n",
        "        seen = set()\n",
        "        while n != 1 and n not in seen:\n",
        "            seen.add(n)\n",
        "            n = get_next(n)\n",
        "\n",
        "        return n == 1\n"
      ],
      "metadata": {
        "id": "G9QNs4uCipF6"
      },
      "execution_count": null,
      "outputs": []
    },
    {
      "cell_type": "markdown",
      "source": [
        "203번"
      ],
      "metadata": {
        "id": "Nud4OKVMipmi"
      }
    },
    {
      "cell_type": "code",
      "source": [
        "class ListNode:\n",
        "    def __init__(self, val=0, next=None):\n",
        "        self.val = val\n",
        "        self.next = next\n",
        "\n",
        "class Solution:\n",
        "    def removeElements(self, head: ListNode, val: int) -> ListNode:\n",
        "        dummy = ListNode(next=head)\n",
        "        current = dummy\n",
        "\n",
        "        while current.next:\n",
        "            if current.next.val == val:\n",
        "                current.next = current.next.next\n",
        "            else:\n",
        "                current = current.next\n",
        "\n",
        "        return dummy.next\n"
      ],
      "metadata": {
        "id": "BoMA7RECi2cw"
      },
      "execution_count": null,
      "outputs": []
    },
    {
      "cell_type": "markdown",
      "source": [
        "204번"
      ],
      "metadata": {
        "id": "xL5R_3Vwi23u"
      }
    },
    {
      "cell_type": "code",
      "source": [
        "class Solution:\n",
        "    def countPrimes(self, n: int) -> int:\n",
        "        if n <= 2:\n",
        "            return 0\n",
        "        is_prime = [True] * n\n",
        "        is_prime[0] = is_prime[1] = False\n",
        "\n",
        "        for i in range(2, int(n**0.5) + 1):\n",
        "            if is_prime[i]:\n",
        "                for j in range(i * i, n, i):\n",
        "                    is_prime[j] = False\n",
        "\n",
        "        return sum(is_prime)\n"
      ],
      "metadata": {
        "id": "wtXZ00ISi6ge"
      },
      "execution_count": null,
      "outputs": []
    },
    {
      "cell_type": "markdown",
      "source": [
        "205번"
      ],
      "metadata": {
        "id": "f7B5NC5di68o"
      }
    },
    {
      "cell_type": "code",
      "source": [
        "class Solution:\n",
        "    def isIsomorphic(self, s: str, t: str) -> bool:\n",
        "        if len(s) != len(t):\n",
        "            return False\n",
        "        mapping_s_to_t = {}\n",
        "        mapping_t_to_s = {}\n",
        "\n",
        "        for char_s, char_t in zip(s, t):\n",
        "            if char_s in mapping_s_to_t:\n",
        "                if mapping_s_to_t[char_s] != char_t:\n",
        "                    return False\n",
        "            else:\n",
        "                mapping_s_to_t[char_s] = char_t\n",
        "\n",
        "            if char_t in mapping_t_to_s:\n",
        "                if mapping_t_to_s[char_t] != char_s:\n",
        "                    return False\n",
        "            else:\n",
        "                mapping_t_to_s[char_t] = char_s\n",
        "\n",
        "        return True\n"
      ],
      "metadata": {
        "id": "ZFqqd1K4i_BU"
      },
      "execution_count": null,
      "outputs": []
    },
    {
      "cell_type": "markdown",
      "source": [
        "206번"
      ],
      "metadata": {
        "id": "0kEH-nQci_0p"
      }
    },
    {
      "cell_type": "code",
      "source": [
        "class ListNode:\n",
        "    def __init__(self, val=0, next=None):\n",
        "        self.val = val\n",
        "        self.next = next\n",
        "\n",
        "class Solution:\n",
        "    def reverseList(self, head: ListNode) -> ListNode:\n",
        "        prev = None\n",
        "        current = head\n",
        "\n",
        "        while current:\n",
        "            next_node = current.next\n",
        "            current.next = prev\n",
        "            prev = current\n",
        "            current = next_node\n",
        "\n",
        "        return prev\n"
      ],
      "metadata": {
        "id": "95vK7I2hjFlV"
      },
      "execution_count": null,
      "outputs": []
    },
    {
      "cell_type": "markdown",
      "source": [
        "207번"
      ],
      "metadata": {
        "id": "iWNSzFVCjU1g"
      }
    },
    {
      "cell_type": "code",
      "source": [
        "from collections import deque, defaultdict\n",
        "\n",
        "class Solution:\n",
        "    def canFinish(self, numCourses: int, prerequisites: List[List[int]]) -> bool:\n",
        "        graph = defaultdict(list)\n",
        "        in_degree = [0] * numCourses\n",
        "\n",
        "        for dest, src in prerequisites:\n",
        "            graph[src].append(dest)\n",
        "            in_degree[dest] += 1\n",
        "\n",
        "        queue = deque([i for i in range(numCourses) if in_degree[i] == 0])\n",
        "\n",
        "        visited_courses = 0\n",
        "\n",
        "        while queue:\n",
        "            course = queue.popleft()\n",
        "            visited_courses += 1\n",
        "            for neighbor in graph[course]:\n",
        "                in_degree[neighbor] -= 1\n",
        "                if in_degree[neighbor] == 0:\n",
        "                    queue.append(neighbor)\n",
        "\n",
        "        return visited_courses == numCourses\n"
      ],
      "metadata": {
        "id": "c62emYGjjVvg"
      },
      "execution_count": null,
      "outputs": []
    },
    {
      "cell_type": "markdown",
      "source": [
        "208번"
      ],
      "metadata": {
        "id": "-9HneGcvjWJn"
      }
    },
    {
      "cell_type": "code",
      "source": [
        "class TrieNode:\n",
        "    def __init__(self):\n",
        "        self.children = {}\n",
        "        self.is_end_of_word = False\n",
        "\n",
        "class Trie:\n",
        "    def __init__(self):\n",
        "        self.root = TrieNode()\n",
        "\n",
        "    def insert(self, word: str) -> None:\n",
        "        node = self.root\n",
        "        for char in word:\n",
        "            if char not in node.children:\n",
        "                node.children[char] = TrieNode()\n",
        "            node = node.children[char]\n",
        "        node.is_end_of_word = True\n",
        "\n",
        "    def search(self, word: str) -> bool:\n",
        "        node = self.root\n",
        "        for char in word:\n",
        "            if char not in node.children:\n",
        "                return False\n",
        "            node = node.children[char]\n",
        "        return node.is_end_of_word\n",
        "\n",
        "    def startsWith(self, prefix: str) -> bool:\n",
        "        node = self.root\n",
        "        for char in prefix:\n",
        "            if char not in node.children:\n",
        "                return False\n",
        "            node = node.children[char]\n",
        "        return True\n"
      ],
      "metadata": {
        "id": "E3OzzOV2jYj2"
      },
      "execution_count": null,
      "outputs": []
    },
    {
      "cell_type": "markdown",
      "source": [
        "209번"
      ],
      "metadata": {
        "id": "WYyWh25wjZG4"
      }
    },
    {
      "cell_type": "code",
      "source": [
        "class Solution:\n",
        "    def minSubArrayLen(self, s: int, nums: List[int]) -> int:\n",
        "        n = len(nums)\n",
        "        min_length = float('inf')\n",
        "        left = 0\n",
        "        current_sum = 0\n",
        "\n",
        "        for right in range(n):\n",
        "            current_sum += nums[right]\n",
        "            while current_sum >= s:\n",
        "                min_length = min(min_length, right - left + 1)\n",
        "                current_sum -= nums[left]\n",
        "                left += 1\n",
        "\n",
        "        return min_length if min_length != float('inf') else 0\n"
      ],
      "metadata": {
        "id": "oQWGQwYojbsG"
      },
      "execution_count": null,
      "outputs": []
    },
    {
      "cell_type": "markdown",
      "source": [
        "210번"
      ],
      "metadata": {
        "id": "CZLhc_3ojcJk"
      }
    },
    {
      "cell_type": "code",
      "source": [
        "from collections import deque, defaultdict\n",
        "\n",
        "class Solution:\n",
        "    def findOrder(self, numCourses: int, prerequisites: List[List[int]]) -> List[int]:\n",
        "        graph = defaultdict(list)\n",
        "        in_degree = [0] * numCourses\n",
        "\n",
        "        for dest, src in prerequisites:\n",
        "            graph[src].append(dest)\n",
        "            in_degree[dest] += 1\n",
        "\n",
        "        queue = deque([i for i in range(numCourses) if in_degree[i] == 0])\n",
        "\n",
        "        order = []\n",
        "\n",
        "        while queue:\n",
        "            course = queue.popleft()\n",
        "            order.append(course)\n",
        "            for neighbor in graph[course]:\n",
        "                in_degree[neighbor] -= 1\n",
        "                if in_degree[neighbor] == 0:\n",
        "                    queue.append(neighbor)\n",
        "\n",
        "        if len(order) == numCourses:\n",
        "            return order\n",
        "        else:\n",
        "            return []\n"
      ],
      "metadata": {
        "id": "Y6wlxICyjitj"
      },
      "execution_count": null,
      "outputs": []
    },
    {
      "cell_type": "markdown",
      "source": [
        "211번"
      ],
      "metadata": {
        "id": "boSpBAkHjjUr"
      }
    },
    {
      "cell_type": "code",
      "source": [
        "class TrieNode:\n",
        "    def __init__(self):\n",
        "        self.children = {}\n",
        "        self.is_end_of_word = False\n",
        "\n",
        "class WordDictionary:\n",
        "\n",
        "    def __init__(self):\n",
        "        self.root = TrieNode()\n",
        "\n",
        "    def addWord(self, word: str) -> None:\n",
        "        node = self.root\n",
        "        for char in word:\n",
        "            if char not in node.children:\n",
        "                node.children[char] = TrieNode()\n",
        "            node = node.children[char]\n",
        "        node.is_end_of_word = True\n",
        "\n",
        "    def search(self, word: str) -> bool:\n",
        "        def dfs(node, i):\n",
        "            if i == len(word):\n",
        "                return node.is_end_of_word\n",
        "\n",
        "            char = word[i]\n",
        "            if char == '.':\n",
        "                for child in node.children.values():\n",
        "                    if dfs(child, i + 1):\n",
        "                        return True\n",
        "                return False\n",
        "            else:\n",
        "                if char in node.children:\n",
        "                    return dfs(node.children[char], i + 1)\n",
        "                else:\n",
        "                    return False\n",
        "\n",
        "        return dfs(self.root, 0)\n"
      ],
      "metadata": {
        "id": "zH-0uOX1jlve"
      },
      "execution_count": null,
      "outputs": []
    },
    {
      "cell_type": "markdown",
      "source": [
        "213번"
      ],
      "metadata": {
        "id": "zYcS0SlFjmR3"
      }
    },
    {
      "cell_type": "code",
      "source": [
        "class Solution:\n",
        "    def rob(self, nums: List[int]) -> int:\n",
        "        if len(nums) == 1:\n",
        "            return nums[0]\n",
        "\n",
        "        def rob_linear(nums):\n",
        "            prev2, prev1 = 0, 0\n",
        "            for num in nums:\n",
        "                current = max(prev1, prev2 + num)\n",
        "                prev2, prev1 = prev1, current\n",
        "            return prev1\n",
        "\n",
        "        return max(rob_linear(nums[:-1]), rob_linear(nums[1:]))\n"
      ],
      "metadata": {
        "id": "NEebWkhOjqw_"
      },
      "execution_count": null,
      "outputs": []
    },
    {
      "cell_type": "markdown",
      "source": [
        "216번"
      ],
      "metadata": {
        "id": "rk8RtqTbjrpy"
      }
    },
    {
      "cell_type": "code",
      "source": [
        "class Solution:\n",
        "    def combinationSum3(self, k: int, n: int) -> List[List[int]]:\n",
        "        def backtrack(start, path, remaining, k):\n",
        "            if len(path) == k and remaining == 0:\n",
        "                result.append(path[:])\n",
        "                return\n",
        "            if len(path) > k or remaining < 0:\n",
        "                return\n",
        "            for i in range(start, 10):\n",
        "                path.append(i)\n",
        "                backtrack(i + 1, path, remaining - i, k)\n",
        "                path.pop()\n",
        "\n",
        "        result = []\n",
        "        backtrack(1, [], n, k)\n",
        "        return result\n"
      ],
      "metadata": {
        "id": "Myn-TK2wjvj9"
      },
      "execution_count": null,
      "outputs": []
    },
    {
      "cell_type": "markdown",
      "source": [
        "217번"
      ],
      "metadata": {
        "id": "KnCYfikajwBx"
      }
    },
    {
      "cell_type": "code",
      "source": [
        "class Solution:\n",
        "    def containsDuplicate(self, nums: List[int]) -> bool:\n",
        "        seen = set()\n",
        "        for num in nums:\n",
        "            if num in seen:\n",
        "                return True\n",
        "            seen.add(num)\n",
        "        return False\n"
      ],
      "metadata": {
        "id": "AXfDPnV_jyLq"
      },
      "execution_count": null,
      "outputs": []
    },
    {
      "cell_type": "markdown",
      "source": [
        "221번"
      ],
      "metadata": {
        "id": "6QwEZUEajyq_"
      }
    },
    {
      "cell_type": "code",
      "source": [
        "class Solution:\n",
        "    def maximalSquare(self, matrix):\n",
        "        if not matrix or not matrix[0]:\n",
        "            return 0\n",
        "\n",
        "        rows, cols = len(matrix), len(matrix[0])\n",
        "        dp = [[0] * (cols + 1) for _ in range(rows + 1)]\n",
        "        max_side = 0\n",
        "\n",
        "        for i in range(1, rows + 1):\n",
        "            for j in range(1, cols + 1):\n",
        "                if matrix[i-1][j-1] == '1':\n",
        "                    dp[i][j] = min(dp[i-1][j], dp[i][j-1], dp[i-1][j-1]) + 1\n",
        "                    max_side = max(max_side, dp[i][j])\n",
        "\n",
        "        return max_side * max_side\n"
      ],
      "metadata": {
        "id": "4_g7MVfhj2Me"
      },
      "execution_count": null,
      "outputs": []
    },
    {
      "cell_type": "markdown",
      "source": [
        "222번"
      ],
      "metadata": {
        "id": "tzZF2Atgj3S5"
      }
    },
    {
      "cell_type": "code",
      "source": [
        "class TreeNode:\n",
        "    def __init__(self, val=0, left=None, right=None):\n",
        "        self.val = val\n",
        "        self.left = left\n",
        "        self.right = right\n",
        "\n",
        "class Solution:\n",
        "    def countNodes(self, root: TreeNode) -> int:\n",
        "        if not root:\n",
        "            return 0\n",
        "\n",
        "        left_depth = self.get_depth(root.left)\n",
        "        right_depth = self.get_depth(root.right)\n",
        "\n",
        "        if left_depth == right_depth:\n",
        "            return (2 ** left_depth) + self.countNodes(root.right)\n",
        "        else:\n",
        "            return (2 ** right_depth) + self.countNodes(root.left)\n",
        "\n",
        "    def get_depth(self, node: TreeNode) -> int:\n",
        "        depth = 0\n",
        "        while node:\n",
        "            node = node.left\n",
        "            depth += 1\n",
        "        return depth\n"
      ],
      "metadata": {
        "id": "t5zZflK1j8pv"
      },
      "execution_count": null,
      "outputs": []
    },
    {
      "cell_type": "markdown",
      "source": [
        "223번"
      ],
      "metadata": {
        "id": "2DLfWpLSj9VK"
      }
    },
    {
      "cell_type": "code",
      "source": [
        "class Solution:\n",
        "    def computeArea(self, A: int, B: int, C: int, D: int, E: int, F: int, G: int, H: int) -> int:\n",
        "        area1 = (C - A) * (D - B)\n",
        "        area2 = (G - E) * (H - F)\n",
        "\n",
        "        overlap_width = max(0, min(C, G) - max(A, E))\n",
        "        overlap_height = max(0, min(D, H) - max(B, F))\n",
        "        overlap_area = overlap_width * overlap_height\n",
        "        total_area = area1 + area2 - overlap_area\n",
        "\n",
        "        return total_area\n"
      ],
      "metadata": {
        "id": "fh4bFfB8kBLc"
      },
      "execution_count": null,
      "outputs": []
    },
    {
      "cell_type": "markdown",
      "source": [
        "225번"
      ],
      "metadata": {
        "id": "KhRUwLqskJ_D"
      }
    },
    {
      "cell_type": "code",
      "source": [
        "from collections import deque\n",
        "\n",
        "class MyStack:\n",
        "    def __init__(self):\n",
        "        self.queue = deque()\n",
        "\n",
        "    def push(self, x: int) -> None:\n",
        "        self.queue.append(x)\n",
        "        for _ in range(len(self.queue) - 1):\n",
        "            self.queue.append(self.queue.popleft())\n",
        "\n",
        "    def pop(self) -> int:\n",
        "        return self.queue.popleft()\n",
        "\n",
        "    def top(self) -> int:\n",
        "        return self.queue[0]\n",
        "\n",
        "    def empty(self) -> bool:\n",
        "        return not self.queue\n"
      ],
      "metadata": {
        "id": "8Fd0NLOVkLOi"
      },
      "execution_count": null,
      "outputs": []
    },
    {
      "cell_type": "markdown",
      "source": [
        "227번"
      ],
      "metadata": {
        "id": "7RMCphzakPw9"
      }
    },
    {
      "cell_type": "code",
      "source": [
        "class Solution:\n",
        "    def calculate(self, s: str) -> int:\n",
        "        if not s:\n",
        "            return 0\n",
        "\n",
        "        s = s.replace(' ', '')\n",
        "        stack = []\n",
        "        num = 0\n",
        "        sign = '+'\n",
        "\n",
        "        for i, char in enumerate(s):\n",
        "            if char.isdigit():\n",
        "                num = num * 10 + int(char)\n",
        "            if char in '+-*/' or i == len(s) - 1:\n",
        "                if sign == '+':\n",
        "                    stack.append(num)\n",
        "                elif sign == '-':\n",
        "                    stack.append(-num)\n",
        "                elif sign == '*':\n",
        "                    stack.append(stack.pop() * num)\n",
        "                elif sign == '/':\n",
        "                    stack.append(int(stack.pop() / num))\n",
        "                sign = char\n",
        "                num = 0\n",
        "\n",
        "        return sum(stack)\n"
      ],
      "metadata": {
        "id": "2XtMADXZkQdO"
      },
      "execution_count": null,
      "outputs": []
    },
    {
      "cell_type": "markdown",
      "source": [
        "228번"
      ],
      "metadata": {
        "id": "_JMd7rzSkRCN"
      }
    },
    {
      "cell_type": "code",
      "source": [
        "class Solution:\n",
        "    def summaryRanges(self, nums: list[int]) -> list[str]:\n",
        "        if not nums:\n",
        "            return []\n",
        "\n",
        "        ranges = []\n",
        "        start = nums[0]\n",
        "\n",
        "        for i in range(1, len(nums)):\n",
        "            if nums[i] != nums[i - 1] + 1:\n",
        "                if start == nums[i - 1]:\n",
        "                    ranges.append(str(start))\n",
        "                else:\n",
        "                    ranges.append(f\"{start}->{nums[i - 1]}\")\n",
        "                start = nums[i]\n",
        "        if start == nums[-1]:\n",
        "            ranges.append(str(start))\n",
        "        else:\n",
        "            ranges.append(f\"{start}->{nums[-1]}\")\n",
        "\n",
        "        return ranges\n"
      ],
      "metadata": {
        "id": "4ySVLE72kskx"
      },
      "execution_count": null,
      "outputs": []
    },
    {
      "cell_type": "markdown",
      "source": [
        "230번"
      ],
      "metadata": {
        "id": "tDBOYPO_lQP5"
      }
    },
    {
      "cell_type": "code",
      "source": [
        "class TreeNode:\n",
        "    def __init__(self, val=0, left=None, right=None):\n",
        "        self.val = val\n",
        "        self.left = left\n",
        "        self.right = right\n",
        "\n",
        "class Solution:\n",
        "    def kthSmallest(self, root: TreeNode, k: int) -> int:\n",
        "        def in_order_traverse(node):\n",
        "            if not node:\n",
        "                return []\n",
        "            return in_order_traverse(node.left) + [node.val] + in_order_traverse(node.right)\n",
        "\n",
        "        sorted_elements = in_order_traverse(root)\n",
        "        return sorted_elements[k - 1]\n",
        "\n",
        "root = TreeNode(3)\n",
        "root.left = TreeNode(1)\n",
        "root.right = TreeNode(4)\n",
        "root.left.right = TreeNode(2)\n",
        "\n"
      ],
      "metadata": {
        "id": "qQjVfXwOl1rV"
      },
      "execution_count": null,
      "outputs": []
    },
    {
      "cell_type": "markdown",
      "source": [
        "231번"
      ],
      "metadata": {
        "id": "OAT8dc9Vl8xB"
      }
    },
    {
      "cell_type": "code",
      "source": [
        "class Solution:\n",
        "    def isPowerOfTwo(self, n: int) -> bool:\n",
        "        if n <= 0:\n",
        "            return False\n",
        "        return (n & (n - 1)) == 0\n"
      ],
      "metadata": {
        "id": "tyxIYDyomOcb"
      },
      "execution_count": null,
      "outputs": []
    },
    {
      "cell_type": "markdown",
      "source": [
        "232번"
      ],
      "metadata": {
        "id": "cnR71wTumPgw"
      }
    },
    {
      "cell_type": "code",
      "source": [
        "class MyQueue:\n",
        "    def __init__(self):\n",
        "        self.in_stack = []\n",
        "        self.out_stack = []\n",
        "\n",
        "    def push(self, x: int) -> None:\n",
        "        self.in_stack.append(x)\n",
        "\n",
        "    def pop(self) -> int:\n",
        "        self.move()\n",
        "        return self.out_stack.pop()\n",
        "\n",
        "    def peek(self) -> int:\n",
        "        self.move()\n",
        "        return self.out_stack[-1]\n",
        "\n",
        "    def empty(self) -> bool:\n",
        "        return not self.in_stack and not self.out_stack\n",
        "\n",
        "    def move(self):\n",
        "        if not self.out_stack:\n",
        "            while self.in_stack:\n",
        "                self.out_stack.append(self.in_stack.pop())\n",
        "\n",
        "queue = MyQueue()\n",
        "queue.push(1)\n",
        "queue.push(2)\n"
      ],
      "metadata": {
        "id": "ySOXUtv9mZBk"
      },
      "execution_count": null,
      "outputs": []
    },
    {
      "cell_type": "markdown",
      "source": [
        "234번"
      ],
      "metadata": {
        "id": "yCw_XGiXmZmg"
      }
    },
    {
      "cell_type": "code",
      "source": [
        "class ListNode:\n",
        "    def __init__(self, val=0, next=None):\n",
        "        self.val = val\n",
        "        self.next = next\n",
        "\n",
        "class Solution:\n",
        "    def isPalindrome(self, head: ListNode) -> bool:\n",
        "        slow = fast = head\n",
        "        stack = []\n",
        "        while fast and fast.next:\n",
        "            stack.append(slow.val)\n",
        "            slow = slow.next\n",
        "            fast = fast.next.next\n",
        "        if fast:\n",
        "            slow = slow.next\n",
        "\n",
        "        while slow:\n",
        "            top = stack.pop()\n",
        "            if top != slow.val:\n",
        "                return False\n",
        "            slow = slow.next\n",
        "\n",
        "        return True\n",
        "\n",
        "head = ListNode(1)\n",
        "head.next = ListNode(2)\n",
        "head.next.next = ListNode(2)\n",
        "head.next.next.next = ListNode(1)\n",
        "\n",
        "solution = Solution()\n"
      ],
      "metadata": {
        "id": "wD6ZvR7EmiKc"
      },
      "execution_count": null,
      "outputs": []
    },
    {
      "cell_type": "markdown",
      "source": [
        "235번"
      ],
      "metadata": {
        "id": "EDraU6nAmiwf"
      }
    },
    {
      "cell_type": "code",
      "source": [
        "class TreeNode:\n",
        "    def __init__(self, val=0, left=None, right=None):\n",
        "        self.val = val\n",
        "        self.left = left\n",
        "        self.right = right\n",
        "\n",
        "class Solution:\n",
        "    def lowestCommonAncestor(self, root: TreeNode, p: TreeNode, q: TreeNode) -> TreeNode:\n",
        "        while root:\n",
        "            if p.val < root.val and q.val < root.val:\n",
        "                root = root.left\n",
        "            elif p.val > root.val and q.val > root.val:\n",
        "                root = root.right\n",
        "            else:\n",
        "                return root\n",
        "\n",
        "\n",
        "root = TreeNode(6)\n",
        "root.left = TreeNode(2)\n",
        "root.right = TreeNode(8)\n",
        "root.left.left = TreeNode(0)\n",
        "root.left.right = TreeNode(4)\n",
        "root.left.right.left = TreeNode(3)\n",
        "root.left.right.right = TreeNode(5)\n",
        "root.right.left = TreeNode(7)\n",
        "root.right.right = TreeNode(9)\n",
        "\n",
        "solution = Solution()\n",
        "p = root.left\n",
        "q = root.left.right"
      ],
      "metadata": {
        "id": "JRAh2bu3mq77"
      },
      "execution_count": null,
      "outputs": []
    },
    {
      "cell_type": "markdown",
      "source": [
        "236번"
      ],
      "metadata": {
        "id": "rF9acQWGmr7j"
      }
    },
    {
      "cell_type": "code",
      "source": [
        "class TreeNode:\n",
        "    def __init__(self, val=0, left=None, right=None):\n",
        "        self.val = val\n",
        "        self.left = left\n",
        "        self.right = right\n",
        "\n",
        "class Solution:\n",
        "    def lowestCommonAncestor(self, root: TreeNode, p: TreeNode, q: TreeNode) -> TreeNode:\n",
        "        if not root or root == p or root == q:\n",
        "            return root\n",
        "\n",
        "        left = self.lowestCommonAncestor(root.left, p, q)\n",
        "        right = self.lowestCommonAncestor(root.right, p, q)\n",
        "\n",
        "        if left and right:\n",
        "            return root\n",
        "\n",
        "        return left if left else right\n",
        "\n",
        "\n",
        "\n",
        "root = TreeNode(3)\n",
        "root.left = TreeNode(5)\n",
        "root.right = TreeNode(1)\n",
        "root.left.left = TreeNode(6)\n",
        "root.left.right = TreeNode(2)\n",
        "root.left.right.left = TreeNode(7)\n",
        "root.left.right.right = TreeNode(4)\n",
        "root.right.left = TreeNode(0)\n",
        "root.right.right = TreeNode(8)\n",
        "\n",
        "solution = Solution()\n",
        "p = root.left\n",
        "q = root.left.right.right\n"
      ],
      "metadata": {
        "id": "pdQIaZ27m73A"
      },
      "execution_count": null,
      "outputs": []
    },
    {
      "cell_type": "markdown",
      "source": [
        "237번"
      ],
      "metadata": {
        "id": "rVZKWjNcm8YM"
      }
    },
    {
      "cell_type": "code",
      "source": [
        "class ListNode:\n",
        "    def __init__(self, val=0, next=None):\n",
        "        self.val = val\n",
        "        self.next = next\n",
        "\n",
        "class Solution:\n",
        "    def deleteNode(self, node):\n",
        "        node.val = node.next.val\n",
        "        node.next = node.next.next\n",
        "\n",
        "head = ListNode(4)\n",
        "head.next = ListNode(5)\n",
        "head.next.next = ListNode(1)\n",
        "head.next.next.next = ListNode(9)\n",
        "\n",
        "solution = Solution()\n",
        "node_to_delete = head.next\n",
        "solution.deleteNode(node_to_delete)\n",
        "\n",
        "def print_list(node):\n",
        "    while node:\n",
        "        print(node.val, end=' -> ')\n",
        "        node = node.next\n",
        "    print('None')\n",
        "\n"
      ],
      "metadata": {
        "id": "HY0uSQV-nMVi"
      },
      "execution_count": null,
      "outputs": []
    },
    {
      "cell_type": "markdown",
      "source": [
        "238번"
      ],
      "metadata": {
        "id": "loarkzI6nNLZ"
      }
    },
    {
      "cell_type": "code",
      "source": [
        "class Solution:\n",
        "    def productExceptSelf(self, nums: list[int]) -> list[int]:\n",
        "        length = len(nums)\n",
        "\n",
        "        answer = [1] * length\n",
        "\n",
        "        left_product = 1\n",
        "        for i in range(length):\n",
        "            answer[i] = left_product\n",
        "            left_product *= nums[i]\n",
        "\n",
        "        right_product = 1\n",
        "        for i in range(length - 1, -1, -1):\n",
        "            answer[i] *= right_product\n",
        "            right_product *= nums[i]\n",
        "\n",
        "        return answer\n",
        "\n",
        "solution = Solution()\n"
      ],
      "metadata": {
        "id": "Xb6WFylLnQJV"
      },
      "execution_count": null,
      "outputs": []
    },
    {
      "cell_type": "markdown",
      "source": [
        "240번"
      ],
      "metadata": {
        "id": "MCCss_p2nTiz"
      }
    },
    {
      "cell_type": "code",
      "source": [
        "class Solution:\n",
        "    def searchMatrix(self, matrix: list[list[int]], target: int) -> bool:\n",
        "        if not matrix or not matrix[0]:\n",
        "            return False\n",
        "\n",
        "        rows, cols = len(matrix), len(matrix[0])\n",
        "        row, col = 0, cols - 1\n",
        "\n",
        "        while row < rows and col >= 0:\n",
        "            if matrix[row][col] == target:\n",
        "                return True\n",
        "            elif matrix[row][col] > target:\n",
        "                col -= 1\n",
        "            else:\n",
        "                row += 1\n",
        "\n",
        "        return False\n",
        "\n",
        "solution = Solution()"
      ],
      "metadata": {
        "id": "D9SF032oneZ2"
      },
      "execution_count": null,
      "outputs": []
    },
    {
      "cell_type": "markdown",
      "source": [
        "241번"
      ],
      "metadata": {
        "id": "1YXYZGPvne7A"
      }
    },
    {
      "cell_type": "code",
      "source": [
        "class Solution:\n",
        "    def diffWaysToCompute(self, expression: str) -> list[int]:\n",
        "        memo = {}\n",
        "\n",
        "        def ways(expression):\n",
        "            if expression in memo:\n",
        "                return memo[expression]\n",
        "\n",
        "            results = []\n",
        "            for i, char in enumerate(expression):\n",
        "                if char in \"+-*\":\n",
        "                    left = ways(expression[:i])\n",
        "                    right = ways(expression[i + 1:])\n",
        "                    for l in left:\n",
        "                        for r in right:\n",
        "                            if char == '+':\n",
        "                                results.append(l + r)\n",
        "                            elif char == '-':\n",
        "                                results.append(l - r)\n",
        "                            elif char == '*':\n",
        "                                results.append(l * r)\n",
        "\n",
        "            if not results:\n",
        "                results.append(int(expression))\n",
        "\n",
        "            memo[expression] = results\n",
        "            return results\n",
        "\n",
        "        return ways(expression)\n",
        "\n",
        "solution = Solution()\n"
      ],
      "metadata": {
        "id": "e0SuCo1hnn1z"
      },
      "execution_count": null,
      "outputs": []
    },
    {
      "cell_type": "markdown",
      "source": [
        "257번"
      ],
      "metadata": {
        "id": "S0moDQ3wnoXU"
      }
    },
    {
      "cell_type": "code",
      "source": [
        "class TreeNode:\n",
        "    def __init__(self, val=0, left=None, right=None):\n",
        "        self.val = val\n",
        "        self.left = left\n",
        "        self.right = right\n",
        "\n",
        "class Solution:\n",
        "    def binaryTreePaths(self, root: TreeNode) -> list[str]:\n",
        "        def construct_paths(node, path):\n",
        "            if node:\n",
        "                path += str(node.val)\n",
        "                if not node.left and not node.right:\n",
        "                    paths.append(path)\n",
        "                else:\n",
        "                    path += '->'\n",
        "                    construct_paths(node.left, path)\n",
        "                    construct_paths(node.right, path)\n",
        "\n",
        "        paths = []\n",
        "        construct_paths(root, \"\")\n",
        "        return paths\n",
        "\n",
        "\n",
        "root = TreeNode(1)\n",
        "root.left = TreeNode(2)\n",
        "root.right = TreeNode(3)\n",
        "root.left.right = TreeNode(5)\n",
        "\n",
        "solution = Solution()\n"
      ],
      "metadata": {
        "id": "DZLPPsG3nvTA"
      },
      "execution_count": null,
      "outputs": []
    },
    {
      "cell_type": "markdown",
      "source": [
        "258번"
      ],
      "metadata": {
        "id": "DD_7K1B_nv5p"
      }
    },
    {
      "cell_type": "code",
      "source": [
        "class Solution:\n",
        "    def addDigits(self, num: int) -> int:\n",
        "        if num == 0:\n",
        "            return 0\n",
        "        if num % 9 == 0:\n",
        "            return 9\n",
        "        else:\n",
        "            return num % 9\n",
        "\n",
        "solution = Solution()\n"
      ],
      "metadata": {
        "id": "XbyhW8uznzDU"
      },
      "execution_count": null,
      "outputs": []
    },
    {
      "cell_type": "markdown",
      "source": [
        "326번"
      ],
      "metadata": {
        "id": "zMFuoUUpn1ZA"
      }
    },
    {
      "cell_type": "code",
      "source": [
        "class Solution:\n",
        "    def isPowerOfThree(self, n: int) -> bool:\n",
        "        if n <= 0:\n",
        "            return False\n",
        "        while n % 3 == 0:\n",
        "            n //= 3\n",
        "        return n == 1\n",
        "\n",
        "solution = Solution()\n"
      ],
      "metadata": {
        "id": "NAe70Mf1n9ln"
      },
      "execution_count": null,
      "outputs": []
    },
    {
      "cell_type": "markdown",
      "source": [
        "328번"
      ],
      "metadata": {
        "id": "0eohhKOin-IA"
      }
    },
    {
      "cell_type": "code",
      "source": [
        "class Solution:\n",
        "    def isPowerOfThree(self, n: int) -> bool:\n",
        "        if n <= 0:\n",
        "            return False\n",
        "        while n % 3 == 0:\n",
        "            n //= 3\n",
        "        return n == 1\n",
        "\n",
        "solution = Solution()\n"
      ],
      "metadata": {
        "id": "aWBlMyiloD9K"
      },
      "execution_count": null,
      "outputs": []
    },
    {
      "cell_type": "markdown",
      "source": [
        "331번"
      ],
      "metadata": {
        "id": "nUIMZeJYoEbu"
      }
    },
    {
      "cell_type": "code",
      "source": [
        "class Solution:\n",
        "    def isValidSerialization(self, preorder: str) -> bool:\n",
        "        nodes = preorder.split(',')\n",
        "        slots = 1\n",
        "\n",
        "        for node in nodes:\n",
        "            slots -= 1\n",
        "\n",
        "            if slots < 0:\n",
        "                return False\n",
        "\n",
        "            if node != '#':\n",
        "                slots += 2\n",
        "\n",
        "        return slots == 0\n",
        "\n",
        "solution = Solution()\n"
      ],
      "metadata": {
        "id": "cCQOMNAuoLT-"
      },
      "execution_count": null,
      "outputs": []
    },
    {
      "cell_type": "markdown",
      "source": [
        "334번"
      ],
      "metadata": {
        "id": "k9AqHtVEoL2Y"
      }
    },
    {
      "cell_type": "code",
      "source": [
        "class Solution:\n",
        "    def increasingTriplet(self, nums: list[int]) -> bool:\n",
        "        first = second = float('inf')\n",
        "\n",
        "        for num in nums:\n",
        "            if num <= first:\n",
        "                first = num\n",
        "            elif num <= second:\n",
        "                second = num\n",
        "            else:\n",
        "\n",
        "                return True\n",
        "\n",
        "        return False\n",
        "\n",
        "\n",
        "solution = Solution()\n"
      ],
      "metadata": {
        "id": "Xw40eUjQoTMT"
      },
      "execution_count": null,
      "outputs": []
    },
    {
      "cell_type": "markdown",
      "source": [
        "337번"
      ],
      "metadata": {
        "id": "gFJ837kHoT6-"
      }
    },
    {
      "cell_type": "code",
      "source": [
        "class TreeNode:\n",
        "    def __init__(self, val=0, left=None, right=None):\n",
        "        self.val = val\n",
        "        self.left = left\n",
        "        self.right = right\n",
        "\n",
        "class Solution:\n",
        "    def rob(self, root: TreeNode) -> int:\n",
        "        def rob_subtree(node):\n",
        "            if not node:\n",
        "                return (0, 0)\n",
        "\n",
        "            left = rob_subtree(node.left)\n",
        "            right = rob_subtree(node.right)\n",
        "\n",
        "            rob_this = node.val + left[1] + right[1]\n",
        "\n",
        "            not_rob_this = max(left) + max(right)\n",
        "\n",
        "            return (rob_this, not_rob_this)\n",
        "\n",
        "        return max(rob_subtree(root))\n",
        "\n",
        "\n",
        "root = TreeNode(3)\n",
        "root.left = TreeNode(2)\n",
        "root.right = TreeNode(3)\n",
        "root.left.right = TreeNode(3)\n",
        "root.right.right = TreeNode(1)\n",
        "\n",
        "solution = Solution()\n"
      ],
      "metadata": {
        "id": "6pGHuXBLoaiq"
      },
      "execution_count": null,
      "outputs": []
    },
    {
      "cell_type": "markdown",
      "source": [
        "338번"
      ],
      "metadata": {
        "id": "ZLFDFaC8obF3"
      }
    },
    {
      "cell_type": "code",
      "source": [
        "class Solution:\n",
        "    def countBits(self, n: int) -> list[int]:\n",
        "        result = [0] * (n + 1)\n",
        "\n",
        "        for i in range(1, n + 1):\n",
        "            result[i] = result[i >> 1] + (i & 1)\n",
        "\n",
        "        return result\n",
        "\n",
        "solution = Solution()\n"
      ],
      "metadata": {
        "id": "tjJVdo2Mof53"
      },
      "execution_count": null,
      "outputs": []
    },
    {
      "cell_type": "markdown",
      "source": [
        "342번"
      ],
      "metadata": {
        "id": "7EGOVOY7ogY1"
      }
    },
    {
      "cell_type": "code",
      "source": [
        "class Solution:\n",
        "    def isPowerOfFour(self, n: int) -> bool:\n",
        "        if n <= 0:\n",
        "            return False\n",
        "        if (n & (n - 1)) != 0:\n",
        "            return False\n",
        "        return (n & 0x55555555) != 0\n",
        "\n",
        "solution = Solution()"
      ],
      "metadata": {
        "id": "n4BOs32rolIG"
      },
      "execution_count": null,
      "outputs": []
    },
    {
      "cell_type": "markdown",
      "source": [
        "343번"
      ],
      "metadata": {
        "id": "dRLS_xUZolqg"
      }
    },
    {
      "cell_type": "code",
      "source": [
        "class Solution:\n",
        "    def integerBreak(self, n: int) -> int:\n",
        "        if n == 2:\n",
        "            return 1\n",
        "        if n == 3:\n",
        "            return 2\n",
        "\n",
        "        dp = [0] * (n + 1)\n",
        "        dp[1], dp[2], dp[3] = 1, 2, 3\n",
        "\n",
        "        for i in range(4, n + 1):\n",
        "            dp[i] = max(dp[i], 2 * dp[i - 2], 3 * dp[i - 3])\n",
        "\n",
        "        return dp[n]\n",
        "\n",
        "solution = Solution()"
      ],
      "metadata": {
        "id": "uCRCenSdop7Y"
      },
      "execution_count": null,
      "outputs": []
    },
    {
      "cell_type": "markdown",
      "source": [
        "371번"
      ],
      "metadata": {
        "id": "hh5x5K_loqrV"
      }
    },
    {
      "cell_type": "code",
      "source": [
        "class Solution:\n",
        "    def getSum(self, a: int, b: int) -> int:\n",
        "        MASK = 0xFFFFFFFF\n",
        "        MAX_INT = 0x7FFFFFFF\n",
        "\n",
        "        while b != 0:\n",
        "            a, b = (a ^ b) & MASK, ((a & b) << 1) & MASK\n",
        "\n",
        "        return a if a <= MAX_INT else ~(a ^ MASK)\n",
        "\n",
        "solution = Solution()\n"
      ],
      "metadata": {
        "id": "67JAICyvoxqA"
      },
      "execution_count": null,
      "outputs": []
    },
    {
      "cell_type": "markdown",
      "source": [
        "372번"
      ],
      "metadata": {
        "id": "pkSgl_UwoyLD"
      }
    },
    {
      "cell_type": "code",
      "source": [
        "class Solution:\n",
        "    def superPow(self, a: int, b: list[int]) -> int:\n",
        "        MOD = 1337\n",
        "\n",
        "        def modPow(x, n, mod):\n",
        "            if n == 0:\n",
        "                return 1\n",
        "            x %= mod\n",
        "            half = modPow(x, n // 2, mod)\n",
        "            if n % 2 == 0:\n",
        "                return (half * half) % mod\n",
        "            else:\n",
        "                return (half * half * x) % mod\n",
        "\n",
        "        result = 1\n",
        "        for digit in b:\n",
        "            result = modPow(result, 10, MOD) * modPow(a, digit, MOD) % MOD\n",
        "        return result\n",
        "\n",
        "solution = Solution()\n"
      ],
      "metadata": {
        "id": "HdFDs2SFo249"
      },
      "execution_count": null,
      "outputs": []
    },
    {
      "cell_type": "markdown",
      "source": [
        "373번"
      ],
      "metadata": {
        "id": "3iWq-Gs_o3cN"
      }
    },
    {
      "cell_type": "code",
      "source": [
        "import heapq\n",
        "\n",
        "class Solution:\n",
        "    def kSmallestPairs(self, nums1: list[int], nums2: list[int], k: int) -> list[list[int]]:\n",
        "        if not nums1 or not nums2 or k == 0:\n",
        "            return []\n",
        "\n",
        "        min_heap = []\n",
        "        result = []\n",
        "        for i in range(min(k, len(nums2))):\n",
        "            heapq.heappush(min_heap, (nums1[0] + nums2[i], 0, i))\n",
        "\n",
        "        while min_heap and len(result) < k:\n",
        "            current_sum, i, j = heapq.heappop(min_heap)\n",
        "            result.append([nums1[i], nums2[j]])\n",
        "\n",
        "            if i + 1 < len(nums1):\n",
        "                heapq.heappush(min_heap, (nums1[i + 1] + nums2[j], i + 1, j))\n",
        "\n",
        "        return result\n",
        "\n",
        "solution = Solution()\n"
      ],
      "metadata": {
        "id": "RVbBS8ULo8zx"
      },
      "execution_count": null,
      "outputs": []
    },
    {
      "cell_type": "markdown",
      "source": [
        "374번"
      ],
      "metadata": {
        "id": "QerQU-wVo9TD"
      }
    },
    {
      "cell_type": "code",
      "source": [
        "def guess(num: int) -> int:\n",
        "    hidden_number = 6\n",
        "    if num < hidden_number:\n",
        "        return 1\n",
        "    elif num > hidden_number:\n",
        "        return -1\n",
        "    else:\n",
        "        return 0\n",
        "\n",
        "class Solution:\n",
        "    def guessNumber(self, n: int) -> int:\n",
        "        low, high = 1, n\n",
        "        while low <= high:\n",
        "            mid = (low + high) // 2\n",
        "            res = guess(mid)\n",
        "            if res == 0:\n",
        "                return mid\n",
        "            elif res < 0:\n",
        "                high = mid - 1\n",
        "            else:\n",
        "                low = mid + 1\n",
        "        return -1\n",
        "solution = Solution()\n"
      ],
      "metadata": {
        "id": "oyu4e339pCCK"
      },
      "execution_count": null,
      "outputs": []
    },
    {
      "cell_type": "markdown",
      "source": [
        "375번"
      ],
      "metadata": {
        "id": "piV7-93xpCv6"
      }
    },
    {
      "cell_type": "code",
      "source": [
        "class Solution:\n",
        "    def getMoneyAmount(self, n: int) -> int:\n",
        "        dp = [[0] * (n + 1) for _ in range(n + 1)]\n",
        "\n",
        "        for length in range(2, n + 1):\n",
        "            for start in range(1, n - length + 2):\n",
        "                min_cost = float('inf')\n",
        "                for piv in range(start, start + length - 1):\n",
        "                    cost = piv + max(dp[start][piv - 1], dp[piv + 1][start + length - 1])\n",
        "                    min_cost = min(min_cost, cost)\n",
        "                dp[start][start + length - 1] = min_cost\n",
        "\n",
        "        return dp[1][n]\n",
        "\n",
        "solution = Solution()\n"
      ],
      "metadata": {
        "id": "ybhJxaw0pIJ0"
      },
      "execution_count": null,
      "outputs": []
    },
    {
      "cell_type": "markdown",
      "source": [
        "376번"
      ],
      "metadata": {
        "id": "Yxmjj1sLpIqV"
      }
    },
    {
      "cell_type": "code",
      "source": [
        "class Solution:\n",
        "    def wiggleMaxLength(self, nums: list[int]) -> int:\n",
        "        if len(nums) < 2:\n",
        "            return len(nums)\n",
        "\n",
        "        up = down = 1\n",
        "\n",
        "        for i in range(1, len(nums)):\n",
        "            if nums[i] > nums[i - 1]:\n",
        "                up = down + 1\n",
        "            elif nums[i] < nums[i - 1]:\n",
        "                down = up + 1\n",
        "\n",
        "        return max(up, down)\n",
        "\n",
        "solution = Solution()\n"
      ],
      "metadata": {
        "id": "LMQAbPKkpN6M"
      },
      "execution_count": null,
      "outputs": []
    },
    {
      "cell_type": "markdown",
      "source": [
        "377번"
      ],
      "metadata": {
        "id": "0aTNstEvpOcc"
      }
    },
    {
      "cell_type": "code",
      "source": [
        "class Solution:\n",
        "    def combinationSum4(self, nums: list[int], target: int) -> int:\n",
        "        dp = [0] * (target + 1)\n",
        "        dp[0] = 1\n",
        "\n",
        "        for i in range(1, target + 1):\n",
        "            for num in nums:\n",
        "                if i - num >= 0:\n",
        "                    dp[i] += dp[i - num]\n",
        "\n",
        "        return dp[target]\n",
        "\n",
        "solution = Solution()\n"
      ],
      "metadata": {
        "id": "Mj0tiVndpTkm"
      },
      "execution_count": null,
      "outputs": []
    },
    {
      "cell_type": "markdown",
      "source": [
        "378번"
      ],
      "metadata": {
        "id": "7VoGPKMUpUHJ"
      }
    },
    {
      "cell_type": "code",
      "source": [
        "import heapq\n",
        "\n",
        "class Solution:\n",
        "    def kthSmallest(self, matrix: list[list[int]], k: int) -> int:\n",
        "        n = len(matrix)\n",
        "        min_heap = []\n",
        "        for r in range(min(k, n)):\n",
        "            heapq.heappush(min_heap, (matrix[r][0], r, 0))\n",
        "        for _ in range(k - 1):\n",
        "            element, r, c = heapq.heappop(min_heap)\n",
        "            if c + 1 < n:\n",
        "                heapq.heappush(min_heap, (matrix[r][c + 1], r, c + 1))\n",
        "\n",
        "        return heapq.heappop(min_heap)[0]\n",
        "\n",
        "solution = Solution()\n"
      ],
      "metadata": {
        "id": "QscoIZGZpZZP"
      },
      "execution_count": null,
      "outputs": []
    },
    {
      "cell_type": "markdown",
      "source": [
        "380번"
      ],
      "metadata": {
        "id": "GUsIif8KpZ7o"
      }
    },
    {
      "cell_type": "code",
      "source": [
        "import random\n",
        "\n",
        "class RandomizedSet:\n",
        "\n",
        "    def __init__(self):\n",
        "        self.num_list = []\n",
        "        self.num_dict = {}\n",
        "\n",
        "    def insert(self, val: int) -> bool:\n",
        "        if val in self.num_dict:\n",
        "            return False\n",
        "        self.num_dict[val] = len(self.num_list)\n",
        "        self.num_list.append(val)\n",
        "        return True\n",
        "\n",
        "    def remove(self, val: int) -> bool:\n",
        "        if val not in self.num_dict:\n",
        "            return False\n",
        "        last_element = self.num_list[-1]\n",
        "        idx_to_remove = self.num_dict[val]\n",
        "        self.num_list[idx_to_remove] = last_element\n",
        "        self.num_dict[last_element] = idx_to_remove\n",
        "        self.num_list.pop()\n",
        "        del self.num_dict[val]\n",
        "        return True\n",
        "\n",
        "    def getRandom(self) -> int:\n",
        "        return random.choice(self.num_list)\n",
        "\n",
        "random_set = RandomizedSet()\n"
      ],
      "metadata": {
        "id": "rBJ9kyQwpeGc"
      },
      "execution_count": null,
      "outputs": []
    },
    {
      "cell_type": "markdown",
      "source": [
        "382번"
      ],
      "metadata": {
        "id": "uLISbr-ppeli"
      }
    },
    {
      "cell_type": "code",
      "source": [
        "import random\n",
        "\n",
        "class ListNode:\n",
        "    def __init__(self, x: int = 0, next: 'ListNode' = None):\n",
        "        self.val = x\n",
        "        self.next = next\n",
        "\n",
        "class Solution:\n",
        "    def __init__(self, head: ListNode):\n",
        "        self.head = head\n",
        "\n",
        "    def getRandom(self) -> int:\n",
        "        result, node, index = self.head, self.head.next, 1\n",
        "\n",
        "        while node:\n",
        "            if random.randint(0, index) == 0:\n",
        "                result = node\n",
        "            node = node.next\n",
        "            index += 1\n",
        "\n",
        "        return result.val\n",
        "\n",
        "head = ListNode(1)\n",
        "head.next = ListNode(2)\n",
        "head.next.next = ListNode(3)\n",
        "\n",
        "solution = Solution(head)\n"
      ],
      "metadata": {
        "id": "hcVWER7HpjiK"
      },
      "execution_count": null,
      "outputs": []
    },
    {
      "cell_type": "markdown",
      "source": [
        "383번"
      ],
      "metadata": {
        "id": "bMun10kHpkB5"
      }
    },
    {
      "cell_type": "code",
      "source": [
        "from collections import Counter\n",
        "\n",
        "class Solution:\n",
        "    def canConstruct(self, ransomNote: str, magazine: str) -> bool:\n",
        "        ransom_counter = Counter(ransomNote)\n",
        "        magazine_counter = Counter(magazine)\n",
        "\n",
        "        for char, count in ransom_counter.items():\n",
        "            if magazine_counter[char] < count:\n",
        "                return False\n",
        "\n",
        "        return True\n",
        "\n",
        "solution = Solution()\n"
      ],
      "metadata": {
        "id": "BXXxUTiSpn03"
      },
      "execution_count": null,
      "outputs": []
    },
    {
      "cell_type": "markdown",
      "source": [
        "384번"
      ],
      "metadata": {
        "id": "lCs9YHZWpoc7"
      }
    },
    {
      "cell_type": "code",
      "source": [
        "import random\n",
        "\n",
        "class Solution:\n",
        "\n",
        "    def __init__(self, nums: list[int]):\n",
        "        self.original = nums[:]\n",
        "        self.array = nums[:]\n",
        "\n",
        "    def reset(self) -> list[int]:\n",
        "        self.array = self.original[:]\n",
        "        return self.array\n",
        "\n",
        "    def shuffle(self) -> list[int]:\n",
        "        for i in range(len(self.array)):\n",
        "            swap_idx = random.randint(i, len(self.array) - 1)\n",
        "            self.array[i], self.array[swap_idx] = self.array[swap_idx], self.array[i]\n",
        "        return self.array\n",
        "\n",
        "nums = [1, 2, 3]\n",
        "solution = Solution(nums)\n"
      ],
      "metadata": {
        "id": "Y2cgCrURptE3"
      },
      "execution_count": null,
      "outputs": []
    },
    {
      "cell_type": "markdown",
      "source": [
        "386번"
      ],
      "metadata": {
        "id": "RIXLUfAvptoM"
      }
    },
    {
      "cell_type": "code",
      "source": [
        "class Solution:\n",
        "    def lexicalOrder(self, n: int) -> list[int]:\n",
        "        result = []\n",
        "\n",
        "        def dfs(current):\n",
        "            if current > n:\n",
        "                return\n",
        "            result.append(current)\n",
        "            for i in range(10):\n",
        "                next_num = current * 10 + i\n",
        "                if next_num > n:\n",
        "                    break\n",
        "                dfs(next_num)\n",
        "\n",
        "        for i in range(1, 10):\n",
        "            dfs(i)\n",
        "\n",
        "        return result\n",
        "\n",
        "solution = Solution()"
      ],
      "metadata": {
        "id": "YJiE5HLIpxl9"
      },
      "execution_count": null,
      "outputs": []
    },
    {
      "cell_type": "markdown",
      "source": [
        "387번"
      ],
      "metadata": {
        "id": "I0nuqwJDpyHC"
      }
    },
    {
      "cell_type": "code",
      "source": [
        "from collections import Counter\n",
        "\n",
        "class Solution:\n",
        "    def firstUniqChar(self, s: str) -> int:\n",
        "        count = Counter(s)\n",
        "        for idx, char in enumerate(s):\n",
        "            if count[char] == 1:\n",
        "                return idx\n",
        "\n",
        "        return -1\n",
        "\n",
        "solution = Solution()\n"
      ],
      "metadata": {
        "id": "C-x6CTVkp10d"
      },
      "execution_count": null,
      "outputs": []
    },
    {
      "cell_type": "markdown",
      "source": [
        "388번"
      ],
      "metadata": {
        "id": "XMVqyfcbp2PN"
      }
    },
    {
      "cell_type": "code",
      "source": [
        "class Solution:\n",
        "    def lengthLongestPath(self, input: str) -> int:\n",
        "        max_len = 0\n",
        "        path_len = {0: 0}\n",
        "\n",
        "        for line in input.splitlines():\n",
        "            name = line.lstrip('\\t')\n",
        "            depth = len(line) - len(name)\n",
        "\n",
        "            if '.' in name:\n",
        "                max_len = max(max_len, path_len[depth] + len(name))\n",
        "            else:\n",
        "                path_len[depth + 1] = path_len[depth] + len(name) + 1\n",
        "\n",
        "        return max_len\n",
        "\n",
        "solution = Solution()\n"
      ],
      "metadata": {
        "id": "a-KMSi6vp6Bq"
      },
      "execution_count": null,
      "outputs": []
    },
    {
      "cell_type": "markdown",
      "source": [
        "389번"
      ],
      "metadata": {
        "id": "p3YgH-rJp6iZ"
      }
    },
    {
      "cell_type": "code",
      "source": [
        "from collections import Counter\n",
        "\n",
        "class Solution:\n",
        "    def findTheDifference(self, s: str, t: str) -> str:\n",
        "        count_s = Counter(s)\n",
        "        count_t = Counter(t)\n",
        "\n",
        "        for char in count_t:\n",
        "            if count_t[char] != count_s.get(char, 0):\n",
        "                return char\n",
        "\n",
        "solution = Solution()\n"
      ],
      "metadata": {
        "id": "6kIPlD7lp9gb"
      },
      "execution_count": null,
      "outputs": []
    },
    {
      "cell_type": "markdown",
      "source": [
        "390번"
      ],
      "metadata": {
        "id": "WCRuPHG0p9_6"
      }
    },
    {
      "cell_type": "code",
      "source": [
        "class Solution:\n",
        "    def lastRemaining(self, n: int) -> int:\n",
        "        left = True\n",
        "        remaining = n\n",
        "        step = 1\n",
        "        head = 1\n",
        "\n",
        "        while remaining > 1:\n",
        "            if left or remaining % 2 == 1:\n",
        "                head += step\n",
        "            remaining //= 2\n",
        "            step *= 2\n",
        "            left = not left\n",
        "\n",
        "        return head\n",
        "solution = Solution()\n"
      ],
      "metadata": {
        "id": "DuLcpVsiqBMp"
      },
      "execution_count": null,
      "outputs": []
    },
    {
      "cell_type": "markdown",
      "source": [
        "392번"
      ],
      "metadata": {
        "id": "vWIoaQIKqBqW"
      }
    },
    {
      "cell_type": "code",
      "source": [
        "class Solution:\n",
        "    def isSubsequence(self, s: str, t: str) -> bool:\n",
        "        s_len, t_len = len(s), len(t)\n",
        "        s_index, t_index = 0, 0\n",
        "\n",
        "        while s_index < s_len and t_index < t_len:\n",
        "            if s[s_index] == t[t_index]:\n",
        "                s_index += 1\n",
        "            t_index += 1\n",
        "\n",
        "        return s_index == s_len\n",
        "\n",
        "solution = Solution()\n"
      ],
      "metadata": {
        "id": "J92734QWqE5Z"
      },
      "execution_count": null,
      "outputs": []
    },
    {
      "cell_type": "markdown",
      "source": [],
      "metadata": {
        "id": "x28IROF9qFcG"
      }
    }
  ]
}